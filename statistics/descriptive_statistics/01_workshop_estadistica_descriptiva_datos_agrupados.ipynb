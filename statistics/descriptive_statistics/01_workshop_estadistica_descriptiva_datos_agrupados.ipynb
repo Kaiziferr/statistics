{
  "nbformat": 4,
  "nbformat_minor": 0,
  "metadata": {
    "colab": {
      "name": "01_workshop_estadistica_descriptiva_datos_agrupados.ipynb",
      "provenance": [],
      "collapsed_sections": [],
      "authorship_tag": "ABX9TyON9VtOXCZD1o2VFD5E7kJz",
      "include_colab_link": true
    },
    "kernelspec": {
      "name": "python3",
      "display_name": "Python 3"
    },
    "language_info": {
      "name": "python"
    }
  },
  "cells": [
    {
      "cell_type": "markdown",
      "metadata": {
        "id": "view-in-github",
        "colab_type": "text"
      },
      "source": [
        "<a href=\"https://colab.research.google.com/github/Kaiziferr/statistics/blob/main/statistics/descriptive_statistics/01_workshop_estadistica_descriptiva_datos_agrupados.ipynb\" target=\"_parent\"><img src=\"https://colab.research.google.com/assets/colab-badge.svg\" alt=\"Open In Colab\"/></a>"
      ]
    },
    {
      "cell_type": "markdown",
      "source": [
        "# **Tabla de frecuencia**\n",
        "---"
      ],
      "metadata": {
        "id": "oY2ovz0v5HmE"
      }
    },
    {
      "cell_type": "code",
      "source": [
        "import pandas as pd\n",
        "import numpy as np\n",
        "import matplotlib.pyplot as plt\n",
        "import seaborn as sns\n",
        "import warnings"
      ],
      "metadata": {
        "id": "JwCudKftdf6R"
      },
      "execution_count": 1,
      "outputs": []
    },
    {
      "cell_type": "markdown",
      "source": [
        "## **Problema II**\n",
        "---\n",
        "Suponga que un instituto técnico enfrenta problemas financieros y\n",
        "plantea un aumento en el costo de las matrículas. Es claro que ante\n",
        "un aumento del valor de la matrícula, los estudiantes que no tengan\n",
        "capacidad de pago pueden retirarse del instituto, lo que representa\n",
        "una perdida económica para este. Por esta razón es necesario que el\n",
        "instituto conozca el nivel de ingreso de los estudiantes para decidir\n",
        "sobre el aumento que no cause una deserción estudiantil.\n",
        "Con el fin de conocer el nivel de ingreso de los estudiantes, el instituto\n",
        "planteó una encuesta donde 126 estudiantes suministraron el valor de\n",
        "sus ingresos mensuales.\n",
        "\n"
      ],
      "metadata": {
        "id": "d7zSMqT65C1q"
      }
    },
    {
      "cell_type": "code",
      "source": [
        "data = [572.30,   748.10,   769.00,   839.00,   878.10,   955.50,   963.40,   965.70,   983.80,\n",
        "985.30,   1002.80,  1005.70,  1013.20,  1017.80,  1019.40,  1030.00,  1036.80,  1056.60,\n",
        "1061.20,  1067.20,  1075.70,  1081.80,  1100.80,  1102.00,  1120.70,  1127.10,  1135.40, \n",
        "1170.20,  1179.60,  1195.10,  1208.20,  1221.70,  1228.60,  1234.00,  1247.90,  1249.80,\n",
        "1272.00,  1274.70,  1299.80,  1304.00,  1312.90,  1340.80,  1350.30,  1352.90,  1374.80,\n",
        "1406.10,  1409.30,  1412.60,  1418.40,  1426.90,  1427.60,  1433.30,  1441.10,  1443.80,\n",
        "1459.50,  1460.10,  1477.60,  1484.90,  1491.70,  1500.20,  1500.60,  1500.60,  1506.40,\n",
        "1531.60,  1540.20,  1544.40,  1552.80,  1552.90,  1557.80,  1563.70,  1564.20,  1569.40,\n",
        "1581.30,  1593.40,  1594.80,  1595.20,  1605.20,  1620.60,  1626.80,  1626.80,  1648.20,\n",
        "1670.70,  1687.40,  1694.30,  1711.80,  1721.40,  1731.90,  1738.30,  1738.80,  1746.90,\n",
        "1777.90,  1817.00,  1846.70,  1851.70,  1857.50,  1891.80,  1898.10,  1901.40,  1930.80,\n",
        "1940.30,  1954.10,  1957.30,  1974.00,  1986.30,  2002.70,  2053.70,  2065.50,  2065.90,\n",
        "2107.70,  2114.00,  2120.40,  2136.80,  2212.50,  2265.80,  2273.70,  2280.20,  2297.00,\n",
        "2330.60,  2535.60,  2643.10,  2723.70,  2725.20,  2956.40,  3197.40,  3234.70,  3467.80]"
      ],
      "metadata": {
        "id": "9WknA_7lc8cX"
      },
      "execution_count": 2,
      "outputs": []
    },
    {
      "cell_type": "code",
      "source": [
        "def intervalos_clase(data_size:int)->tuple:\n",
        "  \"\"\"Calcula de tre formas el numero de intervalos\"\"\"\n",
        "  m1 = 1+3.3*np.log10(data_size)\n",
        "  m2 = np.log(data_size)/np.log(2)\n",
        "  m3 = np.sqrt(data_size)\n",
        "  m = int(np.ceil(min([m1, m2, m3])))\n",
        "  return m, m1, m2, m3 "
      ],
      "metadata": {
        "id": "Mw-5LlKxFjiZ"
      },
      "execution_count": 3,
      "outputs": []
    },
    {
      "cell_type": "code",
      "source": [
        "m, m1, m2, m3 = intervalos_clase(len(data))\n",
        "print(f'Metodo 1: {m1}\\nMetodo 2: {m2}\\nMetodo 3: {m3}')\n",
        "data = pd.Series(data)\n",
        "rango = data.max() - data.min()\n",
        "amplitud =  round(rango / m, 1)\n",
        "print(f\"Número de intervalos: {m}\", f\"Amplitud: {amplitud}\", sep=\"\\n\")"
      ],
      "metadata": {
        "id": "RV1a5Aag3RT-",
        "outputId": "25c796d4-4784-4796-9117-8bf297758d5c",
        "colab": {
          "base_uri": "https://localhost:8080/"
        }
      },
      "execution_count": 4,
      "outputs": [
        {
          "output_type": "stream",
          "name": "stdout",
          "text": [
            "Metodo 1: 7.931222798887958\n",
            "Metodo 2: 6.977279923499917\n",
            "Metodo 3: 11.224972160321824\n",
            "Número de intervalos: 7\n",
            "Amplitud: 413.6\n"
          ]
        }
      ]
    },
    {
      "cell_type": "code",
      "source": [
        "table_frecuency = pd.DataFrame(index=['1','2','3','4','5','6', '7'])\n",
        "xi = [round(min(data)+amplitud*i,3) if i!=m else data[-1:].values[0] for i in range(m+1) if i <= m ]\n",
        "table_frecuency['xi'] = [(xi[i],xi[i+1]) for i in range(m)]\n",
        "table_frecuency['ni'] = [data[data.between(table_frecuency['xi'][i][0], table_frecuency['xi'][i][1])].count() for i in range(m)]\n",
        "table_frecuency['fi'] = round(table_frecuency['ni']/len(data), 3)\n",
        "table_frecuency['Ni'] = table_frecuency['ni'].cumsum()\n",
        "table_frecuency['Fi'] = round(table_frecuency['fi'].cumsum(), 3)\n",
        "temp = pd.Series(table_frecuency['Fi'])\n",
        "temp[-1] = 1\n",
        "table_frecuency['Fi'] = temp\n",
        "table_frecuency[\"x'\"] = list(map(lambda x: round((x[0]+x[1])/2, 2) , table_frecuency['xi']))\n",
        "table_frecuency"
      ],
      "metadata": {
        "colab": {
          "base_uri": "https://localhost:8080/",
          "height": 269
        },
        "id": "CPR0JIN_sbgL",
        "outputId": "10bceca3-983c-45e4-8b2c-a5ca618ae68e"
      },
      "execution_count": 5,
      "outputs": [
        {
          "output_type": "execute_result",
          "data": {
            "text/plain": [
              "                 xi  ni     fi   Ni     Fi       x'\n",
              "1    (572.3, 985.9)  10  0.079   10  0.079   779.10\n",
              "2   (985.9, 1399.5)  35  0.278   45  0.357  1192.70\n",
              "3  (1399.5, 1813.1)  46  0.365   91  0.722  1606.30\n",
              "4  (1813.1, 2226.7)  22  0.175  113  0.897  2019.90\n",
              "5  (2226.7, 2640.3)   6  0.048  119  0.945  2433.50\n",
              "6  (2640.3, 3053.9)   4  0.032  123  0.977  2847.10\n",
              "7  (3053.9, 3467.8)   3  0.024  126  1.000  3260.85"
            ],
            "text/html": [
              "\n",
              "  <div id=\"df-5edfa300-9d46-4004-af53-6762f4f8b5a5\">\n",
              "    <div class=\"colab-df-container\">\n",
              "      <div>\n",
              "<style scoped>\n",
              "    .dataframe tbody tr th:only-of-type {\n",
              "        vertical-align: middle;\n",
              "    }\n",
              "\n",
              "    .dataframe tbody tr th {\n",
              "        vertical-align: top;\n",
              "    }\n",
              "\n",
              "    .dataframe thead th {\n",
              "        text-align: right;\n",
              "    }\n",
              "</style>\n",
              "<table border=\"1\" class=\"dataframe\">\n",
              "  <thead>\n",
              "    <tr style=\"text-align: right;\">\n",
              "      <th></th>\n",
              "      <th>xi</th>\n",
              "      <th>ni</th>\n",
              "      <th>fi</th>\n",
              "      <th>Ni</th>\n",
              "      <th>Fi</th>\n",
              "      <th>x'</th>\n",
              "    </tr>\n",
              "  </thead>\n",
              "  <tbody>\n",
              "    <tr>\n",
              "      <th>1</th>\n",
              "      <td>(572.3, 985.9)</td>\n",
              "      <td>10</td>\n",
              "      <td>0.079</td>\n",
              "      <td>10</td>\n",
              "      <td>0.079</td>\n",
              "      <td>779.10</td>\n",
              "    </tr>\n",
              "    <tr>\n",
              "      <th>2</th>\n",
              "      <td>(985.9, 1399.5)</td>\n",
              "      <td>35</td>\n",
              "      <td>0.278</td>\n",
              "      <td>45</td>\n",
              "      <td>0.357</td>\n",
              "      <td>1192.70</td>\n",
              "    </tr>\n",
              "    <tr>\n",
              "      <th>3</th>\n",
              "      <td>(1399.5, 1813.1)</td>\n",
              "      <td>46</td>\n",
              "      <td>0.365</td>\n",
              "      <td>91</td>\n",
              "      <td>0.722</td>\n",
              "      <td>1606.30</td>\n",
              "    </tr>\n",
              "    <tr>\n",
              "      <th>4</th>\n",
              "      <td>(1813.1, 2226.7)</td>\n",
              "      <td>22</td>\n",
              "      <td>0.175</td>\n",
              "      <td>113</td>\n",
              "      <td>0.897</td>\n",
              "      <td>2019.90</td>\n",
              "    </tr>\n",
              "    <tr>\n",
              "      <th>5</th>\n",
              "      <td>(2226.7, 2640.3)</td>\n",
              "      <td>6</td>\n",
              "      <td>0.048</td>\n",
              "      <td>119</td>\n",
              "      <td>0.945</td>\n",
              "      <td>2433.50</td>\n",
              "    </tr>\n",
              "    <tr>\n",
              "      <th>6</th>\n",
              "      <td>(2640.3, 3053.9)</td>\n",
              "      <td>4</td>\n",
              "      <td>0.032</td>\n",
              "      <td>123</td>\n",
              "      <td>0.977</td>\n",
              "      <td>2847.10</td>\n",
              "    </tr>\n",
              "    <tr>\n",
              "      <th>7</th>\n",
              "      <td>(3053.9, 3467.8)</td>\n",
              "      <td>3</td>\n",
              "      <td>0.024</td>\n",
              "      <td>126</td>\n",
              "      <td>1.000</td>\n",
              "      <td>3260.85</td>\n",
              "    </tr>\n",
              "  </tbody>\n",
              "</table>\n",
              "</div>\n",
              "      <button class=\"colab-df-convert\" onclick=\"convertToInteractive('df-5edfa300-9d46-4004-af53-6762f4f8b5a5')\"\n",
              "              title=\"Convert this dataframe to an interactive table.\"\n",
              "              style=\"display:none;\">\n",
              "        \n",
              "  <svg xmlns=\"http://www.w3.org/2000/svg\" height=\"24px\"viewBox=\"0 0 24 24\"\n",
              "       width=\"24px\">\n",
              "    <path d=\"M0 0h24v24H0V0z\" fill=\"none\"/>\n",
              "    <path d=\"M18.56 5.44l.94 2.06.94-2.06 2.06-.94-2.06-.94-.94-2.06-.94 2.06-2.06.94zm-11 1L8.5 8.5l.94-2.06 2.06-.94-2.06-.94L8.5 2.5l-.94 2.06-2.06.94zm10 10l.94 2.06.94-2.06 2.06-.94-2.06-.94-.94-2.06-.94 2.06-2.06.94z\"/><path d=\"M17.41 7.96l-1.37-1.37c-.4-.4-.92-.59-1.43-.59-.52 0-1.04.2-1.43.59L10.3 9.45l-7.72 7.72c-.78.78-.78 2.05 0 2.83L4 21.41c.39.39.9.59 1.41.59.51 0 1.02-.2 1.41-.59l7.78-7.78 2.81-2.81c.8-.78.8-2.07 0-2.86zM5.41 20L4 18.59l7.72-7.72 1.47 1.35L5.41 20z\"/>\n",
              "  </svg>\n",
              "      </button>\n",
              "      \n",
              "  <style>\n",
              "    .colab-df-container {\n",
              "      display:flex;\n",
              "      flex-wrap:wrap;\n",
              "      gap: 12px;\n",
              "    }\n",
              "\n",
              "    .colab-df-convert {\n",
              "      background-color: #E8F0FE;\n",
              "      border: none;\n",
              "      border-radius: 50%;\n",
              "      cursor: pointer;\n",
              "      display: none;\n",
              "      fill: #1967D2;\n",
              "      height: 32px;\n",
              "      padding: 0 0 0 0;\n",
              "      width: 32px;\n",
              "    }\n",
              "\n",
              "    .colab-df-convert:hover {\n",
              "      background-color: #E2EBFA;\n",
              "      box-shadow: 0px 1px 2px rgba(60, 64, 67, 0.3), 0px 1px 3px 1px rgba(60, 64, 67, 0.15);\n",
              "      fill: #174EA6;\n",
              "    }\n",
              "\n",
              "    [theme=dark] .colab-df-convert {\n",
              "      background-color: #3B4455;\n",
              "      fill: #D2E3FC;\n",
              "    }\n",
              "\n",
              "    [theme=dark] .colab-df-convert:hover {\n",
              "      background-color: #434B5C;\n",
              "      box-shadow: 0px 1px 3px 1px rgba(0, 0, 0, 0.15);\n",
              "      filter: drop-shadow(0px 1px 2px rgba(0, 0, 0, 0.3));\n",
              "      fill: #FFFFFF;\n",
              "    }\n",
              "  </style>\n",
              "\n",
              "      <script>\n",
              "        const buttonEl =\n",
              "          document.querySelector('#df-5edfa300-9d46-4004-af53-6762f4f8b5a5 button.colab-df-convert');\n",
              "        buttonEl.style.display =\n",
              "          google.colab.kernel.accessAllowed ? 'block' : 'none';\n",
              "\n",
              "        async function convertToInteractive(key) {\n",
              "          const element = document.querySelector('#df-5edfa300-9d46-4004-af53-6762f4f8b5a5');\n",
              "          const dataTable =\n",
              "            await google.colab.kernel.invokeFunction('convertToInteractive',\n",
              "                                                     [key], {});\n",
              "          if (!dataTable) return;\n",
              "\n",
              "          const docLinkHtml = 'Like what you see? Visit the ' +\n",
              "            '<a target=\"_blank\" href=https://colab.research.google.com/notebooks/data_table.ipynb>data table notebook</a>'\n",
              "            + ' to learn more about interactive tables.';\n",
              "          element.innerHTML = '';\n",
              "          dataTable['output_type'] = 'display_data';\n",
              "          await google.colab.output.renderOutput(dataTable, element);\n",
              "          const docLink = document.createElement('div');\n",
              "          docLink.innerHTML = docLinkHtml;\n",
              "          element.appendChild(docLink);\n",
              "        }\n",
              "      </script>\n",
              "    </div>\n",
              "  </div>\n",
              "  "
            ]
          },
          "metadata": {},
          "execution_count": 5
        }
      ]
    },
    {
      "cell_type": "markdown",
      "source": [
        "¿Cómo se interpreta f4?\n",
        "- El 17.5% de los estudiantes tiene un ingreso mensual entre $ 1'813.100, y 2'226.700\n",
        "\n",
        "¿Cómo se interpreta N5?\n",
        "- 119 estudiantes tienen un ingreso mensual e inferior a $2'640.300"
      ],
      "metadata": {
        "id": "nZZQ1AXx84E8"
      }
    },
    {
      "cell_type": "markdown",
      "source": [
        "El instituto conoce que con el aumento los estudiantes con ingresos\n",
        "superiores a $2’000.000 no tendrán dificultad para pagar el costo de\n",
        "la nueva matrícula, entonces sería bueno determinar, a partir de los\n",
        "resultados de la muestra, cuantos de estos estudiantes pueden ayudar\n",
        "a los directivos del instituto a prever los efectos del aumento."
      ],
      "metadata": {
        "id": "YoHOk8ZO_vzK"
      }
    },
    {
      "cell_type": "markdown",
      "source": [
        "La función empírica de distribución acumulativa describe de forma general, para cualquier $x$, el porcentaje de datos que son menores o iguales que $x$. Se denota por $F(x)$ y se plantea como: \n",
        "\n",
        "$F(x) = F(L_{i-1}) + \\frac{f_i}{c}(x-L_{i-1})$\n"
      ],
      "metadata": {
        "id": "9hFgsMAeHpbf"
      }
    },
    {
      "cell_type": "code",
      "source": [
        "def ojiva_plot(table_frecuency, title:str, x_label:str, figsize_x:int=8, figsize_y:int=6, fontsize:int=15)->None:\n",
        "  \"\"\"Grafica la Ojiva frecuencias relativas acumuladas\"\"\"\n",
        "  fig, ax = plt.subplots(figsize = (figsize_x, figsize_y))\n",
        "  fig.suptitle(title, fontsize=fontsize)\n",
        "  ax.plot(table_frecuency['Fi'], marker='o', color='blue', mfc='r', mec='black')\n",
        "  ax.set_ylabel('Fi',size = fontsize-3)\n",
        "  ax.set_xlabel(x_label, size = fontsize-3)\n",
        "  ax.set_xticklabels([table_frecuency['xi'][i][1] for i in range(m)],fontsize=fontsize-3, rotation=90)\n",
        "  plt.show()"
      ],
      "metadata": {
        "id": "2p1o9cKHyn2U"
      },
      "execution_count": 6,
      "outputs": []
    },
    {
      "cell_type": "code",
      "source": [
        "ojiva_plot(table_frecuency, 'Ojiva Frecuencia Acumulada de Ingresos', 'Ingresos')"
      ],
      "metadata": {
        "id": "wl0OHCe9_qlx",
        "outputId": "5620afa5-26e3-4ece-acd6-58c99daed37e",
        "colab": {
          "base_uri": "https://localhost:8080/",
          "height": 466
        }
      },
      "execution_count": 7,
      "outputs": [
        {
          "output_type": "display_data",
          "data": {
            "text/plain": [
              "<Figure size 576x432 with 1 Axes>"
            ],
            "image/png": "[encoded data removed]"
          },
          "metadata": {
            "needs_background": "light"
          }
        }
      ]
    },
    {
      "cell_type": "code",
      "source": [
        "def search_intervalo(valor:int, table_frecuency)->tuple:\n",
        "  \"\"\"Busca un valor en los intervalos\"\"\"\n",
        "  for i, x in enumerate(table_frecuency['xi']):\n",
        "    if valor >= x[0] and valor < x[1]:\n",
        "      F_0 = table_frecuency['Fi'][i-1]\n",
        "      f = table_frecuency['fi'][i]\n",
        "      return F_0, f, x[0]"
      ],
      "metadata": {
        "id": "7vPWdlxpvuJ7"
      },
      "execution_count": 8,
      "outputs": []
    },
    {
      "cell_type": "code",
      "source": [
        "def calculate_function_empiric(valor, amplitud:float, table_frecuency)->int:\n",
        "  \"\"\"Calcula la funcion empirica\"\"\"\n",
        "  F_0, f, li_1 = search_intervalo(valor, table_frecuency)\n",
        "  F = F_0 + (f/amplitud)*(valor-li_1)\n",
        "  return round(F, 2)"
      ],
      "metadata": {
        "id": "3Tvxys7W1Isd"
      },
      "execution_count": 9,
      "outputs": []
    },
    {
      "cell_type": "markdown",
      "source": [
        "A partir de la tabla de frecuencias\n"
      ],
      "metadata": {
        "id": "q-ZnTPvQqwAE"
      }
    },
    {
      "cell_type": "code",
      "source": [
        "table_frecuency"
      ],
      "metadata": {
        "id": "ervskuCj33E7",
        "outputId": "af0f5022-728d-4678-be71-64d3e7f86ed9",
        "colab": {
          "base_uri": "https://localhost:8080/",
          "height": 269
        }
      },
      "execution_count": 10,
      "outputs": [
        {
          "output_type": "execute_result",
          "data": {
            "text/plain": [
              "                 xi  ni     fi   Ni     Fi       x'\n",
              "1    (572.3, 985.9)  10  0.079   10  0.079   779.10\n",
              "2   (985.9, 1399.5)  35  0.278   45  0.357  1192.70\n",
              "3  (1399.5, 1813.1)  46  0.365   91  0.722  1606.30\n",
              "4  (1813.1, 2226.7)  22  0.175  113  0.897  2019.90\n",
              "5  (2226.7, 2640.3)   6  0.048  119  0.945  2433.50\n",
              "6  (2640.3, 3053.9)   4  0.032  123  0.977  2847.10\n",
              "7  (3053.9, 3467.8)   3  0.024  126  1.000  3260.85"
            ],
            "text/html": [
              "\n",
              "  <div id=\"df-8e98415f-3388-409f-b1e1-0beda755331b\">\n",
              "    <div class=\"colab-df-container\">\n",
              "      <div>\n",
              "<style scoped>\n",
              "    .dataframe tbody tr th:only-of-type {\n",
              "        vertical-align: middle;\n",
              "    }\n",
              "\n",
              "    .dataframe tbody tr th {\n",
              "        vertical-align: top;\n",
              "    }\n",
              "\n",
              "    .dataframe thead th {\n",
              "        text-align: right;\n",
              "    }\n",
              "</style>\n",
              "<table border=\"1\" class=\"dataframe\">\n",
              "  <thead>\n",
              "    <tr style=\"text-align: right;\">\n",
              "      <th></th>\n",
              "      <th>xi</th>\n",
              "      <th>ni</th>\n",
              "      <th>fi</th>\n",
              "      <th>Ni</th>\n",
              "      <th>Fi</th>\n",
              "      <th>x'</th>\n",
              "    </tr>\n",
              "  </thead>\n",
              "  <tbody>\n",
              "    <tr>\n",
              "      <th>1</th>\n",
              "      <td>(572.3, 985.9)</td>\n",
              "      <td>10</td>\n",
              "      <td>0.079</td>\n",
              "      <td>10</td>\n",
              "      <td>0.079</td>\n",
              "      <td>779.10</td>\n",
              "    </tr>\n",
              "    <tr>\n",
              "      <th>2</th>\n",
              "      <td>(985.9, 1399.5)</td>\n",
              "      <td>35</td>\n",
              "      <td>0.278</td>\n",
              "      <td>45</td>\n",
              "      <td>0.357</td>\n",
              "      <td>1192.70</td>\n",
              "    </tr>\n",
              "    <tr>\n",
              "      <th>3</th>\n",
              "      <td>(1399.5, 1813.1)</td>\n",
              "      <td>46</td>\n",
              "      <td>0.365</td>\n",
              "      <td>91</td>\n",
              "      <td>0.722</td>\n",
              "      <td>1606.30</td>\n",
              "    </tr>\n",
              "    <tr>\n",
              "      <th>4</th>\n",
              "      <td>(1813.1, 2226.7)</td>\n",
              "      <td>22</td>\n",
              "      <td>0.175</td>\n",
              "      <td>113</td>\n",
              "      <td>0.897</td>\n",
              "      <td>2019.90</td>\n",
              "    </tr>\n",
              "    <tr>\n",
              "      <th>5</th>\n",
              "      <td>(2226.7, 2640.3)</td>\n",
              "      <td>6</td>\n",
              "      <td>0.048</td>\n",
              "      <td>119</td>\n",
              "      <td>0.945</td>\n",
              "      <td>2433.50</td>\n",
              "    </tr>\n",
              "    <tr>\n",
              "      <th>6</th>\n",
              "      <td>(2640.3, 3053.9)</td>\n",
              "      <td>4</td>\n",
              "      <td>0.032</td>\n",
              "      <td>123</td>\n",
              "      <td>0.977</td>\n",
              "      <td>2847.10</td>\n",
              "    </tr>\n",
              "    <tr>\n",
              "      <th>7</th>\n",
              "      <td>(3053.9, 3467.8)</td>\n",
              "      <td>3</td>\n",
              "      <td>0.024</td>\n",
              "      <td>126</td>\n",
              "      <td>1.000</td>\n",
              "      <td>3260.85</td>\n",
              "    </tr>\n",
              "  </tbody>\n",
              "</table>\n",
              "</div>\n",
              "      <button class=\"colab-df-convert\" onclick=\"convertToInteractive('df-8e98415f-3388-409f-b1e1-0beda755331b')\"\n",
              "              title=\"Convert this dataframe to an interactive table.\"\n",
              "              style=\"display:none;\">\n",
              "        \n",
              "  <svg xmlns=\"http://www.w3.org/2000/svg\" height=\"24px\"viewBox=\"0 0 24 24\"\n",
              "       width=\"24px\">\n",
              "    <path d=\"M0 0h24v24H0V0z\" fill=\"none\"/>\n",
              "    <path d=\"M18.56 5.44l.94 2.06.94-2.06 2.06-.94-2.06-.94-.94-2.06-.94 2.06-2.06.94zm-11 1L8.5 8.5l.94-2.06 2.06-.94-2.06-.94L8.5 2.5l-.94 2.06-2.06.94zm10 10l.94 2.06.94-2.06 2.06-.94-2.06-.94-.94-2.06-.94 2.06-2.06.94z\"/><path d=\"M17.41 7.96l-1.37-1.37c-.4-.4-.92-.59-1.43-.59-.52 0-1.04.2-1.43.59L10.3 9.45l-7.72 7.72c-.78.78-.78 2.05 0 2.83L4 21.41c.39.39.9.59 1.41.59.51 0 1.02-.2 1.41-.59l7.78-7.78 2.81-2.81c.8-.78.8-2.07 0-2.86zM5.41 20L4 18.59l7.72-7.72 1.47 1.35L5.41 20z\"/>\n",
              "  </svg>\n",
              "      </button>\n",
              "      \n",
              "  <style>\n",
              "    .colab-df-container {\n",
              "      display:flex;\n",
              "      flex-wrap:wrap;\n",
              "      gap: 12px;\n",
              "    }\n",
              "\n",
              "    .colab-df-convert {\n",
              "      background-color: #E8F0FE;\n",
              "      border: none;\n",
              "      border-radius: 50%;\n",
              "      cursor: pointer;\n",
              "      display: none;\n",
              "      fill: #1967D2;\n",
              "      height: 32px;\n",
              "      padding: 0 0 0 0;\n",
              "      width: 32px;\n",
              "    }\n",
              "\n",
              "    .colab-df-convert:hover {\n",
              "      background-color: #E2EBFA;\n",
              "      box-shadow: 0px 1px 2px rgba(60, 64, 67, 0.3), 0px 1px 3px 1px rgba(60, 64, 67, 0.15);\n",
              "      fill: #174EA6;\n",
              "    }\n",
              "\n",
              "    [theme=dark] .colab-df-convert {\n",
              "      background-color: #3B4455;\n",
              "      fill: #D2E3FC;\n",
              "    }\n",
              "\n",
              "    [theme=dark] .colab-df-convert:hover {\n",
              "      background-color: #434B5C;\n",
              "      box-shadow: 0px 1px 3px 1px rgba(0, 0, 0, 0.15);\n",
              "      filter: drop-shadow(0px 1px 2px rgba(0, 0, 0, 0.3));\n",
              "      fill: #FFFFFF;\n",
              "    }\n",
              "  </style>\n",
              "\n",
              "      <script>\n",
              "        const buttonEl =\n",
              "          document.querySelector('#df-8e98415f-3388-409f-b1e1-0beda755331b button.colab-df-convert');\n",
              "        buttonEl.style.display =\n",
              "          google.colab.kernel.accessAllowed ? 'block' : 'none';\n",
              "\n",
              "        async function convertToInteractive(key) {\n",
              "          const element = document.querySelector('#df-8e98415f-3388-409f-b1e1-0beda755331b');\n",
              "          const dataTable =\n",
              "            await google.colab.kernel.invokeFunction('convertToInteractive',\n",
              "                                                     [key], {});\n",
              "          if (!dataTable) return;\n",
              "\n",
              "          const docLinkHtml = 'Like what you see? Visit the ' +\n",
              "            '<a target=\"_blank\" href=https://colab.research.google.com/notebooks/data_table.ipynb>data table notebook</a>'\n",
              "            + ' to learn more about interactive tables.';\n",
              "          element.innerHTML = '';\n",
              "          dataTable['output_type'] = 'display_data';\n",
              "          await google.colab.output.renderOutput(dataTable, element);\n",
              "          const docLink = document.createElement('div');\n",
              "          docLink.innerHTML = docLinkHtml;\n",
              "          element.appendChild(docLink);\n",
              "        }\n",
              "      </script>\n",
              "    </div>\n",
              "  </div>\n",
              "  "
            ]
          },
          "metadata": {},
          "execution_count": 10
        }
      ]
    },
    {
      "cell_type": "code",
      "source": [
        "print(\"¿Qué porcentaje de estudiantes tienen un ingreso inferior o igual a los $2’000.000?\\n\")\n",
        "\n",
        "res = calculate_function_empiric(2000, amplitud, table_frecuency)\n",
        "\n",
        "print(f\"El {res*100}% tiene un ingreso inferior o igual a los 2'000.000\")"
      ],
      "metadata": {
        "id": "Ic8xgWhOwwmb",
        "outputId": "19fd1a9c-65ac-41ee-d6d6-ab3e2869a8f3",
        "colab": {
          "base_uri": "https://localhost:8080/"
        }
      },
      "execution_count": 11,
      "outputs": [
        {
          "output_type": "stream",
          "name": "stdout",
          "text": [
            "¿Qué porcentaje de estudiantes tienen un ingreso inferior o igual a los $2’000.000?\n",
            "\n",
            "El 80.0% tiene un ingreso inferior o igual a los 2'000.000\n"
          ]
        }
      ]
    },
    {
      "cell_type": "code",
      "source": [
        "print(\"¿Qué porcentaje de estudiantes tienen un ingreso superior a $1’400.000?\\n\")\n",
        "\n",
        "res = calculate_function_empiric(1400, amplitud, table_frecuency)\n",
        "res = 1 - res\n",
        "\n",
        "print(f\"El {res*100}% tiene un ingreso superior a los $1’400.000\")"
      ],
      "metadata": {
        "id": "jL5Usp202KBz",
        "outputId": "c94cdf74-19e9-415b-c94d-53f2d7e8b113",
        "colab": {
          "base_uri": "https://localhost:8080/"
        }
      },
      "execution_count": 12,
      "outputs": [
        {
          "output_type": "stream",
          "name": "stdout",
          "text": [
            "¿Qué porcentaje de estudiantes tienen un ingreso superior a $1’400.000?\n",
            "\n",
            "El 64.0% tiene un ingreso superior a los $1’400.000\n"
          ]
        }
      ]
    },
    {
      "cell_type": "code",
      "source": [
        "print(\"¿Qué porcentaje de estudiantes tienen un ingreso entre $2’700.000 y $3’200.000?\\n\")\n",
        "\n",
        "resA = calculate_function_empiric(3200, amplitud, table_frecuency)\n",
        "resB = calculate_function_empiric(2700, amplitud, table_frecuency)\n",
        "res = round(resA - resB, 2)\n",
        "\n",
        "print(f\"El {res*100}% tiene un ingreso entre $2’700.000 y  $3’200.000\")"
      ],
      "metadata": {
        "id": "pOh6F8i14Bfr",
        "outputId": "228ba632-704b-48b8-abd7-78401bafbb41",
        "colab": {
          "base_uri": "https://localhost:8080/"
        }
      },
      "execution_count": 13,
      "outputs": [
        {
          "output_type": "stream",
          "name": "stdout",
          "text": [
            "¿Qué porcentaje de estudiantes tienen un ingreso entre $2’700.000 y $3’200.000?\n",
            "\n",
            "El 4.0% tiene un ingreso entre $2’700.000 y  $3’200.000\n"
          ]
        }
      ]
    },
    {
      "cell_type": "code",
      "source": [
        "def calculete_value_percent(percent, amplitud, table_frecuency)->int:\n",
        "  \"\"\"Calcula el valor apartir de un porcentaje en la frecuencia acumulada\"\"\"\n",
        "  Fi = table_frecuency['Fi']\n",
        "  for i in range(len(Fi)):\n",
        "    if percent>Fi[i] and percent<=Fi[i+1]:\n",
        "      F_0 = table_frecuency['Fi'][i]\n",
        "      f = table_frecuency['fi'][i+1]\n",
        "      x = np.trunc(((percent - F_0)*amplitud)/f + table_frecuency['xi'][i+1][0])\n",
        "      return x"
      ],
      "metadata": {
        "id": "VVIqPEoU5CE1"
      },
      "execution_count": 14,
      "outputs": []
    },
    {
      "cell_type": "code",
      "source": [
        "print(\"¿A partir de que valor de los ingresos se encuentra acumulado el 90 % de los datos?\\n\")\n",
        "res = calculete_value_percent(0.9, amplitud, table_frecuency)\n",
        "print(f\"El 90% de los estudiantes tiene un ingreso igual o inferior a ${res} millones\")"
      ],
      "metadata": {
        "id": "tGEIwMVV4AqL",
        "outputId": "1af1c8b8-43e8-4bf6-e125-fe54bd09310f",
        "colab": {
          "base_uri": "https://localhost:8080/"
        }
      },
      "execution_count": 15,
      "outputs": [
        {
          "output_type": "stream",
          "name": "stdout",
          "text": [
            "¿A partir de que valor de los ingresos se encuentra acumulado el 90 % de los datos?\n",
            "\n",
            "El 90% de los estudiantes tiene un ingreso igual o inferior a $2252.0 millones\n"
          ]
        }
      ]
    },
    {
      "cell_type": "markdown",
      "source": [
        "¿Cuál es la media aritmética en promedio los estudiantes del instituto?\n"
      ],
      "metadata": {
        "id": "I1hflC-w6e94"
      }
    },
    {
      "cell_type": "code",
      "source": [
        "#Marca de clase\n",
        "def arithmetic_average(table_frecuency)->float:\n",
        "  return np.sum(table_frecuency[\"x'\"] * table_frecuency[\"fi\"]) "
      ],
      "metadata": {
        "id": "gghRmsOn6pWC"
      },
      "execution_count": 16,
      "outputs": []
    },
    {
      "cell_type": "code",
      "source": [
        "table_frecuency"
      ],
      "metadata": {
        "id": "XtFZTXfI-_L3",
        "outputId": "4b3c2a4c-9f04-4c9c-b472-7295fd2aef73",
        "colab": {
          "base_uri": "https://localhost:8080/",
          "height": 269
        }
      },
      "execution_count": 17,
      "outputs": [
        {
          "output_type": "execute_result",
          "data": {
            "text/plain": [
              "                 xi  ni     fi   Ni     Fi       x'\n",
              "1    (572.3, 985.9)  10  0.079   10  0.079   779.10\n",
              "2   (985.9, 1399.5)  35  0.278   45  0.357  1192.70\n",
              "3  (1399.5, 1813.1)  46  0.365   91  0.722  1606.30\n",
              "4  (1813.1, 2226.7)  22  0.175  113  0.897  2019.90\n",
              "5  (2226.7, 2640.3)   6  0.048  119  0.945  2433.50\n",
              "6  (2640.3, 3053.9)   4  0.032  123  0.977  2847.10\n",
              "7  (3053.9, 3467.8)   3  0.024  126  1.000  3260.85"
            ],
            "text/html": [
              "\n",
              "  <div id=\"df-0875bda2-3633-47fd-8303-ecb90e7c8e2d\">\n",
              "    <div class=\"colab-df-container\">\n",
              "      <div>\n",
              "<style scoped>\n",
              "    .dataframe tbody tr th:only-of-type {\n",
              "        vertical-align: middle;\n",
              "    }\n",
              "\n",
              "    .dataframe tbody tr th {\n",
              "        vertical-align: top;\n",
              "    }\n",
              "\n",
              "    .dataframe thead th {\n",
              "        text-align: right;\n",
              "    }\n",
              "</style>\n",
              "<table border=\"1\" class=\"dataframe\">\n",
              "  <thead>\n",
              "    <tr style=\"text-align: right;\">\n",
              "      <th></th>\n",
              "      <th>xi</th>\n",
              "      <th>ni</th>\n",
              "      <th>fi</th>\n",
              "      <th>Ni</th>\n",
              "      <th>Fi</th>\n",
              "      <th>x'</th>\n",
              "    </tr>\n",
              "  </thead>\n",
              "  <tbody>\n",
              "    <tr>\n",
              "      <th>1</th>\n",
              "      <td>(572.3, 985.9)</td>\n",
              "      <td>10</td>\n",
              "      <td>0.079</td>\n",
              "      <td>10</td>\n",
              "      <td>0.079</td>\n",
              "      <td>779.10</td>\n",
              "    </tr>\n",
              "    <tr>\n",
              "      <th>2</th>\n",
              "      <td>(985.9, 1399.5)</td>\n",
              "      <td>35</td>\n",
              "      <td>0.278</td>\n",
              "      <td>45</td>\n",
              "      <td>0.357</td>\n",
              "      <td>1192.70</td>\n",
              "    </tr>\n",
              "    <tr>\n",
              "      <th>3</th>\n",
              "      <td>(1399.5, 1813.1)</td>\n",
              "      <td>46</td>\n",
              "      <td>0.365</td>\n",
              "      <td>91</td>\n",
              "      <td>0.722</td>\n",
              "      <td>1606.30</td>\n",
              "    </tr>\n",
              "    <tr>\n",
              "      <th>4</th>\n",
              "      <td>(1813.1, 2226.7)</td>\n",
              "      <td>22</td>\n",
              "      <td>0.175</td>\n",
              "      <td>113</td>\n",
              "      <td>0.897</td>\n",
              "      <td>2019.90</td>\n",
              "    </tr>\n",
              "    <tr>\n",
              "      <th>5</th>\n",
              "      <td>(2226.7, 2640.3)</td>\n",
              "      <td>6</td>\n",
              "      <td>0.048</td>\n",
              "      <td>119</td>\n",
              "      <td>0.945</td>\n",
              "      <td>2433.50</td>\n",
              "    </tr>\n",
              "    <tr>\n",
              "      <th>6</th>\n",
              "      <td>(2640.3, 3053.9)</td>\n",
              "      <td>4</td>\n",
              "      <td>0.032</td>\n",
              "      <td>123</td>\n",
              "      <td>0.977</td>\n",
              "      <td>2847.10</td>\n",
              "    </tr>\n",
              "    <tr>\n",
              "      <th>7</th>\n",
              "      <td>(3053.9, 3467.8)</td>\n",
              "      <td>3</td>\n",
              "      <td>0.024</td>\n",
              "      <td>126</td>\n",
              "      <td>1.000</td>\n",
              "      <td>3260.85</td>\n",
              "    </tr>\n",
              "  </tbody>\n",
              "</table>\n",
              "</div>\n",
              "      <button class=\"colab-df-convert\" onclick=\"convertToInteractive('df-0875bda2-3633-47fd-8303-ecb90e7c8e2d')\"\n",
              "              title=\"Convert this dataframe to an interactive table.\"\n",
              "              style=\"display:none;\">\n",
              "        \n",
              "  <svg xmlns=\"http://www.w3.org/2000/svg\" height=\"24px\"viewBox=\"0 0 24 24\"\n",
              "       width=\"24px\">\n",
              "    <path d=\"M0 0h24v24H0V0z\" fill=\"none\"/>\n",
              "    <path d=\"M18.56 5.44l.94 2.06.94-2.06 2.06-.94-2.06-.94-.94-2.06-.94 2.06-2.06.94zm-11 1L8.5 8.5l.94-2.06 2.06-.94-2.06-.94L8.5 2.5l-.94 2.06-2.06.94zm10 10l.94 2.06.94-2.06 2.06-.94-2.06-.94-.94-2.06-.94 2.06-2.06.94z\"/><path d=\"M17.41 7.96l-1.37-1.37c-.4-.4-.92-.59-1.43-.59-.52 0-1.04.2-1.43.59L10.3 9.45l-7.72 7.72c-.78.78-.78 2.05 0 2.83L4 21.41c.39.39.9.59 1.41.59.51 0 1.02-.2 1.41-.59l7.78-7.78 2.81-2.81c.8-.78.8-2.07 0-2.86zM5.41 20L4 18.59l7.72-7.72 1.47 1.35L5.41 20z\"/>\n",
              "  </svg>\n",
              "      </button>\n",
              "      \n",
              "  <style>\n",
              "    .colab-df-container {\n",
              "      display:flex;\n",
              "      flex-wrap:wrap;\n",
              "      gap: 12px;\n",
              "    }\n",
              "\n",
              "    .colab-df-convert {\n",
              "      background-color: #E8F0FE;\n",
              "      border: none;\n",
              "      border-radius: 50%;\n",
              "      cursor: pointer;\n",
              "      display: none;\n",
              "      fill: #1967D2;\n",
              "      height: 32px;\n",
              "      padding: 0 0 0 0;\n",
              "      width: 32px;\n",
              "    }\n",
              "\n",
              "    .colab-df-convert:hover {\n",
              "      background-color: #E2EBFA;\n",
              "      box-shadow: 0px 1px 2px rgba(60, 64, 67, 0.3), 0px 1px 3px 1px rgba(60, 64, 67, 0.15);\n",
              "      fill: #174EA6;\n",
              "    }\n",
              "\n",
              "    [theme=dark] .colab-df-convert {\n",
              "      background-color: #3B4455;\n",
              "      fill: #D2E3FC;\n",
              "    }\n",
              "\n",
              "    [theme=dark] .colab-df-convert:hover {\n",
              "      background-color: #434B5C;\n",
              "      box-shadow: 0px 1px 3px 1px rgba(0, 0, 0, 0.15);\n",
              "      filter: drop-shadow(0px 1px 2px rgba(0, 0, 0, 0.3));\n",
              "      fill: #FFFFFF;\n",
              "    }\n",
              "  </style>\n",
              "\n",
              "      <script>\n",
              "        const buttonEl =\n",
              "          document.querySelector('#df-0875bda2-3633-47fd-8303-ecb90e7c8e2d button.colab-df-convert');\n",
              "        buttonEl.style.display =\n",
              "          google.colab.kernel.accessAllowed ? 'block' : 'none';\n",
              "\n",
              "        async function convertToInteractive(key) {\n",
              "          const element = document.querySelector('#df-0875bda2-3633-47fd-8303-ecb90e7c8e2d');\n",
              "          const dataTable =\n",
              "            await google.colab.kernel.invokeFunction('convertToInteractive',\n",
              "                                                     [key], {});\n",
              "          if (!dataTable) return;\n",
              "\n",
              "          const docLinkHtml = 'Like what you see? Visit the ' +\n",
              "            '<a target=\"_blank\" href=https://colab.research.google.com/notebooks/data_table.ipynb>data table notebook</a>'\n",
              "            + ' to learn more about interactive tables.';\n",
              "          element.innerHTML = '';\n",
              "          dataTable['output_type'] = 'display_data';\n",
              "          await google.colab.output.renderOutput(dataTable, element);\n",
              "          const docLink = document.createElement('div');\n",
              "          docLink.innerHTML = docLinkHtml;\n",
              "          element.appendChild(docLink);\n",
              "        }\n",
              "      </script>\n",
              "    </div>\n",
              "  </div>\n",
              "  "
            ]
          },
          "metadata": {},
          "execution_count": 17
        }
      ]
    },
    {
      "cell_type": "code",
      "source": [
        "print(f\"En promedio los estudiantes del instituto tienen un ingreso mensual igual o inferior a ${arithmetic_average(table_frecuency)}\")"
      ],
      "metadata": {
        "id": "nUkeabQ69b9X",
        "outputId": "e4df998f-e983-49a1-d504-6e81108d43b2",
        "colab": {
          "base_uri": "https://localhost:8080/"
        }
      },
      "execution_count": 18,
      "outputs": [
        {
          "output_type": "stream",
          "name": "stdout",
          "text": [
            "En promedio los estudiantes del instituto tienen un ingreso mensual igual o inferior a $1619.0771\n"
          ]
        }
      ]
    },
    {
      "cell_type": "markdown",
      "source": [
        "¿Cuál es la mediana aritmética en promedio los estudiantes del instituto?"
      ],
      "metadata": {
        "id": "Y_gaPrAFc3mI"
      }
    },
    {
      "cell_type": "code",
      "source": [
        "print(f\"El 50% de los estudiantes del instituto tienen un ingreso mensual igual o inferior a ${calculete_value_percent(0.5, amplitud, table_frecuency)} millones\")"
      ],
      "metadata": {
        "id": "VIjhbn21dlJ5",
        "outputId": "fd99fe48-10a4-42e7-ee07-d7c818786309",
        "colab": {
          "base_uri": "https://localhost:8080/"
        }
      },
      "execution_count": 19,
      "outputs": [
        {
          "output_type": "stream",
          "name": "stdout",
          "text": [
            "El 50% de los estudiantes del instituto tienen un ingreso mensual igual o inferior a $1561.0 millones\n"
          ]
        }
      ]
    },
    {
      "cell_type": "markdown",
      "source": [
        "¿Cuál es la moda?"
      ],
      "metadata": {
        "id": "py0Qk2e7e8-x"
      }
    },
    {
      "cell_type": "code",
      "source": [
        "table_frecuency"
      ],
      "metadata": {
        "colab": {
          "base_uri": "https://localhost:8080/",
          "height": 269
        },
        "id": "inBz4GyYhibI",
        "outputId": "bb4f3d82-3455-458f-9336-8dacf886f849"
      },
      "execution_count": 23,
      "outputs": [
        {
          "output_type": "execute_result",
          "data": {
            "text/plain": [
              "                 xi  ni     fi   Ni     Fi       x'\n",
              "1    (572.3, 985.9)  10  0.079   10  0.079   779.10\n",
              "2   (985.9, 1399.5)  35  0.278   45  0.357  1192.70\n",
              "3  (1399.5, 1813.1)  46  0.365   91  0.722  1606.30\n",
              "4  (1813.1, 2226.7)  22  0.175  113  0.897  2019.90\n",
              "5  (2226.7, 2640.3)   6  0.048  119  0.945  2433.50\n",
              "6  (2640.3, 3053.9)   4  0.032  123  0.977  2847.10\n",
              "7  (3053.9, 3467.8)   3  0.024  126  1.000  3260.85"
            ],
            "text/html": [
              "\n",
              "  <div id=\"df-e9d6800b-148d-4087-b4ce-3630a64409b7\">\n",
              "    <div class=\"colab-df-container\">\n",
              "      <div>\n",
              "<style scoped>\n",
              "    .dataframe tbody tr th:only-of-type {\n",
              "        vertical-align: middle;\n",
              "    }\n",
              "\n",
              "    .dataframe tbody tr th {\n",
              "        vertical-align: top;\n",
              "    }\n",
              "\n",
              "    .dataframe thead th {\n",
              "        text-align: right;\n",
              "    }\n",
              "</style>\n",
              "<table border=\"1\" class=\"dataframe\">\n",
              "  <thead>\n",
              "    <tr style=\"text-align: right;\">\n",
              "      <th></th>\n",
              "      <th>xi</th>\n",
              "      <th>ni</th>\n",
              "      <th>fi</th>\n",
              "      <th>Ni</th>\n",
              "      <th>Fi</th>\n",
              "      <th>x'</th>\n",
              "    </tr>\n",
              "  </thead>\n",
              "  <tbody>\n",
              "    <tr>\n",
              "      <th>1</th>\n",
              "      <td>(572.3, 985.9)</td>\n",
              "      <td>10</td>\n",
              "      <td>0.079</td>\n",
              "      <td>10</td>\n",
              "      <td>0.079</td>\n",
              "      <td>779.10</td>\n",
              "    </tr>\n",
              "    <tr>\n",
              "      <th>2</th>\n",
              "      <td>(985.9, 1399.5)</td>\n",
              "      <td>35</td>\n",
              "      <td>0.278</td>\n",
              "      <td>45</td>\n",
              "      <td>0.357</td>\n",
              "      <td>1192.70</td>\n",
              "    </tr>\n",
              "    <tr>\n",
              "      <th>3</th>\n",
              "      <td>(1399.5, 1813.1)</td>\n",
              "      <td>46</td>\n",
              "      <td>0.365</td>\n",
              "      <td>91</td>\n",
              "      <td>0.722</td>\n",
              "      <td>1606.30</td>\n",
              "    </tr>\n",
              "    <tr>\n",
              "      <th>4</th>\n",
              "      <td>(1813.1, 2226.7)</td>\n",
              "      <td>22</td>\n",
              "      <td>0.175</td>\n",
              "      <td>113</td>\n",
              "      <td>0.897</td>\n",
              "      <td>2019.90</td>\n",
              "    </tr>\n",
              "    <tr>\n",
              "      <th>5</th>\n",
              "      <td>(2226.7, 2640.3)</td>\n",
              "      <td>6</td>\n",
              "      <td>0.048</td>\n",
              "      <td>119</td>\n",
              "      <td>0.945</td>\n",
              "      <td>2433.50</td>\n",
              "    </tr>\n",
              "    <tr>\n",
              "      <th>6</th>\n",
              "      <td>(2640.3, 3053.9)</td>\n",
              "      <td>4</td>\n",
              "      <td>0.032</td>\n",
              "      <td>123</td>\n",
              "      <td>0.977</td>\n",
              "      <td>2847.10</td>\n",
              "    </tr>\n",
              "    <tr>\n",
              "      <th>7</th>\n",
              "      <td>(3053.9, 3467.8)</td>\n",
              "      <td>3</td>\n",
              "      <td>0.024</td>\n",
              "      <td>126</td>\n",
              "      <td>1.000</td>\n",
              "      <td>3260.85</td>\n",
              "    </tr>\n",
              "  </tbody>\n",
              "</table>\n",
              "</div>\n",
              "      <button class=\"colab-df-convert\" onclick=\"convertToInteractive('df-e9d6800b-148d-4087-b4ce-3630a64409b7')\"\n",
              "              title=\"Convert this dataframe to an interactive table.\"\n",
              "              style=\"display:none;\">\n",
              "        \n",
              "  <svg xmlns=\"http://www.w3.org/2000/svg\" height=\"24px\"viewBox=\"0 0 24 24\"\n",
              "       width=\"24px\">\n",
              "    <path d=\"M0 0h24v24H0V0z\" fill=\"none\"/>\n",
              "    <path d=\"M18.56 5.44l.94 2.06.94-2.06 2.06-.94-2.06-.94-.94-2.06-.94 2.06-2.06.94zm-11 1L8.5 8.5l.94-2.06 2.06-.94-2.06-.94L8.5 2.5l-.94 2.06-2.06.94zm10 10l.94 2.06.94-2.06 2.06-.94-2.06-.94-.94-2.06-.94 2.06-2.06.94z\"/><path d=\"M17.41 7.96l-1.37-1.37c-.4-.4-.92-.59-1.43-.59-.52 0-1.04.2-1.43.59L10.3 9.45l-7.72 7.72c-.78.78-.78 2.05 0 2.83L4 21.41c.39.39.9.59 1.41.59.51 0 1.02-.2 1.41-.59l7.78-7.78 2.81-2.81c.8-.78.8-2.07 0-2.86zM5.41 20L4 18.59l7.72-7.72 1.47 1.35L5.41 20z\"/>\n",
              "  </svg>\n",
              "      </button>\n",
              "      \n",
              "  <style>\n",
              "    .colab-df-container {\n",
              "      display:flex;\n",
              "      flex-wrap:wrap;\n",
              "      gap: 12px;\n",
              "    }\n",
              "\n",
              "    .colab-df-convert {\n",
              "      background-color: #E8F0FE;\n",
              "      border: none;\n",
              "      border-radius: 50%;\n",
              "      cursor: pointer;\n",
              "      display: none;\n",
              "      fill: #1967D2;\n",
              "      height: 32px;\n",
              "      padding: 0 0 0 0;\n",
              "      width: 32px;\n",
              "    }\n",
              "\n",
              "    .colab-df-convert:hover {\n",
              "      background-color: #E2EBFA;\n",
              "      box-shadow: 0px 1px 2px rgba(60, 64, 67, 0.3), 0px 1px 3px 1px rgba(60, 64, 67, 0.15);\n",
              "      fill: #174EA6;\n",
              "    }\n",
              "\n",
              "    [theme=dark] .colab-df-convert {\n",
              "      background-color: #3B4455;\n",
              "      fill: #D2E3FC;\n",
              "    }\n",
              "\n",
              "    [theme=dark] .colab-df-convert:hover {\n",
              "      background-color: #434B5C;\n",
              "      box-shadow: 0px 1px 3px 1px rgba(0, 0, 0, 0.15);\n",
              "      filter: drop-shadow(0px 1px 2px rgba(0, 0, 0, 0.3));\n",
              "      fill: #FFFFFF;\n",
              "    }\n",
              "  </style>\n",
              "\n",
              "      <script>\n",
              "        const buttonEl =\n",
              "          document.querySelector('#df-e9d6800b-148d-4087-b4ce-3630a64409b7 button.colab-df-convert');\n",
              "        buttonEl.style.display =\n",
              "          google.colab.kernel.accessAllowed ? 'block' : 'none';\n",
              "\n",
              "        async function convertToInteractive(key) {\n",
              "          const element = document.querySelector('#df-e9d6800b-148d-4087-b4ce-3630a64409b7');\n",
              "          const dataTable =\n",
              "            await google.colab.kernel.invokeFunction('convertToInteractive',\n",
              "                                                     [key], {});\n",
              "          if (!dataTable) return;\n",
              "\n",
              "          const docLinkHtml = 'Like what you see? Visit the ' +\n",
              "            '<a target=\"_blank\" href=https://colab.research.google.com/notebooks/data_table.ipynb>data table notebook</a>'\n",
              "            + ' to learn more about interactive tables.';\n",
              "          element.innerHTML = '';\n",
              "          dataTable['output_type'] = 'display_data';\n",
              "          await google.colab.output.renderOutput(dataTable, element);\n",
              "          const docLink = document.createElement('div');\n",
              "          docLink.innerHTML = docLinkHtml;\n",
              "          element.appendChild(docLink);\n",
              "        }\n",
              "      </script>\n",
              "    </div>\n",
              "  </div>\n",
              "  "
            ]
          },
          "metadata": {},
          "execution_count": 23
        }
      ]
    },
    {
      "cell_type": "code",
      "source": [
        "def calculate_moda(table_frecuency)->float:\n",
        "  return table_frecuency[max(table_frecuency[\"fi\"])==table_frecuency[\"fi\"]][\"x'\"][0]"
      ],
      "metadata": {
        "id": "nzGx6s8ve_6g"
      },
      "execution_count": 31,
      "outputs": []
    },
    {
      "cell_type": "code",
      "source": [
        "print(f\"El ingreso mensual de los estudiantes del instituto más frecuente se encuentra alrededor de ${calculate_moda(table_frecuency)} millones\")"
      ],
      "metadata": {
        "colab": {
          "base_uri": "https://localhost:8080/"
        },
        "id": "n48EimKPiGYJ",
        "outputId": "8fb699fb-b326-4b84-aa5a-97656df6ce1c"
      },
      "execution_count": 32,
      "outputs": [
        {
          "output_type": "stream",
          "name": "stdout",
          "text": [
            "El ingreso mensual de los estudiantes del instituto más frecuente se encuentra alrededor de $1606.3 millones\n"
          ]
        }
      ]
    }
  ]
}