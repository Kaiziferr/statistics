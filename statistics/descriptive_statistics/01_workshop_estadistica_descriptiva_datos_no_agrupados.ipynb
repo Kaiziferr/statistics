{
  "nbformat": 4,
  "nbformat_minor": 0,
  "metadata": {
    "colab": {
      "name": "01_workshop_estadistica_descriptiva_datos_no_agrupados.ipynb",
      "provenance": [],
      "include_colab_link": true
    },
    "kernelspec": {
      "name": "python3",
      "display_name": "Python 3"
    },
    "language_info": {
      "name": "python"
    }
  },
  "cells": [
    {
      "cell_type": "markdown",
      "metadata": {
        "id": "view-in-github",
        "colab_type": "text"
      },
      "source": [
        "<a href=\"https://colab.research.google.com/github/Kaiziferr/statistics/blob/main/statistics/descriptive_statistics/01_workshop_estadistica_descriptiva_datos_no_agrupados.ipynb\" target=\"_parent\"><img src=\"https://colab.research.google.com/assets/colab-badge.svg\" alt=\"Open In Colab\"/></a>"
      ]
    },
    {
      "cell_type": "code",
      "execution_count": 1,
      "metadata": {
        "id": "EwMnoD3utfsA"
      },
      "outputs": [],
      "source": [
        "import pandas as pd\n",
        "import numpy as np\n",
        "import matplotlib.pyplot as plt\n",
        "import seaborn as sns\n",
        "import warnings"
      ]
    },
    {
      "cell_type": "markdown",
      "source": [
        "Se requiere crear e interpretar la información de una tabla de frecuencias, basándose en el gráfico que representa las ventas de refrescos."
      ],
      "metadata": {
        "id": "g_3mW8t9uQv-"
      }
    },
    {
      "cell_type": "code",
      "source": [
        "sns.set(style=\"darkgrid\")"
      ],
      "metadata": {
        "id": "Uc9J4F4htiwe"
      },
      "execution_count": 2,
      "outputs": []
    },
    {
      "cell_type": "markdown",
      "source": [
        "# Venta de refrescos\n",
        "---"
      ],
      "metadata": {
        "id": "KepoJj1gWpxs"
      }
    },
    {
      "cell_type": "code",
      "source": [
        "data = pd.DataFrame({'dia':['Lunes','Martes','Miercoles','Jueves','Viernes','Sabado'], 'venta_refresco':[25, 14, 59, 37, 10, 28]})\n",
        "data"
      ],
      "metadata": {
        "colab": {
          "base_uri": "https://localhost:8080/",
          "height": 237
        },
        "id": "bjy-O0nPtknl",
        "outputId": "2213efef-a756-4ac7-f207-e18b99cf49b2"
      },
      "execution_count": 3,
      "outputs": [
        {
          "output_type": "execute_result",
          "data": {
            "text/plain": [
              "         dia  venta_refresco\n",
              "0      Lunes              25\n",
              "1     Martes              14\n",
              "2  Miercoles              59\n",
              "3     Jueves              37\n",
              "4    Viernes              10\n",
              "5     Sabado              28"
            ],
            "text/html": [
              "\n",
              "  <div id=\"df-f1a10826-83c8-4f9a-93be-b28c0293218e\">\n",
              "    <div class=\"colab-df-container\">\n",
              "      <div>\n",
              "<style scoped>\n",
              "    .dataframe tbody tr th:only-of-type {\n",
              "        vertical-align: middle;\n",
              "    }\n",
              "\n",
              "    .dataframe tbody tr th {\n",
              "        vertical-align: top;\n",
              "    }\n",
              "\n",
              "    .dataframe thead th {\n",
              "        text-align: right;\n",
              "    }\n",
              "</style>\n",
              "<table border=\"1\" class=\"dataframe\">\n",
              "  <thead>\n",
              "    <tr style=\"text-align: right;\">\n",
              "      <th></th>\n",
              "      <th>dia</th>\n",
              "      <th>venta_refresco</th>\n",
              "    </tr>\n",
              "  </thead>\n",
              "  <tbody>\n",
              "    <tr>\n",
              "      <th>0</th>\n",
              "      <td>Lunes</td>\n",
              "      <td>25</td>\n",
              "    </tr>\n",
              "    <tr>\n",
              "      <th>1</th>\n",
              "      <td>Martes</td>\n",
              "      <td>14</td>\n",
              "    </tr>\n",
              "    <tr>\n",
              "      <th>2</th>\n",
              "      <td>Miercoles</td>\n",
              "      <td>59</td>\n",
              "    </tr>\n",
              "    <tr>\n",
              "      <th>3</th>\n",
              "      <td>Jueves</td>\n",
              "      <td>37</td>\n",
              "    </tr>\n",
              "    <tr>\n",
              "      <th>4</th>\n",
              "      <td>Viernes</td>\n",
              "      <td>10</td>\n",
              "    </tr>\n",
              "    <tr>\n",
              "      <th>5</th>\n",
              "      <td>Sabado</td>\n",
              "      <td>28</td>\n",
              "    </tr>\n",
              "  </tbody>\n",
              "</table>\n",
              "</div>\n",
              "      <button class=\"colab-df-convert\" onclick=\"convertToInteractive('df-f1a10826-83c8-4f9a-93be-b28c0293218e')\"\n",
              "              title=\"Convert this dataframe to an interactive table.\"\n",
              "              style=\"display:none;\">\n",
              "        \n",
              "  <svg xmlns=\"http://www.w3.org/2000/svg\" height=\"24px\"viewBox=\"0 0 24 24\"\n",
              "       width=\"24px\">\n",
              "    <path d=\"M0 0h24v24H0V0z\" fill=\"none\"/>\n",
              "    <path d=\"M18.56 5.44l.94 2.06.94-2.06 2.06-.94-2.06-.94-.94-2.06-.94 2.06-2.06.94zm-11 1L8.5 8.5l.94-2.06 2.06-.94-2.06-.94L8.5 2.5l-.94 2.06-2.06.94zm10 10l.94 2.06.94-2.06 2.06-.94-2.06-.94-.94-2.06-.94 2.06-2.06.94z\"/><path d=\"M17.41 7.96l-1.37-1.37c-.4-.4-.92-.59-1.43-.59-.52 0-1.04.2-1.43.59L10.3 9.45l-7.72 7.72c-.78.78-.78 2.05 0 2.83L4 21.41c.39.39.9.59 1.41.59.51 0 1.02-.2 1.41-.59l7.78-7.78 2.81-2.81c.8-.78.8-2.07 0-2.86zM5.41 20L4 18.59l7.72-7.72 1.47 1.35L5.41 20z\"/>\n",
              "  </svg>\n",
              "      </button>\n",
              "      \n",
              "  <style>\n",
              "    .colab-df-container {\n",
              "      display:flex;\n",
              "      flex-wrap:wrap;\n",
              "      gap: 12px;\n",
              "    }\n",
              "\n",
              "    .colab-df-convert {\n",
              "      background-color: #E8F0FE;\n",
              "      border: none;\n",
              "      border-radius: 50%;\n",
              "      cursor: pointer;\n",
              "      display: none;\n",
              "      fill: #1967D2;\n",
              "      height: 32px;\n",
              "      padding: 0 0 0 0;\n",
              "      width: 32px;\n",
              "    }\n",
              "\n",
              "    .colab-df-convert:hover {\n",
              "      background-color: #E2EBFA;\n",
              "      box-shadow: 0px 1px 2px rgba(60, 64, 67, 0.3), 0px 1px 3px 1px rgba(60, 64, 67, 0.15);\n",
              "      fill: #174EA6;\n",
              "    }\n",
              "\n",
              "    [theme=dark] .colab-df-convert {\n",
              "      background-color: #3B4455;\n",
              "      fill: #D2E3FC;\n",
              "    }\n",
              "\n",
              "    [theme=dark] .colab-df-convert:hover {\n",
              "      background-color: #434B5C;\n",
              "      box-shadow: 0px 1px 3px 1px rgba(0, 0, 0, 0.15);\n",
              "      filter: drop-shadow(0px 1px 2px rgba(0, 0, 0, 0.3));\n",
              "      fill: #FFFFFF;\n",
              "    }\n",
              "  </style>\n",
              "\n",
              "      <script>\n",
              "        const buttonEl =\n",
              "          document.querySelector('#df-f1a10826-83c8-4f9a-93be-b28c0293218e button.colab-df-convert');\n",
              "        buttonEl.style.display =\n",
              "          google.colab.kernel.accessAllowed ? 'block' : 'none';\n",
              "\n",
              "        async function convertToInteractive(key) {\n",
              "          const element = document.querySelector('#df-f1a10826-83c8-4f9a-93be-b28c0293218e');\n",
              "          const dataTable =\n",
              "            await google.colab.kernel.invokeFunction('convertToInteractive',\n",
              "                                                     [key], {});\n",
              "          if (!dataTable) return;\n",
              "\n",
              "          const docLinkHtml = 'Like what you see? Visit the ' +\n",
              "            '<a target=\"_blank\" href=https://colab.research.google.com/notebooks/data_table.ipynb>data table notebook</a>'\n",
              "            + ' to learn more about interactive tables.';\n",
              "          element.innerHTML = '';\n",
              "          dataTable['output_type'] = 'display_data';\n",
              "          await google.colab.output.renderOutput(dataTable, element);\n",
              "          const docLink = document.createElement('div');\n",
              "          docLink.innerHTML = docLinkHtml;\n",
              "          element.appendChild(docLink);\n",
              "        }\n",
              "      </script>\n",
              "    </div>\n",
              "  </div>\n",
              "  "
            ]
          },
          "metadata": {},
          "execution_count": 3
        }
      ]
    },
    {
      "cell_type": "code",
      "source": [
        "data2 = pd.read_csv('https://raw.githubusercontent.com/Kaiziferr/datasets/main/cryptojacking.csv')\n",
        "data2"
      ],
      "metadata": {
        "id": "qq6JcUy-tC_R",
        "outputId": "087751a9-3fcd-4fb8-9be5-746a2aaf230a",
        "colab": {
          "base_uri": "https://localhost:8080/",
          "height": 678
        }
      },
      "execution_count": 4,
      "outputs": [
        {
          "output_type": "execute_result",
          "data": {
            "text/plain": [
              "      Unnamed: 0            Name  Netflows First_Protocol Second_Protocol  \\\n",
              "0              0   0-csves/0.csv        65            TCP             UDP   \n",
              "1              1   0-csves/1.csv        18            UDP             TCP   \n",
              "2              2   1-csves/0.csv        10            UDP             NaN   \n",
              "3              3   1-csves/1.csv      2771            UDP             TCP   \n",
              "4              4   2-csves/0.csv         2            UDP             NaN   \n",
              "...          ...             ...       ...            ...             ...   \n",
              "2832         262  76-csves/0.csv         2            TCP             NaN   \n",
              "2833         263  76-csves/1.csv         2            TCP             NaN   \n",
              "2834         264  76-csves/2.csv         2            TCP             NaN   \n",
              "2835         265  76-csves/3.csv         2            TCP             NaN   \n",
              "2836         266  76-csves/4.csv         2            TCP             NaN   \n",
              "\n",
              "     Third_Protocol       p1_d      p2_d       p3_d  duration  ...  first_dp  \\\n",
              "0               NaN   18.93900  168.1730  194.28700  7845.126  ...       443   \n",
              "1               NaN    0.00000    0.0000    0.00000     0.086  ...       443   \n",
              "2               NaN    0.00000    0.0000    0.00000     0.000  ...        53   \n",
              "3             ICMP6    0.00000    0.0000    0.00000  8548.902  ...        53   \n",
              "4               NaN    0.00000    0.0000    0.00000     0.000  ...     48871   \n",
              "...             ...        ...       ...        ...       ...  ...       ...   \n",
              "2832            NaN    2.15850    4.3170    6.47550     8.634  ...      3333   \n",
              "2833            NaN  583.36850  583.8100  584.25150  1167.620  ...      3333   \n",
              "2834            NaN  288.55375  288.5545  288.55525   577.109  ...      3333   \n",
              "2835            NaN  285.37900  285.3790  285.37900   570.758  ...      3333   \n",
              "2836            NaN  267.03625  267.0365  267.03675   534.073  ...      3333   \n",
              "\n",
              "      second_dp  third_dp  p1_ip  p2_ip  p3_ip     p1_ib    p2_ib     p3_ib  \\\n",
              "0          80.0     123.0   3.00    7.0  22.00    127.00    255.0   1888.00   \n",
              "1          53.0   53195.0   1.00    1.0   1.00     37.00     47.0     64.00   \n",
              "2       39308.0   54454.0   1.00    1.0   1.00     34.00     43.0     61.75   \n",
              "3        5355.0     443.0   1.00    1.0   1.00     39.00     49.0     54.00   \n",
              "4          53.0       NaN   1.00    1.0   1.00     37.00     41.0     45.00   \n",
              "...         ...       ...    ...    ...    ...       ...      ...       ...   \n",
              "2832    52003.0       NaN   1.25    1.5   1.75    328.25    636.5    944.75   \n",
              "2833    52003.0       NaN  53.50   55.0  56.50  10108.75  18532.5  26956.25   \n",
              "2834    52003.0       NaN  22.25   22.5  22.75   3865.00   7165.0  10465.00   \n",
              "2835    52003.0       NaN  24.75   25.5  26.25   4627.50   8400.0  12172.50   \n",
              "2836    52003.0       NaN  21.00   21.0  21.00   4370.50   8321.0  12271.50   \n",
              "\n",
              "      Type  \n",
              "0        0  \n",
              "1        0  \n",
              "2        0  \n",
              "3        0  \n",
              "4        0  \n",
              "...    ...  \n",
              "2832     5  \n",
              "2833     5  \n",
              "2834     5  \n",
              "2835     5  \n",
              "2836     5  \n",
              "\n",
              "[2837 rows x 32 columns]"
            ],
            "text/html": [
              "\n",
              "  <div id=\"df-6579390f-ce8a-4011-97e0-8e2ab245d80d\">\n",
              "    <div class=\"colab-df-container\">\n",
              "      <div>\n",
              "<style scoped>\n",
              "    .dataframe tbody tr th:only-of-type {\n",
              "        vertical-align: middle;\n",
              "    }\n",
              "\n",
              "    .dataframe tbody tr th {\n",
              "        vertical-align: top;\n",
              "    }\n",
              "\n",
              "    .dataframe thead th {\n",
              "        text-align: right;\n",
              "    }\n",
              "</style>\n",
              "<table border=\"1\" class=\"dataframe\">\n",
              "  <thead>\n",
              "    <tr style=\"text-align: right;\">\n",
              "      <th></th>\n",
              "      <th>Unnamed: 0</th>\n",
              "      <th>Name</th>\n",
              "      <th>Netflows</th>\n",
              "      <th>First_Protocol</th>\n",
              "      <th>Second_Protocol</th>\n",
              "      <th>Third_Protocol</th>\n",
              "      <th>p1_d</th>\n",
              "      <th>p2_d</th>\n",
              "      <th>p3_d</th>\n",
              "      <th>duration</th>\n",
              "      <th>...</th>\n",
              "      <th>first_dp</th>\n",
              "      <th>second_dp</th>\n",
              "      <th>third_dp</th>\n",
              "      <th>p1_ip</th>\n",
              "      <th>p2_ip</th>\n",
              "      <th>p3_ip</th>\n",
              "      <th>p1_ib</th>\n",
              "      <th>p2_ib</th>\n",
              "      <th>p3_ib</th>\n",
              "      <th>Type</th>\n",
              "    </tr>\n",
              "  </thead>\n",
              "  <tbody>\n",
              "    <tr>\n",
              "      <th>0</th>\n",
              "      <td>0</td>\n",
              "      <td>0-csves/0.csv</td>\n",
              "      <td>65</td>\n",
              "      <td>TCP</td>\n",
              "      <td>UDP</td>\n",
              "      <td>NaN</td>\n",
              "      <td>18.93900</td>\n",
              "      <td>168.1730</td>\n",
              "      <td>194.28700</td>\n",
              "      <td>7845.126</td>\n",
              "      <td>...</td>\n",
              "      <td>443</td>\n",
              "      <td>80.0</td>\n",
              "      <td>123.0</td>\n",
              "      <td>3.00</td>\n",
              "      <td>7.0</td>\n",
              "      <td>22.00</td>\n",
              "      <td>127.00</td>\n",
              "      <td>255.0</td>\n",
              "      <td>1888.00</td>\n",
              "      <td>0</td>\n",
              "    </tr>\n",
              "    <tr>\n",
              "      <th>1</th>\n",
              "      <td>1</td>\n",
              "      <td>0-csves/1.csv</td>\n",
              "      <td>18</td>\n",
              "      <td>UDP</td>\n",
              "      <td>TCP</td>\n",
              "      <td>NaN</td>\n",
              "      <td>0.00000</td>\n",
              "      <td>0.0000</td>\n",
              "      <td>0.00000</td>\n",
              "      <td>0.086</td>\n",
              "      <td>...</td>\n",
              "      <td>443</td>\n",
              "      <td>53.0</td>\n",
              "      <td>53195.0</td>\n",
              "      <td>1.00</td>\n",
              "      <td>1.0</td>\n",
              "      <td>1.00</td>\n",
              "      <td>37.00</td>\n",
              "      <td>47.0</td>\n",
              "      <td>64.00</td>\n",
              "      <td>0</td>\n",
              "    </tr>\n",
              "    <tr>\n",
              "      <th>2</th>\n",
              "      <td>2</td>\n",
              "      <td>1-csves/0.csv</td>\n",
              "      <td>10</td>\n",
              "      <td>UDP</td>\n",
              "      <td>NaN</td>\n",
              "      <td>NaN</td>\n",
              "      <td>0.00000</td>\n",
              "      <td>0.0000</td>\n",
              "      <td>0.00000</td>\n",
              "      <td>0.000</td>\n",
              "      <td>...</td>\n",
              "      <td>53</td>\n",
              "      <td>39308.0</td>\n",
              "      <td>54454.0</td>\n",
              "      <td>1.00</td>\n",
              "      <td>1.0</td>\n",
              "      <td>1.00</td>\n",
              "      <td>34.00</td>\n",
              "      <td>43.0</td>\n",
              "      <td>61.75</td>\n",
              "      <td>0</td>\n",
              "    </tr>\n",
              "    <tr>\n",
              "      <th>3</th>\n",
              "      <td>3</td>\n",
              "      <td>1-csves/1.csv</td>\n",
              "      <td>2771</td>\n",
              "      <td>UDP</td>\n",
              "      <td>TCP</td>\n",
              "      <td>ICMP6</td>\n",
              "      <td>0.00000</td>\n",
              "      <td>0.0000</td>\n",
              "      <td>0.00000</td>\n",
              "      <td>8548.902</td>\n",
              "      <td>...</td>\n",
              "      <td>53</td>\n",
              "      <td>5355.0</td>\n",
              "      <td>443.0</td>\n",
              "      <td>1.00</td>\n",
              "      <td>1.0</td>\n",
              "      <td>1.00</td>\n",
              "      <td>39.00</td>\n",
              "      <td>49.0</td>\n",
              "      <td>54.00</td>\n",
              "      <td>0</td>\n",
              "    </tr>\n",
              "    <tr>\n",
              "      <th>4</th>\n",
              "      <td>4</td>\n",
              "      <td>2-csves/0.csv</td>\n",
              "      <td>2</td>\n",
              "      <td>UDP</td>\n",
              "      <td>NaN</td>\n",
              "      <td>NaN</td>\n",
              "      <td>0.00000</td>\n",
              "      <td>0.0000</td>\n",
              "      <td>0.00000</td>\n",
              "      <td>0.000</td>\n",
              "      <td>...</td>\n",
              "      <td>48871</td>\n",
              "      <td>53.0</td>\n",
              "      <td>NaN</td>\n",
              "      <td>1.00</td>\n",
              "      <td>1.0</td>\n",
              "      <td>1.00</td>\n",
              "      <td>37.00</td>\n",
              "      <td>41.0</td>\n",
              "      <td>45.00</td>\n",
              "      <td>0</td>\n",
              "    </tr>\n",
              "    <tr>\n",
              "      <th>...</th>\n",
              "      <td>...</td>\n",
              "      <td>...</td>\n",
              "      <td>...</td>\n",
              "      <td>...</td>\n",
              "      <td>...</td>\n",
              "      <td>...</td>\n",
              "      <td>...</td>\n",
              "      <td>...</td>\n",
              "      <td>...</td>\n",
              "      <td>...</td>\n",
              "      <td>...</td>\n",
              "      <td>...</td>\n",
              "      <td>...</td>\n",
              "      <td>...</td>\n",
              "      <td>...</td>\n",
              "      <td>...</td>\n",
              "      <td>...</td>\n",
              "      <td>...</td>\n",
              "      <td>...</td>\n",
              "      <td>...</td>\n",
              "      <td>...</td>\n",
              "    </tr>\n",
              "    <tr>\n",
              "      <th>2832</th>\n",
              "      <td>262</td>\n",
              "      <td>76-csves/0.csv</td>\n",
              "      <td>2</td>\n",
              "      <td>TCP</td>\n",
              "      <td>NaN</td>\n",
              "      <td>NaN</td>\n",
              "      <td>2.15850</td>\n",
              "      <td>4.3170</td>\n",
              "      <td>6.47550</td>\n",
              "      <td>8.634</td>\n",
              "      <td>...</td>\n",
              "      <td>3333</td>\n",
              "      <td>52003.0</td>\n",
              "      <td>NaN</td>\n",
              "      <td>1.25</td>\n",
              "      <td>1.5</td>\n",
              "      <td>1.75</td>\n",
              "      <td>328.25</td>\n",
              "      <td>636.5</td>\n",
              "      <td>944.75</td>\n",
              "      <td>5</td>\n",
              "    </tr>\n",
              "    <tr>\n",
              "      <th>2833</th>\n",
              "      <td>263</td>\n",
              "      <td>76-csves/1.csv</td>\n",
              "      <td>2</td>\n",
              "      <td>TCP</td>\n",
              "      <td>NaN</td>\n",
              "      <td>NaN</td>\n",
              "      <td>583.36850</td>\n",
              "      <td>583.8100</td>\n",
              "      <td>584.25150</td>\n",
              "      <td>1167.620</td>\n",
              "      <td>...</td>\n",
              "      <td>3333</td>\n",
              "      <td>52003.0</td>\n",
              "      <td>NaN</td>\n",
              "      <td>53.50</td>\n",
              "      <td>55.0</td>\n",
              "      <td>56.50</td>\n",
              "      <td>10108.75</td>\n",
              "      <td>18532.5</td>\n",
              "      <td>26956.25</td>\n",
              "      <td>5</td>\n",
              "    </tr>\n",
              "    <tr>\n",
              "      <th>2834</th>\n",
              "      <td>264</td>\n",
              "      <td>76-csves/2.csv</td>\n",
              "      <td>2</td>\n",
              "      <td>TCP</td>\n",
              "      <td>NaN</td>\n",
              "      <td>NaN</td>\n",
              "      <td>288.55375</td>\n",
              "      <td>288.5545</td>\n",
              "      <td>288.55525</td>\n",
              "      <td>577.109</td>\n",
              "      <td>...</td>\n",
              "      <td>3333</td>\n",
              "      <td>52003.0</td>\n",
              "      <td>NaN</td>\n",
              "      <td>22.25</td>\n",
              "      <td>22.5</td>\n",
              "      <td>22.75</td>\n",
              "      <td>3865.00</td>\n",
              "      <td>7165.0</td>\n",
              "      <td>10465.00</td>\n",
              "      <td>5</td>\n",
              "    </tr>\n",
              "    <tr>\n",
              "      <th>2835</th>\n",
              "      <td>265</td>\n",
              "      <td>76-csves/3.csv</td>\n",
              "      <td>2</td>\n",
              "      <td>TCP</td>\n",
              "      <td>NaN</td>\n",
              "      <td>NaN</td>\n",
              "      <td>285.37900</td>\n",
              "      <td>285.3790</td>\n",
              "      <td>285.37900</td>\n",
              "      <td>570.758</td>\n",
              "      <td>...</td>\n",
              "      <td>3333</td>\n",
              "      <td>52003.0</td>\n",
              "      <td>NaN</td>\n",
              "      <td>24.75</td>\n",
              "      <td>25.5</td>\n",
              "      <td>26.25</td>\n",
              "      <td>4627.50</td>\n",
              "      <td>8400.0</td>\n",
              "      <td>12172.50</td>\n",
              "      <td>5</td>\n",
              "    </tr>\n",
              "    <tr>\n",
              "      <th>2836</th>\n",
              "      <td>266</td>\n",
              "      <td>76-csves/4.csv</td>\n",
              "      <td>2</td>\n",
              "      <td>TCP</td>\n",
              "      <td>NaN</td>\n",
              "      <td>NaN</td>\n",
              "      <td>267.03625</td>\n",
              "      <td>267.0365</td>\n",
              "      <td>267.03675</td>\n",
              "      <td>534.073</td>\n",
              "      <td>...</td>\n",
              "      <td>3333</td>\n",
              "      <td>52003.0</td>\n",
              "      <td>NaN</td>\n",
              "      <td>21.00</td>\n",
              "      <td>21.0</td>\n",
              "      <td>21.00</td>\n",
              "      <td>4370.50</td>\n",
              "      <td>8321.0</td>\n",
              "      <td>12271.50</td>\n",
              "      <td>5</td>\n",
              "    </tr>\n",
              "  </tbody>\n",
              "</table>\n",
              "<p>2837 rows × 32 columns</p>\n",
              "</div>\n",
              "      <button class=\"colab-df-convert\" onclick=\"convertToInteractive('df-6579390f-ce8a-4011-97e0-8e2ab245d80d')\"\n",
              "              title=\"Convert this dataframe to an interactive table.\"\n",
              "              style=\"display:none;\">\n",
              "        \n",
              "  <svg xmlns=\"http://www.w3.org/2000/svg\" height=\"24px\"viewBox=\"0 0 24 24\"\n",
              "       width=\"24px\">\n",
              "    <path d=\"M0 0h24v24H0V0z\" fill=\"none\"/>\n",
              "    <path d=\"M18.56 5.44l.94 2.06.94-2.06 2.06-.94-2.06-.94-.94-2.06-.94 2.06-2.06.94zm-11 1L8.5 8.5l.94-2.06 2.06-.94-2.06-.94L8.5 2.5l-.94 2.06-2.06.94zm10 10l.94 2.06.94-2.06 2.06-.94-2.06-.94-.94-2.06-.94 2.06-2.06.94z\"/><path d=\"M17.41 7.96l-1.37-1.37c-.4-.4-.92-.59-1.43-.59-.52 0-1.04.2-1.43.59L10.3 9.45l-7.72 7.72c-.78.78-.78 2.05 0 2.83L4 21.41c.39.39.9.59 1.41.59.51 0 1.02-.2 1.41-.59l7.78-7.78 2.81-2.81c.8-.78.8-2.07 0-2.86zM5.41 20L4 18.59l7.72-7.72 1.47 1.35L5.41 20z\"/>\n",
              "  </svg>\n",
              "      </button>\n",
              "      \n",
              "  <style>\n",
              "    .colab-df-container {\n",
              "      display:flex;\n",
              "      flex-wrap:wrap;\n",
              "      gap: 12px;\n",
              "    }\n",
              "\n",
              "    .colab-df-convert {\n",
              "      background-color: #E8F0FE;\n",
              "      border: none;\n",
              "      border-radius: 50%;\n",
              "      cursor: pointer;\n",
              "      display: none;\n",
              "      fill: #1967D2;\n",
              "      height: 32px;\n",
              "      padding: 0 0 0 0;\n",
              "      width: 32px;\n",
              "    }\n",
              "\n",
              "    .colab-df-convert:hover {\n",
              "      background-color: #E2EBFA;\n",
              "      box-shadow: 0px 1px 2px rgba(60, 64, 67, 0.3), 0px 1px 3px 1px rgba(60, 64, 67, 0.15);\n",
              "      fill: #174EA6;\n",
              "    }\n",
              "\n",
              "    [theme=dark] .colab-df-convert {\n",
              "      background-color: #3B4455;\n",
              "      fill: #D2E3FC;\n",
              "    }\n",
              "\n",
              "    [theme=dark] .colab-df-convert:hover {\n",
              "      background-color: #434B5C;\n",
              "      box-shadow: 0px 1px 3px 1px rgba(0, 0, 0, 0.15);\n",
              "      filter: drop-shadow(0px 1px 2px rgba(0, 0, 0, 0.3));\n",
              "      fill: #FFFFFF;\n",
              "    }\n",
              "  </style>\n",
              "\n",
              "      <script>\n",
              "        const buttonEl =\n",
              "          document.querySelector('#df-6579390f-ce8a-4011-97e0-8e2ab245d80d button.colab-df-convert');\n",
              "        buttonEl.style.display =\n",
              "          google.colab.kernel.accessAllowed ? 'block' : 'none';\n",
              "\n",
              "        async function convertToInteractive(key) {\n",
              "          const element = document.querySelector('#df-6579390f-ce8a-4011-97e0-8e2ab245d80d');\n",
              "          const dataTable =\n",
              "            await google.colab.kernel.invokeFunction('convertToInteractive',\n",
              "                                                     [key], {});\n",
              "          if (!dataTable) return;\n",
              "\n",
              "          const docLinkHtml = 'Like what you see? Visit the ' +\n",
              "            '<a target=\"_blank\" href=https://colab.research.google.com/notebooks/data_table.ipynb>data table notebook</a>'\n",
              "            + ' to learn more about interactive tables.';\n",
              "          element.innerHTML = '';\n",
              "          dataTable['output_type'] = 'display_data';\n",
              "          await google.colab.output.renderOutput(dataTable, element);\n",
              "          const docLink = document.createElement('div');\n",
              "          docLink.innerHTML = docLinkHtml;\n",
              "          element.appendChild(docLink);\n",
              "        }\n",
              "      </script>\n",
              "    </div>\n",
              "  </div>\n",
              "  "
            ]
          },
          "metadata": {},
          "execution_count": 4
        }
      ]
    },
    {
      "cell_type": "code",
      "source": [
        "sns.set(style=\"darkgrid\")\n",
        "\n",
        "def plot_bar(data, palette, figsize_x=8,figsize_y=8,fontsize=15, **kwards)->None:\n",
        "  \"\"\"Grafica un diagrama de barras con multiples caracteristicas\"\"\"\n",
        "  v = kwards\n",
        "  fig, ax = plt.subplots(figsize = (figsize_x, figsize_y))\n",
        "  fig.suptitle(f'Diagrama de barras {v[\"title\"]}', fontsize=fontsize)\n",
        "  sns.barplot(x=v['ejeX'], y=v['ejey'], data=data, ci=None, ax=ax, palette=palette)\n",
        "  ax.set_ylabel(v['ejey'], size = 12)\n",
        "  ax.set_xlabel(v['ejeX'], size=fontsize-3)\n",
        "  ax.set_xticklabels(ax.get_xticklabels(),fontsize = fontsize-3)\n",
        "  for p in ax.patches:\n",
        "    height = int(p.get_height())\n",
        "    ax.text(p.get_x()+p.get_width()/2., height + 1,height, ha=\"center\") "
      ],
      "metadata": {
        "id": "zlGTLWihtBSN"
      },
      "execution_count": 5,
      "outputs": []
    },
    {
      "cell_type": "code",
      "source": [
        "palette = {\n",
        "    'Lunes': '#ff6602ff',\n",
        "    'Martes': '#0f7175ff',\n",
        "    'Miercoles': '#c65dc9ff',\n",
        "    'Jueves': \"#a8329b\",\n",
        "    'Viernes': \"#1d15bd\",\n",
        "    'Sabado': \"#bd4215\"\n",
        "}"
      ],
      "metadata": {
        "id": "OBtxTjP0y0mW"
      },
      "execution_count": 6,
      "outputs": []
    },
    {
      "cell_type": "code",
      "source": [
        "plot_bar(data, palette, ejeX='dia',ejey='venta_refresco',title='Venta refrescos')"
      ],
      "metadata": {
        "id": "Sg59znJgt-PB",
        "outputId": "364ebdf3-ba74-4749-9e6e-f10f42929f42",
        "colab": {
          "base_uri": "https://localhost:8080/",
          "height": 563
        }
      },
      "execution_count": 7,
      "outputs": [
        {
          "output_type": "display_data",
          "data": {
            "text/plain": [
              "<Figure size 576x576 with 1 Axes>"
            ],
            "image/png": "[encoded data removed]"
          },
          "metadata": {}
        }
      ]
    },
    {
      "cell_type": "markdown",
      "source": [
        "# Tabla de frecuencias\n",
        "---"
      ],
      "metadata": {
        "id": "g-PlEycrWlWp"
      }
    },
    {
      "cell_type": "code",
      "source": [
        "def table_frecuency_dsicrete(data, category, values):\n",
        "  table_frecuency = pd.DataFrame()\n",
        "  table_frecuency['xi'] = data[category].values\n",
        "  table_frecuency['ni'] = data[values].values\n",
        "  table_frecuency['fi'] = round(table_frecuency['ni']/data[values].sum(), 3)\n",
        "  table_frecuency['Ni'] = table_frecuency['ni'].cumsum()\n",
        "  table_frecuency['Fi'] = round(table_frecuency['fi'].cumsum(), 3)\n",
        "  temp = pd.Series(table_frecuency['Fi'])\n",
        "  temp.iloc[-1] = round(temp.iloc[-1] , 0)\n",
        "  table_frecuency['Fi'] = temp\n",
        "  return table_frecuency\n",
        "\n",
        "table_frecuency = table_frecuency_dsicrete(data, 'dia', 'venta_refresco')\n",
        "table_frecuency"
      ],
      "metadata": {
        "colab": {
          "base_uri": "https://localhost:8080/",
          "height": 237
        },
        "id": "_MmMLl-rAn7W",
        "outputId": "72901deb-42c0-4697-9593-4f70c540413b"
      },
      "execution_count": 8,
      "outputs": [
        {
          "output_type": "execute_result",
          "data": {
            "text/plain": [
              "          xi  ni     fi   Ni     Fi\n",
              "0      Lunes  25  0.145   25  0.145\n",
              "1     Martes  14  0.081   39  0.226\n",
              "2  Miercoles  59  0.341   98  0.567\n",
              "3     Jueves  37  0.214  135  0.781\n",
              "4    Viernes  10  0.058  145  0.839\n",
              "5     Sabado  28  0.162  173  1.000"
            ],
            "text/html": [
              "\n",
              "  <div id=\"df-2498c38a-ae31-4068-bfce-ccbf336fe6e8\">\n",
              "    <div class=\"colab-df-container\">\n",
              "      <div>\n",
              "<style scoped>\n",
              "    .dataframe tbody tr th:only-of-type {\n",
              "        vertical-align: middle;\n",
              "    }\n",
              "\n",
              "    .dataframe tbody tr th {\n",
              "        vertical-align: top;\n",
              "    }\n",
              "\n",
              "    .dataframe thead th {\n",
              "        text-align: right;\n",
              "    }\n",
              "</style>\n",
              "<table border=\"1\" class=\"dataframe\">\n",
              "  <thead>\n",
              "    <tr style=\"text-align: right;\">\n",
              "      <th></th>\n",
              "      <th>xi</th>\n",
              "      <th>ni</th>\n",
              "      <th>fi</th>\n",
              "      <th>Ni</th>\n",
              "      <th>Fi</th>\n",
              "    </tr>\n",
              "  </thead>\n",
              "  <tbody>\n",
              "    <tr>\n",
              "      <th>0</th>\n",
              "      <td>Lunes</td>\n",
              "      <td>25</td>\n",
              "      <td>0.145</td>\n",
              "      <td>25</td>\n",
              "      <td>0.145</td>\n",
              "    </tr>\n",
              "    <tr>\n",
              "      <th>1</th>\n",
              "      <td>Martes</td>\n",
              "      <td>14</td>\n",
              "      <td>0.081</td>\n",
              "      <td>39</td>\n",
              "      <td>0.226</td>\n",
              "    </tr>\n",
              "    <tr>\n",
              "      <th>2</th>\n",
              "      <td>Miercoles</td>\n",
              "      <td>59</td>\n",
              "      <td>0.341</td>\n",
              "      <td>98</td>\n",
              "      <td>0.567</td>\n",
              "    </tr>\n",
              "    <tr>\n",
              "      <th>3</th>\n",
              "      <td>Jueves</td>\n",
              "      <td>37</td>\n",
              "      <td>0.214</td>\n",
              "      <td>135</td>\n",
              "      <td>0.781</td>\n",
              "    </tr>\n",
              "    <tr>\n",
              "      <th>4</th>\n",
              "      <td>Viernes</td>\n",
              "      <td>10</td>\n",
              "      <td>0.058</td>\n",
              "      <td>145</td>\n",
              "      <td>0.839</td>\n",
              "    </tr>\n",
              "    <tr>\n",
              "      <th>5</th>\n",
              "      <td>Sabado</td>\n",
              "      <td>28</td>\n",
              "      <td>0.162</td>\n",
              "      <td>173</td>\n",
              "      <td>1.000</td>\n",
              "    </tr>\n",
              "  </tbody>\n",
              "</table>\n",
              "</div>\n",
              "      <button class=\"colab-df-convert\" onclick=\"convertToInteractive('df-2498c38a-ae31-4068-bfce-ccbf336fe6e8')\"\n",
              "              title=\"Convert this dataframe to an interactive table.\"\n",
              "              style=\"display:none;\">\n",
              "        \n",
              "  <svg xmlns=\"http://www.w3.org/2000/svg\" height=\"24px\"viewBox=\"0 0 24 24\"\n",
              "       width=\"24px\">\n",
              "    <path d=\"M0 0h24v24H0V0z\" fill=\"none\"/>\n",
              "    <path d=\"M18.56 5.44l.94 2.06.94-2.06 2.06-.94-2.06-.94-.94-2.06-.94 2.06-2.06.94zm-11 1L8.5 8.5l.94-2.06 2.06-.94-2.06-.94L8.5 2.5l-.94 2.06-2.06.94zm10 10l.94 2.06.94-2.06 2.06-.94-2.06-.94-.94-2.06-.94 2.06-2.06.94z\"/><path d=\"M17.41 7.96l-1.37-1.37c-.4-.4-.92-.59-1.43-.59-.52 0-1.04.2-1.43.59L10.3 9.45l-7.72 7.72c-.78.78-.78 2.05 0 2.83L4 21.41c.39.39.9.59 1.41.59.51 0 1.02-.2 1.41-.59l7.78-7.78 2.81-2.81c.8-.78.8-2.07 0-2.86zM5.41 20L4 18.59l7.72-7.72 1.47 1.35L5.41 20z\"/>\n",
              "  </svg>\n",
              "      </button>\n",
              "      \n",
              "  <style>\n",
              "    .colab-df-container {\n",
              "      display:flex;\n",
              "      flex-wrap:wrap;\n",
              "      gap: 12px;\n",
              "    }\n",
              "\n",
              "    .colab-df-convert {\n",
              "      background-color: #E8F0FE;\n",
              "      border: none;\n",
              "      border-radius: 50%;\n",
              "      cursor: pointer;\n",
              "      display: none;\n",
              "      fill: #1967D2;\n",
              "      height: 32px;\n",
              "      padding: 0 0 0 0;\n",
              "      width: 32px;\n",
              "    }\n",
              "\n",
              "    .colab-df-convert:hover {\n",
              "      background-color: #E2EBFA;\n",
              "      box-shadow: 0px 1px 2px rgba(60, 64, 67, 0.3), 0px 1px 3px 1px rgba(60, 64, 67, 0.15);\n",
              "      fill: #174EA6;\n",
              "    }\n",
              "\n",
              "    [theme=dark] .colab-df-convert {\n",
              "      background-color: #3B4455;\n",
              "      fill: #D2E3FC;\n",
              "    }\n",
              "\n",
              "    [theme=dark] .colab-df-convert:hover {\n",
              "      background-color: #434B5C;\n",
              "      box-shadow: 0px 1px 3px 1px rgba(0, 0, 0, 0.15);\n",
              "      filter: drop-shadow(0px 1px 2px rgba(0, 0, 0, 0.3));\n",
              "      fill: #FFFFFF;\n",
              "    }\n",
              "  </style>\n",
              "\n",
              "      <script>\n",
              "        const buttonEl =\n",
              "          document.querySelector('#df-2498c38a-ae31-4068-bfce-ccbf336fe6e8 button.colab-df-convert');\n",
              "        buttonEl.style.display =\n",
              "          google.colab.kernel.accessAllowed ? 'block' : 'none';\n",
              "\n",
              "        async function convertToInteractive(key) {\n",
              "          const element = document.querySelector('#df-2498c38a-ae31-4068-bfce-ccbf336fe6e8');\n",
              "          const dataTable =\n",
              "            await google.colab.kernel.invokeFunction('convertToInteractive',\n",
              "                                                     [key], {});\n",
              "          if (!dataTable) return;\n",
              "\n",
              "          const docLinkHtml = 'Like what you see? Visit the ' +\n",
              "            '<a target=\"_blank\" href=https://colab.research.google.com/notebooks/data_table.ipynb>data table notebook</a>'\n",
              "            + ' to learn more about interactive tables.';\n",
              "          element.innerHTML = '';\n",
              "          dataTable['output_type'] = 'display_data';\n",
              "          await google.colab.output.renderOutput(dataTable, element);\n",
              "          const docLink = document.createElement('div');\n",
              "          docLink.innerHTML = docLinkHtml;\n",
              "          element.appendChild(docLink);\n",
              "        }\n",
              "      </script>\n",
              "    </div>\n",
              "  </div>\n",
              "  "
            ]
          },
          "metadata": {},
          "execution_count": 8
        }
      ]
    },
    {
      "cell_type": "code",
      "source": [
        "print('Defina la variable en estudio, ¿De qué tipo es y cuál es su escala de medición?')\n",
        "print('Variable en estudio: Venta de refresco', 'Tipo de variable: Cuantitativa discreta', 'Escala: Razón', sep='\\n')"
      ],
      "metadata": {
        "colab": {
          "base_uri": "https://localhost:8080/"
        },
        "id": "iIav122RW6qw",
        "outputId": "c1e25e12-3a27-4436-d46b-4976e455e5c8"
      },
      "execution_count": 9,
      "outputs": [
        {
          "output_type": "stream",
          "name": "stdout",
          "text": [
            "Defina la variable en estudio, ¿De qué tipo es y cuál es su escala de medición?\n",
            "Variable en estudio: Venta de refresco\n",
            "Tipo de variable: Cuantitativa discreta\n",
            "Escala: Razón\n"
          ]
        }
      ]
    },
    {
      "cell_type": "code",
      "source": [
        "print('Qué día se vende menos refrescos?')\n",
        "print(f\"El día que se vende menos refrescos es: {table_frecuency[table_frecuency['ni'] == min(table_frecuency['ni'])]['xi'].values[0]}\")"
      ],
      "metadata": {
        "colab": {
          "base_uri": "https://localhost:8080/"
        },
        "id": "2lHBoYIpW-eZ",
        "outputId": "dc177e21-3ea9-449c-979c-828a035eeff9"
      },
      "execution_count": 10,
      "outputs": [
        {
          "output_type": "stream",
          "name": "stdout",
          "text": [
            "Qué día se vende menos refrescos?\n",
            "El día que se vende menos refrescos es: Viernes\n"
          ]
        }
      ]
    },
    {
      "cell_type": "code",
      "source": [
        "print('Qué día se vende más refrescos?')\n",
        "print(f\"El día que se vende más refrescos es: {table_frecuency[table_frecuency['ni'] == max(table_frecuency['ni'])]['xi'].values[0]}\")"
      ],
      "metadata": {
        "colab": {
          "base_uri": "https://localhost:8080/"
        },
        "id": "CptKIFyPX7_w",
        "outputId": "0e5ab897-513f-4c37-8f68-1c732e341db0"
      },
      "execution_count": 11,
      "outputs": [
        {
          "output_type": "stream",
          "name": "stdout",
          "text": [
            "Qué día se vende más refrescos?\n",
            "El día que se vende más refrescos es: Miercoles\n"
          ]
        }
      ]
    },
    {
      "cell_type": "code",
      "source": [
        "print('Cuántos refrescos se vendieron en toda la semana?')\n",
        "print(f'En toda la semana se vendieron {table_frecuency[\"ni\"].sum()} refrescos')"
      ],
      "metadata": {
        "colab": {
          "base_uri": "https://localhost:8080/"
        },
        "id": "Gr3sXtH9YHMK",
        "outputId": "3dd0b06e-73de-43ac-e023-e4e03a1e75ae"
      },
      "execution_count": 12,
      "outputs": [
        {
          "output_type": "stream",
          "name": "stdout",
          "text": [
            "Cuántos refrescos se vendieron en toda la semana?\n",
            "En toda la semana se vendieron 173 refrescos\n"
          ]
        }
      ]
    },
    {
      "cell_type": "code",
      "source": [
        "print('Cuál es el porcentaje que corresponde al día de más ventas?')\n",
        "print(f\"El día más vendido en porcentaje se vendio {table_frecuency[table_frecuency['ni'] == max(table_frecuency['ni'])]['fi'].values[0]} refrescos\")"
      ],
      "metadata": {
        "colab": {
          "base_uri": "https://localhost:8080/"
        },
        "id": "ece2OxWMYPP5",
        "outputId": "e37e4fe0-06cf-4183-acf7-b3aab8dbd3f8"
      },
      "execution_count": 13,
      "outputs": [
        {
          "output_type": "stream",
          "name": "stdout",
          "text": [
            "Cuál es el porcentaje que corresponde al día de más ventas?\n",
            "El día más vendido en porcentaje se vendio 0.341 refrescos\n"
          ]
        }
      ]
    },
    {
      "cell_type": "code",
      "source": [
        "print('Cuál es el porcentaje de ventas del día sábado?')\n",
        "print(f\"El día sabado en porcentaje se vendio {table_frecuency[table_frecuency['xi'] == 'Sabado']['fi'].values[0]} refrescos\")"
      ],
      "metadata": {
        "colab": {
          "base_uri": "https://localhost:8080/"
        },
        "id": "DB4ubMXmZXnj",
        "outputId": "1dd98eda-539a-4a18-e25c-54e6a6ff8195"
      },
      "execution_count": 14,
      "outputs": [
        {
          "output_type": "stream",
          "name": "stdout",
          "text": [
            "Cuál es el porcentaje de ventas del día sábado?\n",
            "El día sabado en porcentaje se vendio 0.162 refrescos\n"
          ]
        }
      ]
    },
    {
      "cell_type": "code",
      "source": [
        "print('Cuál es el porcentaje de los días lunes y martes en conjunto?')\n",
        "print(f'Desde el día lunes a martes en porcentaje se vendio {table_frecuency.iloc[1][-1]} refrescos')"
      ],
      "metadata": {
        "colab": {
          "base_uri": "https://localhost:8080/"
        },
        "id": "vB6cw9BwZwEE",
        "outputId": "177283fe-d57a-436c-b077-5833a372f662"
      },
      "execution_count": 15,
      "outputs": [
        {
          "output_type": "stream",
          "name": "stdout",
          "text": [
            "Cuál es el porcentaje de los días lunes y martes en conjunto?\n",
            "Desde el día lunes a martes en porcentaje se vendio 0.226 refrescos\n"
          ]
        }
      ]
    },
    {
      "cell_type": "code",
      "source": [
        "print('Qué porcentaje de ventas se presentas de lunes a Jueves?')\n",
        "print(f'Desde el día lunes a jueves en porcentaje se vendio {table_frecuency.iloc[3][-1]} refrescos\\n')"
      ],
      "metadata": {
        "colab": {
          "base_uri": "https://localhost:8080/"
        },
        "id": "_YGo3UINaWq8",
        "outputId": "28e8b0bb-bf01-4925-e521-9a0049bdaa94"
      },
      "execution_count": 16,
      "outputs": [
        {
          "output_type": "stream",
          "name": "stdout",
          "text": [
            "Qué porcentaje de ventas se presentas de lunes a Jueves?\n",
            "Desde el día lunes a jueves en porcentaje se vendio 0.781 refrescos\n",
            "\n"
          ]
        }
      ]
    },
    {
      "cell_type": "markdown",
      "source": [
        " Interprete: n1, f4, N3, F2"
      ],
      "metadata": {
        "id": "zY1_1MK5apEx"
      }
    },
    {
      "cell_type": "code",
      "source": [
        "print('El día martes se vendieron 14 refrescos', 'El dia viernes hubó un 5.8% de las ventas', \n",
        "      'Durante la semana de lunes a jueves se vendieron 135 refrescos', 'De lunes a miercoles se hicierón el 56.6% de las ventas durante la semana', sep= '\\n')"
      ],
      "metadata": {
        "colab": {
          "base_uri": "https://localhost:8080/"
        },
        "id": "MQHDrfUGt7TV",
        "outputId": "fe01c9a3-e612-4a83-e73d-c170528f8d0b"
      },
      "execution_count": 17,
      "outputs": [
        {
          "output_type": "stream",
          "name": "stdout",
          "text": [
            "El día martes se vendieron 14 refrescos\n",
            "El dia viernes hubó un 5.8% de las ventas\n",
            "Durante la semana de lunes a jueves se vendieron 135 refrescos\n",
            "De lunes a miercoles se hicierón el 56.6% de las ventas durante la semana\n"
          ]
        }
      ]
    }
  ]
}