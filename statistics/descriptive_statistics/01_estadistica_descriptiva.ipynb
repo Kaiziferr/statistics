{
  "nbformat": 4,
  "nbformat_minor": 0,
  "metadata": {
    "colab": {
      "name": "01_workshop_estadistica_descriptiva.ipynb",
      "provenance": [],
      "collapsed_sections": [],
      "authorship_tag": "ABX9TyMbjd+2pbhER06JBLCxdy+i",
      "include_colab_link": true
    },
    "kernelspec": {
      "name": "python3",
      "display_name": "Python 3"
    },
    "language_info": {
      "name": "python"
    }
  },
  "cells": [
    {
      "cell_type": "markdown",
      "metadata": {
        "id": "view-in-github",
        "colab_type": "text"
      },
      "source": [
        "<a href=\"https://colab.research.google.com/github/Kaiziferr/statistics/blob/main/statistics/descriptive_statistics/01_estadistica_descriptiva.ipynb\" target=\"_parent\"><img src=\"https://colab.research.google.com/assets/colab-badge.svg\" alt=\"Open In Colab\"/></a>"
      ]
    },
    {
      "cell_type": "markdown",
      "source": [
        "# **Tabla de frecuencia**\n",
        "---"
      ],
      "metadata": {
        "id": "oY2ovz0v5HmE"
      }
    },
    {
      "cell_type": "markdown",
      "source": [
        "## **Problema I**\n",
        "---\n",
        "Se requiere crear e interpretar la información de una tabla de frecuencias, basándose en el gráfico que representa las ventas de refrescos."
      ],
      "metadata": {
        "id": "tXgTA2SFtQaa"
      }
    },
    {
      "cell_type": "code",
      "execution_count": 1,
      "metadata": {
        "id": "w1eR7MiWnN7_"
      },
      "outputs": [],
      "source": [
        "import pandas as pd\n",
        "import numpy as np\n",
        "import matplotlib.pyplot as plt\n",
        "import seaborn as sns"
      ]
    },
    {
      "cell_type": "code",
      "source": [
        "sns.set(style=\"darkgrid\")"
      ],
      "metadata": {
        "id": "BAk9jv9D1Dye"
      },
      "execution_count": 2,
      "outputs": []
    },
    {
      "cell_type": "code",
      "source": [
        "data = pd.DataFrame({'dia':['Lunes','Martes','Miercoles','Jueves','Viernes','Sabado'], 'venta_refresco':[25, 14, 59, 37, 10, 28]})\n",
        "data"
      ],
      "metadata": {
        "id": "pJSPOjftbR17",
        "outputId": "f4e8d09a-873d-4404-d79b-f35c9fa2996d",
        "colab": {
          "base_uri": "https://localhost:8080/",
          "height": 237
        }
      },
      "execution_count": 3,
      "outputs": [
        {
          "output_type": "execute_result",
          "data": {
            "text/plain": [
              "         dia  venta_refresco\n",
              "0      Lunes              25\n",
              "1     Martes              14\n",
              "2  Miercoles              59\n",
              "3     Jueves              37\n",
              "4    Viernes              10\n",
              "5     Sabado              28"
            ],
            "text/html": [
              "\n",
              "  <div id=\"df-e40630ca-8ae0-437d-9474-2f85ab342be0\">\n",
              "    <div class=\"colab-df-container\">\n",
              "      <div>\n",
              "<style scoped>\n",
              "    .dataframe tbody tr th:only-of-type {\n",
              "        vertical-align: middle;\n",
              "    }\n",
              "\n",
              "    .dataframe tbody tr th {\n",
              "        vertical-align: top;\n",
              "    }\n",
              "\n",
              "    .dataframe thead th {\n",
              "        text-align: right;\n",
              "    }\n",
              "</style>\n",
              "<table border=\"1\" class=\"dataframe\">\n",
              "  <thead>\n",
              "    <tr style=\"text-align: right;\">\n",
              "      <th></th>\n",
              "      <th>dia</th>\n",
              "      <th>venta_refresco</th>\n",
              "    </tr>\n",
              "  </thead>\n",
              "  <tbody>\n",
              "    <tr>\n",
              "      <th>0</th>\n",
              "      <td>Lunes</td>\n",
              "      <td>25</td>\n",
              "    </tr>\n",
              "    <tr>\n",
              "      <th>1</th>\n",
              "      <td>Martes</td>\n",
              "      <td>14</td>\n",
              "    </tr>\n",
              "    <tr>\n",
              "      <th>2</th>\n",
              "      <td>Miercoles</td>\n",
              "      <td>59</td>\n",
              "    </tr>\n",
              "    <tr>\n",
              "      <th>3</th>\n",
              "      <td>Jueves</td>\n",
              "      <td>37</td>\n",
              "    </tr>\n",
              "    <tr>\n",
              "      <th>4</th>\n",
              "      <td>Viernes</td>\n",
              "      <td>10</td>\n",
              "    </tr>\n",
              "    <tr>\n",
              "      <th>5</th>\n",
              "      <td>Sabado</td>\n",
              "      <td>28</td>\n",
              "    </tr>\n",
              "  </tbody>\n",
              "</table>\n",
              "</div>\n",
              "      <button class=\"colab-df-convert\" onclick=\"convertToInteractive('df-e40630ca-8ae0-437d-9474-2f85ab342be0')\"\n",
              "              title=\"Convert this dataframe to an interactive table.\"\n",
              "              style=\"display:none;\">\n",
              "        \n",
              "  <svg xmlns=\"http://www.w3.org/2000/svg\" height=\"24px\"viewBox=\"0 0 24 24\"\n",
              "       width=\"24px\">\n",
              "    <path d=\"M0 0h24v24H0V0z\" fill=\"none\"/>\n",
              "    <path d=\"M18.56 5.44l.94 2.06.94-2.06 2.06-.94-2.06-.94-.94-2.06-.94 2.06-2.06.94zm-11 1L8.5 8.5l.94-2.06 2.06-.94-2.06-.94L8.5 2.5l-.94 2.06-2.06.94zm10 10l.94 2.06.94-2.06 2.06-.94-2.06-.94-.94-2.06-.94 2.06-2.06.94z\"/><path d=\"M17.41 7.96l-1.37-1.37c-.4-.4-.92-.59-1.43-.59-.52 0-1.04.2-1.43.59L10.3 9.45l-7.72 7.72c-.78.78-.78 2.05 0 2.83L4 21.41c.39.39.9.59 1.41.59.51 0 1.02-.2 1.41-.59l7.78-7.78 2.81-2.81c.8-.78.8-2.07 0-2.86zM5.41 20L4 18.59l7.72-7.72 1.47 1.35L5.41 20z\"/>\n",
              "  </svg>\n",
              "      </button>\n",
              "      \n",
              "  <style>\n",
              "    .colab-df-container {\n",
              "      display:flex;\n",
              "      flex-wrap:wrap;\n",
              "      gap: 12px;\n",
              "    }\n",
              "\n",
              "    .colab-df-convert {\n",
              "      background-color: #E8F0FE;\n",
              "      border: none;\n",
              "      border-radius: 50%;\n",
              "      cursor: pointer;\n",
              "      display: none;\n",
              "      fill: #1967D2;\n",
              "      height: 32px;\n",
              "      padding: 0 0 0 0;\n",
              "      width: 32px;\n",
              "    }\n",
              "\n",
              "    .colab-df-convert:hover {\n",
              "      background-color: #E2EBFA;\n",
              "      box-shadow: 0px 1px 2px rgba(60, 64, 67, 0.3), 0px 1px 3px 1px rgba(60, 64, 67, 0.15);\n",
              "      fill: #174EA6;\n",
              "    }\n",
              "\n",
              "    [theme=dark] .colab-df-convert {\n",
              "      background-color: #3B4455;\n",
              "      fill: #D2E3FC;\n",
              "    }\n",
              "\n",
              "    [theme=dark] .colab-df-convert:hover {\n",
              "      background-color: #434B5C;\n",
              "      box-shadow: 0px 1px 3px 1px rgba(0, 0, 0, 0.15);\n",
              "      filter: drop-shadow(0px 1px 2px rgba(0, 0, 0, 0.3));\n",
              "      fill: #FFFFFF;\n",
              "    }\n",
              "  </style>\n",
              "\n",
              "      <script>\n",
              "        const buttonEl =\n",
              "          document.querySelector('#df-e40630ca-8ae0-437d-9474-2f85ab342be0 button.colab-df-convert');\n",
              "        buttonEl.style.display =\n",
              "          google.colab.kernel.accessAllowed ? 'block' : 'none';\n",
              "\n",
              "        async function convertToInteractive(key) {\n",
              "          const element = document.querySelector('#df-e40630ca-8ae0-437d-9474-2f85ab342be0');\n",
              "          const dataTable =\n",
              "            await google.colab.kernel.invokeFunction('convertToInteractive',\n",
              "                                                     [key], {});\n",
              "          if (!dataTable) return;\n",
              "\n",
              "          const docLinkHtml = 'Like what you see? Visit the ' +\n",
              "            '<a target=\"_blank\" href=https://colab.research.google.com/notebooks/data_table.ipynb>data table notebook</a>'\n",
              "            + ' to learn more about interactive tables.';\n",
              "          element.innerHTML = '';\n",
              "          dataTable['output_type'] = 'display_data';\n",
              "          await google.colab.output.renderOutput(dataTable, element);\n",
              "          const docLink = document.createElement('div');\n",
              "          docLink.innerHTML = docLinkHtml;\n",
              "          element.appendChild(docLink);\n",
              "        }\n",
              "      </script>\n",
              "    </div>\n",
              "  </div>\n",
              "  "
            ]
          },
          "metadata": {},
          "execution_count": 3
        }
      ]
    },
    {
      "cell_type": "code",
      "source": [
        "def plot_bar(data:list,ejeX:str,ejey:str,y_label:str,x_label:str,title:str='Target',figsize_x:int=8,figsize_y:int=8,fontsize:int=15)->None:\n",
        "  \"\"\"Grafica un diagrama de barras con multiples caracteristicas\"\"\"\n",
        "  fig, ax = plt.subplots(figsize = (figsize_x, figsize_y))\n",
        "  fig.suptitle(f'Diagrama de barras {title}', fontsize=fontsize)\n",
        "  sns.barplot(x=ejeX, y=ejey, data=data, ax=ax)\n",
        "  ax.set_ylabel(y_label, size = 12)\n",
        "  ax.set_xlabel(x_label, size=fontsize-3)\n",
        "  ax.set_xticklabels(ax.get_xticklabels(),fontsize = fontsize-3)\n",
        "  for p in ax.patches:\n",
        "    height = int(p.get_height())\n",
        "    ax.text(p.get_x()+p.get_width()/2., height + 1,height, ha=\"center\") "
      ],
      "metadata": {
        "id": "wyXPX6rIbxVT"
      },
      "execution_count": 4,
      "outputs": []
    },
    {
      "cell_type": "code",
      "source": [
        "plot_bar(data,'dia','venta_refresco','Venta refrescos','Día', 'Venta refrescos')"
      ],
      "metadata": {
        "id": "JTajbYFTe7HL",
        "outputId": "5fe41fac-71f3-4001-850c-3f4d1fd45fe0",
        "colab": {
          "base_uri": "https://localhost:8080/",
          "height": 563
        }
      },
      "execution_count": 5,
      "outputs": [
        {
          "output_type": "display_data",
          "data": {
            "text/plain": [
              "<Figure size 576x576 with 1 Axes>"
            ],
            "image/png": "[encoded data removed]"
          },
          "metadata": {}
        }
      ]
    },
    {
      "cell_type": "markdown",
      "source": [
        "a) Defina la variable en estudio, ¿De qué tipo es y cuál es su escala de medición?<br>\n",
        "b) Qué día se vende menos refrescos?<br>\n",
        "c) Qué día se vende más refrescos?<br>\n",
        "d) Cuántos refrescos se vendieron en toda la semana?<br>\n",
        "e) Cuál es el porcentaje que corresponde al día de más ventas?<br>\n",
        "f) Cuál es el porcentaje de ventas del día sábado?<br>\n",
        "g) Cuál es el porcentaje de los días lunes y martes en conjunto?<br>\n",
        "h) Qué porcentaje de ventas se presentas de lunes a Jueves?<br>\n",
        "i) Construya la tabla de frecuencias a partir del gráfico<br>\n",
        "j) Interprete: n2, f5, N4, F3<br>"
      ],
      "metadata": {
        "id": "7sOhB4V-10y3"
      }
    },
    {
      "cell_type": "code",
      "source": [
        "total_ventas = data[\"venta_refresco\"].sum()\n",
        "ventas_dia_top = data[\"venta_refresco\"][2]/total_ventas\n",
        "ventas_dia_s = data[\"venta_refresco\"][5]/total_ventas\n",
        "ventas_dias_lm = data[\"venta_refresco\"][0:2].sum()/total_ventas\n",
        "ventas_dias_l_j = data[\"venta_refresco\"][0:4].sum()/total_ventas\n",
        "\n",
        "print('a) Variable en estudio: Venta de refresco', 'Tipo de variable: Cuantitativa discreta', 'Escala: Razón', sep='\\n')\n",
        "print('b) Miercoles')\n",
        "print('c) Viernes')\n",
        "print(f'd) En toda la semana se vendieron {total_ventas} refrescos')\n",
        "print(f'e) El día más vendido en porcentaje se vendio{ventas_dia_top} refrescos')\n",
        "print(f'f) El día sabado en porcentaje se vendio {ventas_dia_s} refrescos')\n",
        "print(f'g) Desde el día lunes a martes en porcentaje se vendio {ventas_dias_lm} refrescos')\n",
        "print(f'h) Desde el día lunes a jueves en porcentaje se vendio {ventas_dias_l_j} refrescos')"
      ],
      "metadata": {
        "colab": {
          "base_uri": "https://localhost:8080/"
        },
        "id": "Hgnjzmt3uyt6",
        "outputId": "9e0bb35a-6966-4870-bd8e-93eeeecf123f"
      },
      "execution_count": 6,
      "outputs": [
        {
          "output_type": "stream",
          "name": "stdout",
          "text": [
            "a) Variable en estudio: Venta de refresco\n",
            "Tipo de variable: Cuantitativa discreta\n",
            "Escala: Razón\n",
            "b) Miercoles\n",
            "c) Viernes\n",
            "d) En toda la semana se vendieron 173 refrescos\n",
            "e) El día más vendido en porcentaje se vendio0.34104046242774566 refrescos\n",
            "f) El día sabado en porcentaje se vendio 0.16184971098265896 refrescos\n",
            "g) Desde el día lunes a martes en porcentaje se vendio 0.2254335260115607 refrescos\n",
            "h) Desde el día lunes a jueves en porcentaje se vendio 0.7803468208092486 refrescos\n"
          ]
        }
      ]
    },
    {
      "cell_type": "code",
      "source": [
        "print('i)')\n",
        "table_frecuency = pd.DataFrame(index=['1','2','3','4','5','6'])\n",
        "table_frecuency['xi'] = data.dia.values\n",
        "table_frecuency['ni'] = data.venta_refresco.values\n",
        "table_frecuency['fi'] = round(table_frecuency['ni']/total_ventas, 3)\n",
        "table_frecuency['Ni'] = table_frecuency['ni'].cumsum()\n",
        "table_frecuency['Fi'] = round(table_frecuency['fi'].cumsum(), 3)\n",
        "table_frecuency"
      ],
      "metadata": {
        "colab": {
          "base_uri": "https://localhost:8080/",
          "height": 255
        },
        "id": "TEgSpGzJ7LWi",
        "outputId": "53b83eea-b1c9-4614-e9c9-aed864dd82aa"
      },
      "execution_count": 7,
      "outputs": [
        {
          "output_type": "stream",
          "name": "stdout",
          "text": [
            "i)\n"
          ]
        },
        {
          "output_type": "execute_result",
          "data": {
            "text/plain": [
              "          xi  ni     fi   Ni     Fi\n",
              "1      Lunes  25  0.145   25  0.145\n",
              "2     Martes  14  0.081   39  0.226\n",
              "3  Miercoles  59  0.341   98  0.567\n",
              "4     Jueves  37  0.214  135  0.781\n",
              "5    Viernes  10  0.058  145  0.839\n",
              "6     Sabado  28  0.162  173  1.001"
            ],
            "text/html": [
              "\n",
              "  <div id=\"df-ac764576-d56a-4cd1-859d-9877b3b7f7ff\">\n",
              "    <div class=\"colab-df-container\">\n",
              "      <div>\n",
              "<style scoped>\n",
              "    .dataframe tbody tr th:only-of-type {\n",
              "        vertical-align: middle;\n",
              "    }\n",
              "\n",
              "    .dataframe tbody tr th {\n",
              "        vertical-align: top;\n",
              "    }\n",
              "\n",
              "    .dataframe thead th {\n",
              "        text-align: right;\n",
              "    }\n",
              "</style>\n",
              "<table border=\"1\" class=\"dataframe\">\n",
              "  <thead>\n",
              "    <tr style=\"text-align: right;\">\n",
              "      <th></th>\n",
              "      <th>xi</th>\n",
              "      <th>ni</th>\n",
              "      <th>fi</th>\n",
              "      <th>Ni</th>\n",
              "      <th>Fi</th>\n",
              "    </tr>\n",
              "  </thead>\n",
              "  <tbody>\n",
              "    <tr>\n",
              "      <th>1</th>\n",
              "      <td>Lunes</td>\n",
              "      <td>25</td>\n",
              "      <td>0.145</td>\n",
              "      <td>25</td>\n",
              "      <td>0.145</td>\n",
              "    </tr>\n",
              "    <tr>\n",
              "      <th>2</th>\n",
              "      <td>Martes</td>\n",
              "      <td>14</td>\n",
              "      <td>0.081</td>\n",
              "      <td>39</td>\n",
              "      <td>0.226</td>\n",
              "    </tr>\n",
              "    <tr>\n",
              "      <th>3</th>\n",
              "      <td>Miercoles</td>\n",
              "      <td>59</td>\n",
              "      <td>0.341</td>\n",
              "      <td>98</td>\n",
              "      <td>0.567</td>\n",
              "    </tr>\n",
              "    <tr>\n",
              "      <th>4</th>\n",
              "      <td>Jueves</td>\n",
              "      <td>37</td>\n",
              "      <td>0.214</td>\n",
              "      <td>135</td>\n",
              "      <td>0.781</td>\n",
              "    </tr>\n",
              "    <tr>\n",
              "      <th>5</th>\n",
              "      <td>Viernes</td>\n",
              "      <td>10</td>\n",
              "      <td>0.058</td>\n",
              "      <td>145</td>\n",
              "      <td>0.839</td>\n",
              "    </tr>\n",
              "    <tr>\n",
              "      <th>6</th>\n",
              "      <td>Sabado</td>\n",
              "      <td>28</td>\n",
              "      <td>0.162</td>\n",
              "      <td>173</td>\n",
              "      <td>1.001</td>\n",
              "    </tr>\n",
              "  </tbody>\n",
              "</table>\n",
              "</div>\n",
              "      <button class=\"colab-df-convert\" onclick=\"convertToInteractive('df-ac764576-d56a-4cd1-859d-9877b3b7f7ff')\"\n",
              "              title=\"Convert this dataframe to an interactive table.\"\n",
              "              style=\"display:none;\">\n",
              "        \n",
              "  <svg xmlns=\"http://www.w3.org/2000/svg\" height=\"24px\"viewBox=\"0 0 24 24\"\n",
              "       width=\"24px\">\n",
              "    <path d=\"M0 0h24v24H0V0z\" fill=\"none\"/>\n",
              "    <path d=\"M18.56 5.44l.94 2.06.94-2.06 2.06-.94-2.06-.94-.94-2.06-.94 2.06-2.06.94zm-11 1L8.5 8.5l.94-2.06 2.06-.94-2.06-.94L8.5 2.5l-.94 2.06-2.06.94zm10 10l.94 2.06.94-2.06 2.06-.94-2.06-.94-.94-2.06-.94 2.06-2.06.94z\"/><path d=\"M17.41 7.96l-1.37-1.37c-.4-.4-.92-.59-1.43-.59-.52 0-1.04.2-1.43.59L10.3 9.45l-7.72 7.72c-.78.78-.78 2.05 0 2.83L4 21.41c.39.39.9.59 1.41.59.51 0 1.02-.2 1.41-.59l7.78-7.78 2.81-2.81c.8-.78.8-2.07 0-2.86zM5.41 20L4 18.59l7.72-7.72 1.47 1.35L5.41 20z\"/>\n",
              "  </svg>\n",
              "      </button>\n",
              "      \n",
              "  <style>\n",
              "    .colab-df-container {\n",
              "      display:flex;\n",
              "      flex-wrap:wrap;\n",
              "      gap: 12px;\n",
              "    }\n",
              "\n",
              "    .colab-df-convert {\n",
              "      background-color: #E8F0FE;\n",
              "      border: none;\n",
              "      border-radius: 50%;\n",
              "      cursor: pointer;\n",
              "      display: none;\n",
              "      fill: #1967D2;\n",
              "      height: 32px;\n",
              "      padding: 0 0 0 0;\n",
              "      width: 32px;\n",
              "    }\n",
              "\n",
              "    .colab-df-convert:hover {\n",
              "      background-color: #E2EBFA;\n",
              "      box-shadow: 0px 1px 2px rgba(60, 64, 67, 0.3), 0px 1px 3px 1px rgba(60, 64, 67, 0.15);\n",
              "      fill: #174EA6;\n",
              "    }\n",
              "\n",
              "    [theme=dark] .colab-df-convert {\n",
              "      background-color: #3B4455;\n",
              "      fill: #D2E3FC;\n",
              "    }\n",
              "\n",
              "    [theme=dark] .colab-df-convert:hover {\n",
              "      background-color: #434B5C;\n",
              "      box-shadow: 0px 1px 3px 1px rgba(0, 0, 0, 0.15);\n",
              "      filter: drop-shadow(0px 1px 2px rgba(0, 0, 0, 0.3));\n",
              "      fill: #FFFFFF;\n",
              "    }\n",
              "  </style>\n",
              "\n",
              "      <script>\n",
              "        const buttonEl =\n",
              "          document.querySelector('#df-ac764576-d56a-4cd1-859d-9877b3b7f7ff button.colab-df-convert');\n",
              "        buttonEl.style.display =\n",
              "          google.colab.kernel.accessAllowed ? 'block' : 'none';\n",
              "\n",
              "        async function convertToInteractive(key) {\n",
              "          const element = document.querySelector('#df-ac764576-d56a-4cd1-859d-9877b3b7f7ff');\n",
              "          const dataTable =\n",
              "            await google.colab.kernel.invokeFunction('convertToInteractive',\n",
              "                                                     [key], {});\n",
              "          if (!dataTable) return;\n",
              "\n",
              "          const docLinkHtml = 'Like what you see? Visit the ' +\n",
              "            '<a target=\"_blank\" href=https://colab.research.google.com/notebooks/data_table.ipynb>data table notebook</a>'\n",
              "            + ' to learn more about interactive tables.';\n",
              "          element.innerHTML = '';\n",
              "          dataTable['output_type'] = 'display_data';\n",
              "          await google.colab.output.renderOutput(dataTable, element);\n",
              "          const docLink = document.createElement('div');\n",
              "          docLink.innerHTML = docLinkHtml;\n",
              "          element.appendChild(docLink);\n",
              "        }\n",
              "      </script>\n",
              "    </div>\n",
              "  </div>\n",
              "  "
            ]
          },
          "metadata": {},
          "execution_count": 7
        }
      ]
    },
    {
      "cell_type": "code",
      "source": [
        "print('j) El día martes se vendieron 14 refrescos', 'El dia viernes hubó un 5.6% de las ventas', \n",
        "      'Durante la semana de lunes a jueves se vendieron 135 refrescos', 'De lunes a miercoles se hicierón el 56.6% de las ventas durante la semana', sep= '\\n')"
      ],
      "metadata": {
        "colab": {
          "base_uri": "https://localhost:8080/"
        },
        "id": "OyoxRYat9zGA",
        "outputId": "ce5cb9bf-5f06-48b2-843d-98f71a69898a"
      },
      "execution_count": 8,
      "outputs": [
        {
          "output_type": "stream",
          "name": "stdout",
          "text": [
            "j) El día martes se vendieron 14 refrescos\n",
            "El dia viernes hubó un 5.6% de las ventas\n",
            "Durante la semana de lunes a jueves se vendieron 135 refrescos\n",
            "De lunes a miercoles se hicierón el 56.6% de las ventas durante la semana\n"
          ]
        }
      ]
    },
    {
      "cell_type": "markdown",
      "source": [
        "## **Problema II**\n",
        "---\n",
        "Suponga que un instituto técnico enfrenta problemas financieros y\n",
        "plantea un aumento en el costo de las matrículas. Es claro que ante\n",
        "un aumento del valor de la matrícula, los estudiantes que no tengan\n",
        "capacidad de pago pueden retirarse del instituto, lo que representa\n",
        "una perdida económica para este. Por esta razón es necesario que el\n",
        "instituto conozca el nivel de ingreso de los estudiantes para decidir\n",
        "sobre el aumento que no cause una deserción estudiantil.\n",
        "Con el fin de conocer el nivel de ingreso de los estudiantes, el instituto\n",
        "planteó una encuesta donde 126 estudiantes suministraron el valor de\n",
        "sus ingresos mensuales.\n",
        "\n"
      ],
      "metadata": {
        "id": "d7zSMqT65C1q"
      }
    },
    {
      "cell_type": "code",
      "source": [
        "data = [572.30,   748.10,   769.00,   839.00,   878.10,   955.50,   963.40,   965.70,   983.80,\n",
        "985.30,   1002.80,  1005.70,  1013.20,  1017.80,  1019.40,  1030.00,  1036.80,  1056.60,\n",
        "1061.20,  1067.20,  1075.70,  1081.80,  1100.80,  1102.00,  1120.70,  1127.10,  1135.40, \n",
        "1170.20,  1179.60,  1195.10,  1208.20,  1221.70,  1228.60,  1234.00,  1247.90,  1249.80,\n",
        "1272.00,  1274.70,  1299.80,  1304.00,  1312.90,  1340.80,  1350.30,  1352.90,  1374.80,\n",
        "1406.10,  1409.30,  1412.60,  1418.40,  1426.90,  1427.60,  1433.30,  1441.10,  1443.80,\n",
        "1459.50,  1460.10,  1477.60,  1484.90,  1491.70,  1500.20,  1500.60,  1500.60,  1506.40,\n",
        "1531.60,  1540.20,  1544.40,  1552.80,  1552.90,  1557.80,  1563.70,  1564.20,  1569.40,\n",
        "1581.30,  1593.40,  1594.80,  1595.20,  1605.20,  1620.60,  1626.80,  1626.80,  1648.20,\n",
        "1670.70,  1687.40,  1694.30,  1711.80,  1721.40,  1731.90,  1738.30,  1738.80,  1746.90,\n",
        "1777.90,  1817.00,  1846.70,  1851.70,  1857.50,  1891.80,  1898.10,  1901.40,  1930.80,\n",
        "1940.30,  1954.10,  1957.30,  1974.00,  1986.30,  2002.70,  2053.70,  2065.50,  2065.90,\n",
        "2107.70,  2114.00,  2120.40,  2136.80,  2212.50,  2265.80,  2273.70,  2280.20,  2297.00,\n",
        "2330.60,  2535.60,  2643.10,  2723.70,  2725.20,  2956.40,  3197.40,  3234.70,  3467.80]"
      ],
      "metadata": {
        "id": "9WknA_7lc8cX"
      },
      "execution_count": 9,
      "outputs": []
    },
    {
      "cell_type": "code",
      "source": [
        "def intervalos_clase(data_size:int)->tuple:\n",
        "  \"\"\"Calcula de tre formas el numero de intervalos\"\"\"\n",
        "  m1 = 1+3.3*np.log10(data_size)\n",
        "  m2 = np.log(data_size)/np.log(2)\n",
        "  m3 = np.sqrt(data_size)\n",
        "  m = int(np.ceil(min([m1, m2, m3])))\n",
        "  return m, m1, m2, m3 "
      ],
      "metadata": {
        "id": "Mw-5LlKxFjiZ"
      },
      "execution_count": 10,
      "outputs": []
    },
    {
      "cell_type": "code",
      "source": [
        "m, m1, m2, m3 = intervalos_clase(len(data))\n",
        "print(f'Metodo 1: {m1}\\nMetodo 2: {m2}\\nMetodo 3: {m3}')\n",
        "data = pd.Series(data)\n",
        "rango = data.max() - data.min()\n",
        "amplitud =  round(rango / m, 1)\n",
        "print(f\"Número de intervalos: {m}\", f\"Amplitud: {amplitud}\", sep=\"\\n\")"
      ],
      "metadata": {
        "id": "RV1a5Aag3RT-",
        "outputId": "a85a0964-03e2-493d-e41a-7f6742aef01c",
        "colab": {
          "base_uri": "https://localhost:8080/"
        }
      },
      "execution_count": 11,
      "outputs": [
        {
          "output_type": "stream",
          "name": "stdout",
          "text": [
            "Metodo 1: 7.931222798887958\n",
            "Metodo 2: 6.977279923499917\n",
            "Metodo 3: 11.224972160321824\n",
            "Número de intervalos: 7\n",
            "Amplitud: 413.6\n"
          ]
        }
      ]
    },
    {
      "cell_type": "code",
      "source": [
        "table_frecuency = pd.DataFrame(index=['1','2','3','4','5','6', '7'])\n",
        "xi = [round(min(data)+amplitud*i,3) if i!=m else data[-1:].values[0] for i in range(m+1) if i <= m ]\n",
        "table_frecuency['xi'] = [(xi[i],xi[i+1]) for i in range(m)]\n",
        "table_frecuency['ni'] = [data[data.between(table_frecuency['xi'][i][0], table_frecuency['xi'][i][1])].count() for i in range(m)]\n",
        "table_frecuency['fi'] = round(table_frecuency['ni']/len(data), 3)\n",
        "table_frecuency['Ni'] = table_frecuency['ni'].cumsum()\n",
        "table_frecuency['Fi'] = round(table_frecuency['fi'].cumsum(), 3)\n",
        "table_frecuency[\"x'\"] = list(map(lambda x: round((x[0]+x[1])/2, 2) , table_frecuency['xi']))\n",
        "table_frecuency"
      ],
      "metadata": {
        "colab": {
          "base_uri": "https://localhost:8080/",
          "height": 269
        },
        "id": "CPR0JIN_sbgL",
        "outputId": "d64de2c1-a620-4925-f850-59a4b0821520"
      },
      "execution_count": 12,
      "outputs": [
        {
          "output_type": "execute_result",
          "data": {
            "text/plain": [
              "                 xi  ni     fi   Ni     Fi       x'\n",
              "1    (572.3, 985.9)  10  0.079   10  0.079   779.10\n",
              "2   (985.9, 1399.5)  35  0.278   45  0.357  1192.70\n",
              "3  (1399.5, 1813.1)  46  0.365   91  0.722  1606.30\n",
              "4  (1813.1, 2226.7)  22  0.175  113  0.897  2019.90\n",
              "5  (2226.7, 2640.3)   6  0.048  119  0.945  2433.50\n",
              "6  (2640.3, 3053.9)   4  0.032  123  0.977  2847.10\n",
              "7  (3053.9, 3467.8)   3  0.024  126  1.001  3260.85"
            ],
            "text/html": [
              "\n",
              "  <div id=\"df-acf5d0a3-91f6-4f2b-b100-4d262f1c4730\">\n",
              "    <div class=\"colab-df-container\">\n",
              "      <div>\n",
              "<style scoped>\n",
              "    .dataframe tbody tr th:only-of-type {\n",
              "        vertical-align: middle;\n",
              "    }\n",
              "\n",
              "    .dataframe tbody tr th {\n",
              "        vertical-align: top;\n",
              "    }\n",
              "\n",
              "    .dataframe thead th {\n",
              "        text-align: right;\n",
              "    }\n",
              "</style>\n",
              "<table border=\"1\" class=\"dataframe\">\n",
              "  <thead>\n",
              "    <tr style=\"text-align: right;\">\n",
              "      <th></th>\n",
              "      <th>xi</th>\n",
              "      <th>ni</th>\n",
              "      <th>fi</th>\n",
              "      <th>Ni</th>\n",
              "      <th>Fi</th>\n",
              "      <th>x'</th>\n",
              "    </tr>\n",
              "  </thead>\n",
              "  <tbody>\n",
              "    <tr>\n",
              "      <th>1</th>\n",
              "      <td>(572.3, 985.9)</td>\n",
              "      <td>10</td>\n",
              "      <td>0.079</td>\n",
              "      <td>10</td>\n",
              "      <td>0.079</td>\n",
              "      <td>779.10</td>\n",
              "    </tr>\n",
              "    <tr>\n",
              "      <th>2</th>\n",
              "      <td>(985.9, 1399.5)</td>\n",
              "      <td>35</td>\n",
              "      <td>0.278</td>\n",
              "      <td>45</td>\n",
              "      <td>0.357</td>\n",
              "      <td>1192.70</td>\n",
              "    </tr>\n",
              "    <tr>\n",
              "      <th>3</th>\n",
              "      <td>(1399.5, 1813.1)</td>\n",
              "      <td>46</td>\n",
              "      <td>0.365</td>\n",
              "      <td>91</td>\n",
              "      <td>0.722</td>\n",
              "      <td>1606.30</td>\n",
              "    </tr>\n",
              "    <tr>\n",
              "      <th>4</th>\n",
              "      <td>(1813.1, 2226.7)</td>\n",
              "      <td>22</td>\n",
              "      <td>0.175</td>\n",
              "      <td>113</td>\n",
              "      <td>0.897</td>\n",
              "      <td>2019.90</td>\n",
              "    </tr>\n",
              "    <tr>\n",
              "      <th>5</th>\n",
              "      <td>(2226.7, 2640.3)</td>\n",
              "      <td>6</td>\n",
              "      <td>0.048</td>\n",
              "      <td>119</td>\n",
              "      <td>0.945</td>\n",
              "      <td>2433.50</td>\n",
              "    </tr>\n",
              "    <tr>\n",
              "      <th>6</th>\n",
              "      <td>(2640.3, 3053.9)</td>\n",
              "      <td>4</td>\n",
              "      <td>0.032</td>\n",
              "      <td>123</td>\n",
              "      <td>0.977</td>\n",
              "      <td>2847.10</td>\n",
              "    </tr>\n",
              "    <tr>\n",
              "      <th>7</th>\n",
              "      <td>(3053.9, 3467.8)</td>\n",
              "      <td>3</td>\n",
              "      <td>0.024</td>\n",
              "      <td>126</td>\n",
              "      <td>1.001</td>\n",
              "      <td>3260.85</td>\n",
              "    </tr>\n",
              "  </tbody>\n",
              "</table>\n",
              "</div>\n",
              "      <button class=\"colab-df-convert\" onclick=\"convertToInteractive('df-acf5d0a3-91f6-4f2b-b100-4d262f1c4730')\"\n",
              "              title=\"Convert this dataframe to an interactive table.\"\n",
              "              style=\"display:none;\">\n",
              "        \n",
              "  <svg xmlns=\"http://www.w3.org/2000/svg\" height=\"24px\"viewBox=\"0 0 24 24\"\n",
              "       width=\"24px\">\n",
              "    <path d=\"M0 0h24v24H0V0z\" fill=\"none\"/>\n",
              "    <path d=\"M18.56 5.44l.94 2.06.94-2.06 2.06-.94-2.06-.94-.94-2.06-.94 2.06-2.06.94zm-11 1L8.5 8.5l.94-2.06 2.06-.94-2.06-.94L8.5 2.5l-.94 2.06-2.06.94zm10 10l.94 2.06.94-2.06 2.06-.94-2.06-.94-.94-2.06-.94 2.06-2.06.94z\"/><path d=\"M17.41 7.96l-1.37-1.37c-.4-.4-.92-.59-1.43-.59-.52 0-1.04.2-1.43.59L10.3 9.45l-7.72 7.72c-.78.78-.78 2.05 0 2.83L4 21.41c.39.39.9.59 1.41.59.51 0 1.02-.2 1.41-.59l7.78-7.78 2.81-2.81c.8-.78.8-2.07 0-2.86zM5.41 20L4 18.59l7.72-7.72 1.47 1.35L5.41 20z\"/>\n",
              "  </svg>\n",
              "      </button>\n",
              "      \n",
              "  <style>\n",
              "    .colab-df-container {\n",
              "      display:flex;\n",
              "      flex-wrap:wrap;\n",
              "      gap: 12px;\n",
              "    }\n",
              "\n",
              "    .colab-df-convert {\n",
              "      background-color: #E8F0FE;\n",
              "      border: none;\n",
              "      border-radius: 50%;\n",
              "      cursor: pointer;\n",
              "      display: none;\n",
              "      fill: #1967D2;\n",
              "      height: 32px;\n",
              "      padding: 0 0 0 0;\n",
              "      width: 32px;\n",
              "    }\n",
              "\n",
              "    .colab-df-convert:hover {\n",
              "      background-color: #E2EBFA;\n",
              "      box-shadow: 0px 1px 2px rgba(60, 64, 67, 0.3), 0px 1px 3px 1px rgba(60, 64, 67, 0.15);\n",
              "      fill: #174EA6;\n",
              "    }\n",
              "\n",
              "    [theme=dark] .colab-df-convert {\n",
              "      background-color: #3B4455;\n",
              "      fill: #D2E3FC;\n",
              "    }\n",
              "\n",
              "    [theme=dark] .colab-df-convert:hover {\n",
              "      background-color: #434B5C;\n",
              "      box-shadow: 0px 1px 3px 1px rgba(0, 0, 0, 0.15);\n",
              "      filter: drop-shadow(0px 1px 2px rgba(0, 0, 0, 0.3));\n",
              "      fill: #FFFFFF;\n",
              "    }\n",
              "  </style>\n",
              "\n",
              "      <script>\n",
              "        const buttonEl =\n",
              "          document.querySelector('#df-acf5d0a3-91f6-4f2b-b100-4d262f1c4730 button.colab-df-convert');\n",
              "        buttonEl.style.display =\n",
              "          google.colab.kernel.accessAllowed ? 'block' : 'none';\n",
              "\n",
              "        async function convertToInteractive(key) {\n",
              "          const element = document.querySelector('#df-acf5d0a3-91f6-4f2b-b100-4d262f1c4730');\n",
              "          const dataTable =\n",
              "            await google.colab.kernel.invokeFunction('convertToInteractive',\n",
              "                                                     [key], {});\n",
              "          if (!dataTable) return;\n",
              "\n",
              "          const docLinkHtml = 'Like what you see? Visit the ' +\n",
              "            '<a target=\"_blank\" href=https://colab.research.google.com/notebooks/data_table.ipynb>data table notebook</a>'\n",
              "            + ' to learn more about interactive tables.';\n",
              "          element.innerHTML = '';\n",
              "          dataTable['output_type'] = 'display_data';\n",
              "          await google.colab.output.renderOutput(dataTable, element);\n",
              "          const docLink = document.createElement('div');\n",
              "          docLink.innerHTML = docLinkHtml;\n",
              "          element.appendChild(docLink);\n",
              "        }\n",
              "      </script>\n",
              "    </div>\n",
              "  </div>\n",
              "  "
            ]
          },
          "metadata": {},
          "execution_count": 12
        }
      ]
    },
    {
      "cell_type": "markdown",
      "source": [
        "¿Cómo se interpreta f4?\n",
        "- El 17.5% % de los estudiantes tiene un ingreso mensual entre $ 1'813.100, y 2'226.700\n",
        "\n",
        "¿Cómo se interpreta N5?\n",
        "- 119 estudiantes tienen un ingreso mensual e inferior a 2640.300"
      ],
      "metadata": {
        "id": "nZZQ1AXx84E8"
      }
    },
    {
      "cell_type": "markdown",
      "source": [
        "El instituto conoce que con el aumento los estudiantes con ingresos\n",
        "superiores a $2’000.000 no tendrán dificultad para pagar el costo de\n",
        "la nueva matrícula, entonces sería bueno determinar, a partir de los\n",
        "resultados de la muestra, cuantos de estos estudiantes pueden ayudar\n",
        "a los directivos del instituto a prever los efectos del aumento."
      ],
      "metadata": {
        "id": "YoHOk8ZO_vzK"
      }
    },
    {
      "cell_type": "markdown",
      "source": [
        "La función empírica de distribución acumulativa describe de forma general, para cualquier $x$, el porcentaje de datos que son menores o iguales que $x$. Se denota por $F(x)$ y se plantea como: \n",
        "\n",
        "$F(x) = F(L_{i-1}) + \\frac{f_i}{c}(x-L_{i-1})$\n"
      ],
      "metadata": {
        "id": "9hFgsMAeHpbf"
      }
    },
    {
      "cell_type": "code",
      "source": [
        "def ojiva_plot(table_frecuency, title:str, x_label:str, figsize_x:int=8, figsize_y:int=6, fontsize:int=15)->None:\n",
        "  \"\"\"Grafica la Ojiva frecuencias relativas acumuladas\"\"\"\n",
        "  fig, ax = plt.subplots(figsize = (figsize_x, figsize_y))\n",
        "  fig.suptitle(title, fontsize=fontsize)\n",
        "  ax.plot(table_frecuency['Fi'], marker='o', color='blue', mfc='r', mec='black')\n",
        "  ax.set_ylabel('Fi',size = fontsize-3)\n",
        "  ax.set_xlabel(x_label, size = fontsize-3)\n",
        "  ax.set_xticklabels([table_frecuency['xi'][i][1] for i in range(m)],fontsize=fontsize-3, rotation=90)\n",
        "  plt.show()"
      ],
      "metadata": {
        "id": "2p1o9cKHyn2U"
      },
      "execution_count": 13,
      "outputs": []
    },
    {
      "cell_type": "code",
      "source": [
        "ojiva_plot(table_frecuency, 'Ojiva Frecuencia Acumulada de Ingresos', 'Ingresos')"
      ],
      "metadata": {
        "id": "wl0OHCe9_qlx",
        "outputId": "49a72e21-2f67-4ee1-e5b9-89a28d130e9c",
        "colab": {
          "base_uri": "https://localhost:8080/",
          "height": 469
        }
      },
      "execution_count": 14,
      "outputs": [
        {
          "output_type": "display_data",
          "data": {
            "text/plain": [
              "<Figure size 576x432 with 1 Axes>"
            ],
            "image/png": "[encoded data removed]"
          },
          "metadata": {}
        }
      ]
    },
    {
      "cell_type": "code",
      "source": [
        "def search_intervalo(valor, table_frecuency)->tuple:\n",
        "  \"\"\"Busca un valor en los intervalos\"\"\"\n",
        "  for i, x in enumerate(table_frecuency['xi']):\n",
        "    if valor >= x[0] and valor < x[1]:\n",
        "      F_0 = table_frecuency['Fi'][i-1]\n",
        "      f = table_frecuency['fi'][i]\n",
        "      return F_0, f, x[0]"
      ],
      "metadata": {
        "id": "7vPWdlxpvuJ7"
      },
      "execution_count": 15,
      "outputs": []
    },
    {
      "cell_type": "code",
      "source": [
        "def calculate_function_empiric(valor, amplitud, table_frecuency)->int:\n",
        "  \"\"\"Calcula la funcion empirica\"\"\"\n",
        "  F_0, f, li_1 = search_intervalo(valor, table_frecuency)\n",
        "  F = F_0 + (f/amplitud)*(valor-li_1)\n",
        "  return round(F, 2)"
      ],
      "metadata": {
        "id": "3Tvxys7W1Isd"
      },
      "execution_count": 16,
      "outputs": []
    },
    {
      "cell_type": "markdown",
      "source": [
        "A partir de la tabla de frecuencias\n"
      ],
      "metadata": {
        "id": "q-ZnTPvQqwAE"
      }
    },
    {
      "cell_type": "code",
      "source": [
        "table_frecuency"
      ],
      "metadata": {
        "id": "ervskuCj33E7",
        "outputId": "cefff86c-5e0c-4c20-d893-2b95419a28dc",
        "colab": {
          "base_uri": "https://localhost:8080/",
          "height": 269
        }
      },
      "execution_count": 17,
      "outputs": [
        {
          "output_type": "execute_result",
          "data": {
            "text/plain": [
              "                 xi  ni     fi   Ni     Fi       x'\n",
              "1    (572.3, 985.9)  10  0.079   10  0.079   779.10\n",
              "2   (985.9, 1399.5)  35  0.278   45  0.357  1192.70\n",
              "3  (1399.5, 1813.1)  46  0.365   91  0.722  1606.30\n",
              "4  (1813.1, 2226.7)  22  0.175  113  0.897  2019.90\n",
              "5  (2226.7, 2640.3)   6  0.048  119  0.945  2433.50\n",
              "6  (2640.3, 3053.9)   4  0.032  123  0.977  2847.10\n",
              "7  (3053.9, 3467.8)   3  0.024  126  1.001  3260.85"
            ],
            "text/html": [
              "\n",
              "  <div id=\"df-432ec757-8d98-46c9-bc24-44b12507c9b5\">\n",
              "    <div class=\"colab-df-container\">\n",
              "      <div>\n",
              "<style scoped>\n",
              "    .dataframe tbody tr th:only-of-type {\n",
              "        vertical-align: middle;\n",
              "    }\n",
              "\n",
              "    .dataframe tbody tr th {\n",
              "        vertical-align: top;\n",
              "    }\n",
              "\n",
              "    .dataframe thead th {\n",
              "        text-align: right;\n",
              "    }\n",
              "</style>\n",
              "<table border=\"1\" class=\"dataframe\">\n",
              "  <thead>\n",
              "    <tr style=\"text-align: right;\">\n",
              "      <th></th>\n",
              "      <th>xi</th>\n",
              "      <th>ni</th>\n",
              "      <th>fi</th>\n",
              "      <th>Ni</th>\n",
              "      <th>Fi</th>\n",
              "      <th>x'</th>\n",
              "    </tr>\n",
              "  </thead>\n",
              "  <tbody>\n",
              "    <tr>\n",
              "      <th>1</th>\n",
              "      <td>(572.3, 985.9)</td>\n",
              "      <td>10</td>\n",
              "      <td>0.079</td>\n",
              "      <td>10</td>\n",
              "      <td>0.079</td>\n",
              "      <td>779.10</td>\n",
              "    </tr>\n",
              "    <tr>\n",
              "      <th>2</th>\n",
              "      <td>(985.9, 1399.5)</td>\n",
              "      <td>35</td>\n",
              "      <td>0.278</td>\n",
              "      <td>45</td>\n",
              "      <td>0.357</td>\n",
              "      <td>1192.70</td>\n",
              "    </tr>\n",
              "    <tr>\n",
              "      <th>3</th>\n",
              "      <td>(1399.5, 1813.1)</td>\n",
              "      <td>46</td>\n",
              "      <td>0.365</td>\n",
              "      <td>91</td>\n",
              "      <td>0.722</td>\n",
              "      <td>1606.30</td>\n",
              "    </tr>\n",
              "    <tr>\n",
              "      <th>4</th>\n",
              "      <td>(1813.1, 2226.7)</td>\n",
              "      <td>22</td>\n",
              "      <td>0.175</td>\n",
              "      <td>113</td>\n",
              "      <td>0.897</td>\n",
              "      <td>2019.90</td>\n",
              "    </tr>\n",
              "    <tr>\n",
              "      <th>5</th>\n",
              "      <td>(2226.7, 2640.3)</td>\n",
              "      <td>6</td>\n",
              "      <td>0.048</td>\n",
              "      <td>119</td>\n",
              "      <td>0.945</td>\n",
              "      <td>2433.50</td>\n",
              "    </tr>\n",
              "    <tr>\n",
              "      <th>6</th>\n",
              "      <td>(2640.3, 3053.9)</td>\n",
              "      <td>4</td>\n",
              "      <td>0.032</td>\n",
              "      <td>123</td>\n",
              "      <td>0.977</td>\n",
              "      <td>2847.10</td>\n",
              "    </tr>\n",
              "    <tr>\n",
              "      <th>7</th>\n",
              "      <td>(3053.9, 3467.8)</td>\n",
              "      <td>3</td>\n",
              "      <td>0.024</td>\n",
              "      <td>126</td>\n",
              "      <td>1.001</td>\n",
              "      <td>3260.85</td>\n",
              "    </tr>\n",
              "  </tbody>\n",
              "</table>\n",
              "</div>\n",
              "      <button class=\"colab-df-convert\" onclick=\"convertToInteractive('df-432ec757-8d98-46c9-bc24-44b12507c9b5')\"\n",
              "              title=\"Convert this dataframe to an interactive table.\"\n",
              "              style=\"display:none;\">\n",
              "        \n",
              "  <svg xmlns=\"http://www.w3.org/2000/svg\" height=\"24px\"viewBox=\"0 0 24 24\"\n",
              "       width=\"24px\">\n",
              "    <path d=\"M0 0h24v24H0V0z\" fill=\"none\"/>\n",
              "    <path d=\"M18.56 5.44l.94 2.06.94-2.06 2.06-.94-2.06-.94-.94-2.06-.94 2.06-2.06.94zm-11 1L8.5 8.5l.94-2.06 2.06-.94-2.06-.94L8.5 2.5l-.94 2.06-2.06.94zm10 10l.94 2.06.94-2.06 2.06-.94-2.06-.94-.94-2.06-.94 2.06-2.06.94z\"/><path d=\"M17.41 7.96l-1.37-1.37c-.4-.4-.92-.59-1.43-.59-.52 0-1.04.2-1.43.59L10.3 9.45l-7.72 7.72c-.78.78-.78 2.05 0 2.83L4 21.41c.39.39.9.59 1.41.59.51 0 1.02-.2 1.41-.59l7.78-7.78 2.81-2.81c.8-.78.8-2.07 0-2.86zM5.41 20L4 18.59l7.72-7.72 1.47 1.35L5.41 20z\"/>\n",
              "  </svg>\n",
              "      </button>\n",
              "      \n",
              "  <style>\n",
              "    .colab-df-container {\n",
              "      display:flex;\n",
              "      flex-wrap:wrap;\n",
              "      gap: 12px;\n",
              "    }\n",
              "\n",
              "    .colab-df-convert {\n",
              "      background-color: #E8F0FE;\n",
              "      border: none;\n",
              "      border-radius: 50%;\n",
              "      cursor: pointer;\n",
              "      display: none;\n",
              "      fill: #1967D2;\n",
              "      height: 32px;\n",
              "      padding: 0 0 0 0;\n",
              "      width: 32px;\n",
              "    }\n",
              "\n",
              "    .colab-df-convert:hover {\n",
              "      background-color: #E2EBFA;\n",
              "      box-shadow: 0px 1px 2px rgba(60, 64, 67, 0.3), 0px 1px 3px 1px rgba(60, 64, 67, 0.15);\n",
              "      fill: #174EA6;\n",
              "    }\n",
              "\n",
              "    [theme=dark] .colab-df-convert {\n",
              "      background-color: #3B4455;\n",
              "      fill: #D2E3FC;\n",
              "    }\n",
              "\n",
              "    [theme=dark] .colab-df-convert:hover {\n",
              "      background-color: #434B5C;\n",
              "      box-shadow: 0px 1px 3px 1px rgba(0, 0, 0, 0.15);\n",
              "      filter: drop-shadow(0px 1px 2px rgba(0, 0, 0, 0.3));\n",
              "      fill: #FFFFFF;\n",
              "    }\n",
              "  </style>\n",
              "\n",
              "      <script>\n",
              "        const buttonEl =\n",
              "          document.querySelector('#df-432ec757-8d98-46c9-bc24-44b12507c9b5 button.colab-df-convert');\n",
              "        buttonEl.style.display =\n",
              "          google.colab.kernel.accessAllowed ? 'block' : 'none';\n",
              "\n",
              "        async function convertToInteractive(key) {\n",
              "          const element = document.querySelector('#df-432ec757-8d98-46c9-bc24-44b12507c9b5');\n",
              "          const dataTable =\n",
              "            await google.colab.kernel.invokeFunction('convertToInteractive',\n",
              "                                                     [key], {});\n",
              "          if (!dataTable) return;\n",
              "\n",
              "          const docLinkHtml = 'Like what you see? Visit the ' +\n",
              "            '<a target=\"_blank\" href=https://colab.research.google.com/notebooks/data_table.ipynb>data table notebook</a>'\n",
              "            + ' to learn more about interactive tables.';\n",
              "          element.innerHTML = '';\n",
              "          dataTable['output_type'] = 'display_data';\n",
              "          await google.colab.output.renderOutput(dataTable, element);\n",
              "          const docLink = document.createElement('div');\n",
              "          docLink.innerHTML = docLinkHtml;\n",
              "          element.appendChild(docLink);\n",
              "        }\n",
              "      </script>\n",
              "    </div>\n",
              "  </div>\n",
              "  "
            ]
          },
          "metadata": {},
          "execution_count": 17
        }
      ]
    },
    {
      "cell_type": "code",
      "source": [
        "print(\"¿Qué porcentaje de estudiantes tienen un ingreso inferior o igual a los $2’000.000?\\n\")\n",
        "\n",
        "res = calculate_function_empiric(2000, amplitud, table_frecuency)\n",
        "\n",
        "print(f\"El {res*100}% tiene un ingreso inferior o igual a los 2'000.000\")"
      ],
      "metadata": {
        "id": "Ic8xgWhOwwmb",
        "outputId": "6c1ffce0-dd36-40a1-b011-c6c02c9b4559",
        "colab": {
          "base_uri": "https://localhost:8080/"
        }
      },
      "execution_count": 18,
      "outputs": [
        {
          "output_type": "stream",
          "name": "stdout",
          "text": [
            "¿Qué porcentaje de estudiantes tienen un ingreso inferior o igual a los $2’000.000?\n",
            "\n",
            "El 80.0% tiene un ingreso inferior o igual a los 2'000.000\n"
          ]
        }
      ]
    },
    {
      "cell_type": "code",
      "source": [
        "print(\"¿Qué porcentaje de estudiantes tienen un ingreso superior a $1’400.000?\\n\")\n",
        "\n",
        "res = calculate_function_empiric(1400, amplitud, table_frecuency)\n",
        "res = 1 - res\n",
        "\n",
        "print(f\"El {res*100}% tiene un ingreso superior a los $1’400.000\")"
      ],
      "metadata": {
        "id": "jL5Usp202KBz",
        "outputId": "f6a4a3ae-eaac-4aa2-9bd7-9f5472534185",
        "colab": {
          "base_uri": "https://localhost:8080/"
        }
      },
      "execution_count": 19,
      "outputs": [
        {
          "output_type": "stream",
          "name": "stdout",
          "text": [
            "¿Qué porcentaje de estudiantes tienen un ingreso superior a $1’400.000?\n",
            "\n",
            "El 64.0% tiene un ingreso superior a los $1’400.000\n"
          ]
        }
      ]
    },
    {
      "cell_type": "code",
      "source": [
        "print(\"¿Qué porcentaje de estudiantes tienen un ingreso entre $2’700.000 y $3’200.000?\\n\")\n",
        "\n",
        "resA = calculate_function_empiric(3200, amplitud, table_frecuency)\n",
        "resB = calculate_function_empiric(2700, amplitud, table_frecuency)\n",
        "res = round(resA - resB, 2)\n",
        "\n",
        "print(f\"El {res*100}% tiene un ingreso entre $3’200.000 y $2’700.000\")"
      ],
      "metadata": {
        "id": "pOh6F8i14Bfr",
        "outputId": "f629b512-e978-4ed5-f04b-1c00ef9c502f",
        "colab": {
          "base_uri": "https://localhost:8080/"
        }
      },
      "execution_count": 20,
      "outputs": [
        {
          "output_type": "stream",
          "name": "stdout",
          "text": [
            "¿Qué porcentaje de estudiantes tienen un ingreso entre $2’700.000 y $3’200.000?\n",
            "\n",
            "El 4.0% tiene un ingreso entre $3’200.000 y $2’700.000\n"
          ]
        }
      ]
    },
    {
      "cell_type": "code",
      "source": [
        "range(len(table_frecuency['Fi']))"
      ],
      "metadata": {
        "id": "6AOET-Py5yA0",
        "outputId": "c71ea357-499d-45b0-b703-c5b8f80974a9",
        "colab": {
          "base_uri": "https://localhost:8080/"
        }
      },
      "execution_count": 21,
      "outputs": [
        {
          "output_type": "execute_result",
          "data": {
            "text/plain": [
              "range(0, 7)"
            ]
          },
          "metadata": {},
          "execution_count": 21
        }
      ]
    },
    {
      "cell_type": "code",
      "source": [
        "def calculete_value_percent(percent, amplitud, table_frecuency)->int:\n",
        "  \"\"\"Calcula el valor apartir de un porcentaje en la frecuencia acumulada\"\"\"\n",
        "  Fi = table_frecuency['Fi']\n",
        "  for i in range(len(Fi)):\n",
        "    if percent>=Fi[i] and percent<Fi[i+1]:\n",
        "      F_0 = table_frecuency['Fi'][i-1]\n",
        "      f = table_frecuency['fi'][i]\n",
        "      x = np.trunc(((percent - F_0)*amplitud)/f + table_frecuency['xi'][i][0])\n",
        "      return x"
      ],
      "metadata": {
        "id": "VVIqPEoU5CE1"
      },
      "execution_count": 22,
      "outputs": []
    },
    {
      "cell_type": "code",
      "source": [
        "print(\"¿A partir de que valor de los ingresos se encuentra acumulado el 90 % de los datos?\\n\")\n",
        "res = calculete_value_percent(0.9, amplitud, table_frecuency)\n",
        "print(f\"El 90% de los estudiantes tiene un ingreso igual o inferior a ${res} millones\")"
      ],
      "metadata": {
        "id": "tGEIwMVV4AqL",
        "outputId": "9763dbb6-66c1-42fe-93d1-5e5c4ab9a9ae",
        "colab": {
          "base_uri": "https://localhost:8080/"
        }
      },
      "execution_count": 23,
      "outputs": [
        {
          "output_type": "stream",
          "name": "stdout",
          "text": [
            "¿A partir de que valor de los ingresos se encuentra acumulado el 90 % de los datos?\n",
            "\n",
            "El 90% de los estudiantes tiene un ingreso igual o inferior a $2233.0 millones\n"
          ]
        }
      ]
    },
    {
      "cell_type": "markdown",
      "source": [
        "¿Cuál es la media aritmética en promedio los estudiantes del instituto?\n"
      ],
      "metadata": {
        "id": "I1hflC-w6e94"
      }
    },
    {
      "cell_type": "code",
      "source": [
        "#Marca de clase\n",
        "def arithmetic_average(table_frecuency):\n",
        "  return np.sum(table_frecuency[\"x'\"] * table_frecuency[\"fi\"]) "
      ],
      "metadata": {
        "id": "gghRmsOn6pWC"
      },
      "execution_count": 24,
      "outputs": []
    },
    {
      "cell_type": "code",
      "source": [
        "table_frecuency"
      ],
      "metadata": {
        "id": "XtFZTXfI-_L3",
        "outputId": "7215544c-2bee-49a9-d335-c3ce8353fac4",
        "colab": {
          "base_uri": "https://localhost:8080/",
          "height": 269
        }
      },
      "execution_count": 25,
      "outputs": [
        {
          "output_type": "execute_result",
          "data": {
            "text/plain": [
              "                 xi  ni     fi   Ni     Fi       x'\n",
              "1    (572.3, 985.9)  10  0.079   10  0.079   779.10\n",
              "2   (985.9, 1399.5)  35  0.278   45  0.357  1192.70\n",
              "3  (1399.5, 1813.1)  46  0.365   91  0.722  1606.30\n",
              "4  (1813.1, 2226.7)  22  0.175  113  0.897  2019.90\n",
              "5  (2226.7, 2640.3)   6  0.048  119  0.945  2433.50\n",
              "6  (2640.3, 3053.9)   4  0.032  123  0.977  2847.10\n",
              "7  (3053.9, 3467.8)   3  0.024  126  1.001  3260.85"
            ],
            "text/html": [
              "\n",
              "  <div id=\"df-32e8fa7a-33dd-4a4f-b79f-64679df78794\">\n",
              "    <div class=\"colab-df-container\">\n",
              "      <div>\n",
              "<style scoped>\n",
              "    .dataframe tbody tr th:only-of-type {\n",
              "        vertical-align: middle;\n",
              "    }\n",
              "\n",
              "    .dataframe tbody tr th {\n",
              "        vertical-align: top;\n",
              "    }\n",
              "\n",
              "    .dataframe thead th {\n",
              "        text-align: right;\n",
              "    }\n",
              "</style>\n",
              "<table border=\"1\" class=\"dataframe\">\n",
              "  <thead>\n",
              "    <tr style=\"text-align: right;\">\n",
              "      <th></th>\n",
              "      <th>xi</th>\n",
              "      <th>ni</th>\n",
              "      <th>fi</th>\n",
              "      <th>Ni</th>\n",
              "      <th>Fi</th>\n",
              "      <th>x'</th>\n",
              "    </tr>\n",
              "  </thead>\n",
              "  <tbody>\n",
              "    <tr>\n",
              "      <th>1</th>\n",
              "      <td>(572.3, 985.9)</td>\n",
              "      <td>10</td>\n",
              "      <td>0.079</td>\n",
              "      <td>10</td>\n",
              "      <td>0.079</td>\n",
              "      <td>779.10</td>\n",
              "    </tr>\n",
              "    <tr>\n",
              "      <th>2</th>\n",
              "      <td>(985.9, 1399.5)</td>\n",
              "      <td>35</td>\n",
              "      <td>0.278</td>\n",
              "      <td>45</td>\n",
              "      <td>0.357</td>\n",
              "      <td>1192.70</td>\n",
              "    </tr>\n",
              "    <tr>\n",
              "      <th>3</th>\n",
              "      <td>(1399.5, 1813.1)</td>\n",
              "      <td>46</td>\n",
              "      <td>0.365</td>\n",
              "      <td>91</td>\n",
              "      <td>0.722</td>\n",
              "      <td>1606.30</td>\n",
              "    </tr>\n",
              "    <tr>\n",
              "      <th>4</th>\n",
              "      <td>(1813.1, 2226.7)</td>\n",
              "      <td>22</td>\n",
              "      <td>0.175</td>\n",
              "      <td>113</td>\n",
              "      <td>0.897</td>\n",
              "      <td>2019.90</td>\n",
              "    </tr>\n",
              "    <tr>\n",
              "      <th>5</th>\n",
              "      <td>(2226.7, 2640.3)</td>\n",
              "      <td>6</td>\n",
              "      <td>0.048</td>\n",
              "      <td>119</td>\n",
              "      <td>0.945</td>\n",
              "      <td>2433.50</td>\n",
              "    </tr>\n",
              "    <tr>\n",
              "      <th>6</th>\n",
              "      <td>(2640.3, 3053.9)</td>\n",
              "      <td>4</td>\n",
              "      <td>0.032</td>\n",
              "      <td>123</td>\n",
              "      <td>0.977</td>\n",
              "      <td>2847.10</td>\n",
              "    </tr>\n",
              "    <tr>\n",
              "      <th>7</th>\n",
              "      <td>(3053.9, 3467.8)</td>\n",
              "      <td>3</td>\n",
              "      <td>0.024</td>\n",
              "      <td>126</td>\n",
              "      <td>1.001</td>\n",
              "      <td>3260.85</td>\n",
              "    </tr>\n",
              "  </tbody>\n",
              "</table>\n",
              "</div>\n",
              "      <button class=\"colab-df-convert\" onclick=\"convertToInteractive('df-32e8fa7a-33dd-4a4f-b79f-64679df78794')\"\n",
              "              title=\"Convert this dataframe to an interactive table.\"\n",
              "              style=\"display:none;\">\n",
              "        \n",
              "  <svg xmlns=\"http://www.w3.org/2000/svg\" height=\"24px\"viewBox=\"0 0 24 24\"\n",
              "       width=\"24px\">\n",
              "    <path d=\"M0 0h24v24H0V0z\" fill=\"none\"/>\n",
              "    <path d=\"M18.56 5.44l.94 2.06.94-2.06 2.06-.94-2.06-.94-.94-2.06-.94 2.06-2.06.94zm-11 1L8.5 8.5l.94-2.06 2.06-.94-2.06-.94L8.5 2.5l-.94 2.06-2.06.94zm10 10l.94 2.06.94-2.06 2.06-.94-2.06-.94-.94-2.06-.94 2.06-2.06.94z\"/><path d=\"M17.41 7.96l-1.37-1.37c-.4-.4-.92-.59-1.43-.59-.52 0-1.04.2-1.43.59L10.3 9.45l-7.72 7.72c-.78.78-.78 2.05 0 2.83L4 21.41c.39.39.9.59 1.41.59.51 0 1.02-.2 1.41-.59l7.78-7.78 2.81-2.81c.8-.78.8-2.07 0-2.86zM5.41 20L4 18.59l7.72-7.72 1.47 1.35L5.41 20z\"/>\n",
              "  </svg>\n",
              "      </button>\n",
              "      \n",
              "  <style>\n",
              "    .colab-df-container {\n",
              "      display:flex;\n",
              "      flex-wrap:wrap;\n",
              "      gap: 12px;\n",
              "    }\n",
              "\n",
              "    .colab-df-convert {\n",
              "      background-color: #E8F0FE;\n",
              "      border: none;\n",
              "      border-radius: 50%;\n",
              "      cursor: pointer;\n",
              "      display: none;\n",
              "      fill: #1967D2;\n",
              "      height: 32px;\n",
              "      padding: 0 0 0 0;\n",
              "      width: 32px;\n",
              "    }\n",
              "\n",
              "    .colab-df-convert:hover {\n",
              "      background-color: #E2EBFA;\n",
              "      box-shadow: 0px 1px 2px rgba(60, 64, 67, 0.3), 0px 1px 3px 1px rgba(60, 64, 67, 0.15);\n",
              "      fill: #174EA6;\n",
              "    }\n",
              "\n",
              "    [theme=dark] .colab-df-convert {\n",
              "      background-color: #3B4455;\n",
              "      fill: #D2E3FC;\n",
              "    }\n",
              "\n",
              "    [theme=dark] .colab-df-convert:hover {\n",
              "      background-color: #434B5C;\n",
              "      box-shadow: 0px 1px 3px 1px rgba(0, 0, 0, 0.15);\n",
              "      filter: drop-shadow(0px 1px 2px rgba(0, 0, 0, 0.3));\n",
              "      fill: #FFFFFF;\n",
              "    }\n",
              "  </style>\n",
              "\n",
              "      <script>\n",
              "        const buttonEl =\n",
              "          document.querySelector('#df-32e8fa7a-33dd-4a4f-b79f-64679df78794 button.colab-df-convert');\n",
              "        buttonEl.style.display =\n",
              "          google.colab.kernel.accessAllowed ? 'block' : 'none';\n",
              "\n",
              "        async function convertToInteractive(key) {\n",
              "          const element = document.querySelector('#df-32e8fa7a-33dd-4a4f-b79f-64679df78794');\n",
              "          const dataTable =\n",
              "            await google.colab.kernel.invokeFunction('convertToInteractive',\n",
              "                                                     [key], {});\n",
              "          if (!dataTable) return;\n",
              "\n",
              "          const docLinkHtml = 'Like what you see? Visit the ' +\n",
              "            '<a target=\"_blank\" href=https://colab.research.google.com/notebooks/data_table.ipynb>data table notebook</a>'\n",
              "            + ' to learn more about interactive tables.';\n",
              "          element.innerHTML = '';\n",
              "          dataTable['output_type'] = 'display_data';\n",
              "          await google.colab.output.renderOutput(dataTable, element);\n",
              "          const docLink = document.createElement('div');\n",
              "          docLink.innerHTML = docLinkHtml;\n",
              "          element.appendChild(docLink);\n",
              "        }\n",
              "      </script>\n",
              "    </div>\n",
              "  </div>\n",
              "  "
            ]
          },
          "metadata": {},
          "execution_count": 25
        }
      ]
    },
    {
      "cell_type": "code",
      "source": [
        "print(f\"En promedio los estudiantes del instituto tienen un ingreso mensual igual o inferior a ${arithmetic_average(table_frecuency)}\")"
      ],
      "metadata": {
        "id": "nUkeabQ69b9X",
        "outputId": "502dc996-1ec8-4c4d-d308-5faefd59281e",
        "colab": {
          "base_uri": "https://localhost:8080/"
        }
      },
      "execution_count": 26,
      "outputs": [
        {
          "output_type": "stream",
          "name": "stdout",
          "text": [
            "En promedio los estudiantes del instituto tienen un ingreso mensual igual o inferior a $1619.0771\n"
          ]
        }
      ]
    }
  ]
}