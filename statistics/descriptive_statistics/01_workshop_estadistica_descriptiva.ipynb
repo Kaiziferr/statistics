{
  "nbformat": 4,
  "nbformat_minor": 0,
  "metadata": {
    "colab": {
      "name": "01_workshop_estadistica_descriptiva.ipynb",
      "provenance": [],
      "collapsed_sections": [],
      "authorship_tag": "ABX9TyOe6BbIRoRqtu41jEudHejv",
      "include_colab_link": true
    },
    "kernelspec": {
      "name": "python3",
      "display_name": "Python 3"
    },
    "language_info": {
      "name": "python"
    }
  },
  "cells": [
    {
      "cell_type": "markdown",
      "metadata": {
        "id": "view-in-github",
        "colab_type": "text"
      },
      "source": [
        "<a href=\"https://colab.research.google.com/github/Kaiziferr/statistics/blob/main/statistics/descriptive_statistics/01_workshop_estadistica_descriptiva.ipynb\" target=\"_parent\"><img src=\"https://colab.research.google.com/assets/colab-badge.svg\" alt=\"Open In Colab\"/></a>"
      ]
    },
    {
      "cell_type": "code",
      "execution_count": 12,
      "metadata": {
        "id": "w1eR7MiWnN7_"
      },
      "outputs": [],
      "source": [
        "import pandas as pd\n",
        "import matplotlib.pyplot as plt\n",
        "import seaborn as sns"
      ]
    },
    {
      "cell_type": "code",
      "source": [
        "sns.set(style=\"darkgrid\")"
      ],
      "metadata": {
        "id": "BAk9jv9D1Dye"
      },
      "execution_count": 37,
      "outputs": []
    },
    {
      "cell_type": "code",
      "source": [
        "data = pd.DataFrame({'dia':['Lunes','Martes','Miercoles','Jueves','Viernes','Sabado'],\n",
        "                     'venta_refresco':[25, 14, 59, 37, 10, 28]})\n",
        "\n",
        "fig, ax = plt.subplots(figsize = (8, 6))\n",
        "fig.suptitle('Venta refrescos', fontsize = 15)\n",
        "sns.barplot(x='dia', y='venta_refresco', data=data, ax = ax)\n",
        "ax.set_ylabel('Venta Refrescos',size = 12)\n",
        "ax.set_xlabel('Dia', size = 12)\n",
        "ax.set_xticklabels(ax.get_xticklabels(),fontsize = 12)\n",
        "\n",
        "for p in ax.patches:\n",
        "    height = int(p.get_height())\n",
        "    ax.text(p.get_x()+p.get_width()/2., height + 1,height, ha=\"center\") "
      ],
      "metadata": {
        "colab": {
          "base_uri": "https://localhost:8080/",
          "height": 440
        },
        "id": "PK9XBJi8uzNM",
        "outputId": "8039b791-ef4d-4030-bee9-a1e87e0f92c5"
      },
      "execution_count": 48,
      "outputs": [
        {
          "output_type": "display_data",
          "data": {
            "image/png": "[encoded data removed]",
            "text/plain": [
              "<Figure size 576x432 with 1 Axes>"
            ]
          },
          "metadata": {}
        }
      ]
    },
    {
      "cell_type": "markdown",
      "source": [
        "a) Defina la variable en estudio, ¿De qué tipo es y cuál es su escala de medición?<br>\n",
        "b) Qué día se vende menos refrescos?<br>\n",
        "c) Qué día se vende más refrescos?<br>\n",
        "d) Cuántos refrescos se vendieron en toda la semana?<br>\n",
        "e) Cuál es el porcentaje que corresponde al día de más ventas?<br>\n",
        "f) Cuál es el porcentaje de ventas del día sábado?<br>\n",
        "g) Cuál es el porcentaje de los días lunes y martes en conjunto?<br>\n",
        "h) Qué porcentaje de ventas se presentas de lunes a Jueves?<br>\n",
        "i) Construya la tabla de frecuencias a partir del gráfico<br>\n",
        "j) Interprete: n2, f5, N4, F3<br>"
      ],
      "metadata": {
        "id": "7sOhB4V-10y3"
      }
    },
    {
      "cell_type": "code",
      "source": [
        "total_ventas = data[\"venta_refresco\"].sum()\n",
        "ventas_dia_top = data[\"venta_refresco\"][2]/total_ventas\n",
        "ventas_dia_s = data[\"venta_refresco\"][5]/total_ventas\n",
        "ventas_dias_lm = data[\"venta_refresco\"][0:2].sum()/total_ventas\n",
        "ventas_dias_l_j = data[\"venta_refresco\"][0:4].sum()/total_ventas\n",
        "\n",
        "print('a) Variable en estudio: Venta de refresco', 'Tipo de variable: Cuantitativa discreta', 'Escala: Razón', sep='\\n')\n",
        "print('b) Miercoles')\n",
        "print('c) Viernes')\n",
        "print(f'd) En toda la semana se vendieron {total_ventas} refrescos')\n",
        "print(f'e) El día más vendido en porcentaje se vendio{ventas_dia_top} refrescos')\n",
        "print(f'f) El día sabado en porcentaje se vendio {ventas_dia_s} refrescos')\n",
        "print(f'g) Desde el día lunes a martes en porcentaje se vendio {ventas_dias_lm} refrescos')\n",
        "print(f'h) Desde el día lunes a jueves en porcentaje se vendio {ventas_dias_l_j} refrescos')"
      ],
      "metadata": {
        "colab": {
          "base_uri": "https://localhost:8080/"
        },
        "id": "Hgnjzmt3uyt6",
        "outputId": "273fbcd0-1e6b-410b-9f3d-c0eea3577bdc"
      },
      "execution_count": 74,
      "outputs": [
        {
          "output_type": "stream",
          "name": "stdout",
          "text": [
            "a) Variable en estudio: Venta de refresco\n",
            "Tipo de variable: Cuantitativa discreta\n",
            "Escala: Razón\n",
            "b) Miercoles\n",
            "c) Viernes\n",
            "d) En toda la semana se vendieron 173 refrescos\n",
            "e) El día más vendido en porcentaje se vendio0.34104046242774566 refrescos\n",
            "f) El día sabado en porcentaje se vendio 0.16184971098265896 refrescos\n",
            "g) Desde el día lunes a martes en porcentaje se vendio 0.2254335260115607 refrescos\n",
            "g) Desde el día lunes a jueves en porcentaje se vendio 0.7803468208092486 refrescos\n"
          ]
        }
      ]
    },
    {
      "cell_type": "code",
      "source": [
        "print('i)')\n",
        "table_frecuency = pd.DataFrame()\n",
        "table_frecuency['x'] = data.dia.values\n",
        "table_frecuency['ni'] = data.venta_refresco.values\n",
        "table_frecuency['fi'] = data.venta_refresco.values/total_ventas\n",
        "table_frecuency['Ni'] = data.venta_refresco.cumsum()\n",
        "table_frecuency['Fi'] = data.venta_refresco.cumsum()/total_ventas\n",
        "table_frecuency"
      ],
      "metadata": {
        "colab": {
          "base_uri": "https://localhost:8080/",
          "height": 237
        },
        "id": "vDV8MgvS3Vk9",
        "outputId": "42941de2-f1ee-4f24-ecc7-cbf44194a83b"
      },
      "execution_count": 102,
      "outputs": [
        {
          "output_type": "execute_result",
          "data": {
            "text/html": [
              "\n",
              "  <div id=\"df-7dd6adf9-fce7-46f0-b924-0413fa8c6f32\">\n",
              "    <div class=\"colab-df-container\">\n",
              "      <div>\n",
              "<style scoped>\n",
              "    .dataframe tbody tr th:only-of-type {\n",
              "        vertical-align: middle;\n",
              "    }\n",
              "\n",
              "    .dataframe tbody tr th {\n",
              "        vertical-align: top;\n",
              "    }\n",
              "\n",
              "    .dataframe thead th {\n",
              "        text-align: right;\n",
              "    }\n",
              "</style>\n",
              "<table border=\"1\" class=\"dataframe\">\n",
              "  <thead>\n",
              "    <tr style=\"text-align: right;\">\n",
              "      <th></th>\n",
              "      <th>x</th>\n",
              "      <th>ni</th>\n",
              "      <th>fi</th>\n",
              "      <th>Ni</th>\n",
              "      <th>Fi</th>\n",
              "    </tr>\n",
              "  </thead>\n",
              "  <tbody>\n",
              "    <tr>\n",
              "      <th>0</th>\n",
              "      <td>Lunes</td>\n",
              "      <td>25</td>\n",
              "      <td>0.144509</td>\n",
              "      <td>25</td>\n",
              "      <td>0.144509</td>\n",
              "    </tr>\n",
              "    <tr>\n",
              "      <th>1</th>\n",
              "      <td>Martes</td>\n",
              "      <td>14</td>\n",
              "      <td>0.080925</td>\n",
              "      <td>39</td>\n",
              "      <td>0.225434</td>\n",
              "    </tr>\n",
              "    <tr>\n",
              "      <th>2</th>\n",
              "      <td>Miercoles</td>\n",
              "      <td>59</td>\n",
              "      <td>0.341040</td>\n",
              "      <td>98</td>\n",
              "      <td>0.566474</td>\n",
              "    </tr>\n",
              "    <tr>\n",
              "      <th>3</th>\n",
              "      <td>Jueves</td>\n",
              "      <td>37</td>\n",
              "      <td>0.213873</td>\n",
              "      <td>135</td>\n",
              "      <td>0.780347</td>\n",
              "    </tr>\n",
              "    <tr>\n",
              "      <th>4</th>\n",
              "      <td>Viernes</td>\n",
              "      <td>10</td>\n",
              "      <td>0.057803</td>\n",
              "      <td>145</td>\n",
              "      <td>0.838150</td>\n",
              "    </tr>\n",
              "    <tr>\n",
              "      <th>5</th>\n",
              "      <td>Sabado</td>\n",
              "      <td>28</td>\n",
              "      <td>0.161850</td>\n",
              "      <td>173</td>\n",
              "      <td>1.000000</td>\n",
              "    </tr>\n",
              "  </tbody>\n",
              "</table>\n",
              "</div>\n",
              "      <button class=\"colab-df-convert\" onclick=\"convertToInteractive('df-7dd6adf9-fce7-46f0-b924-0413fa8c6f32')\"\n",
              "              title=\"Convert this dataframe to an interactive table.\"\n",
              "              style=\"display:none;\">\n",
              "        \n",
              "  <svg xmlns=\"http://www.w3.org/2000/svg\" height=\"24px\"viewBox=\"0 0 24 24\"\n",
              "       width=\"24px\">\n",
              "    <path d=\"M0 0h24v24H0V0z\" fill=\"none\"/>\n",
              "    <path d=\"M18.56 5.44l.94 2.06.94-2.06 2.06-.94-2.06-.94-.94-2.06-.94 2.06-2.06.94zm-11 1L8.5 8.5l.94-2.06 2.06-.94-2.06-.94L8.5 2.5l-.94 2.06-2.06.94zm10 10l.94 2.06.94-2.06 2.06-.94-2.06-.94-.94-2.06-.94 2.06-2.06.94z\"/><path d=\"M17.41 7.96l-1.37-1.37c-.4-.4-.92-.59-1.43-.59-.52 0-1.04.2-1.43.59L10.3 9.45l-7.72 7.72c-.78.78-.78 2.05 0 2.83L4 21.41c.39.39.9.59 1.41.59.51 0 1.02-.2 1.41-.59l7.78-7.78 2.81-2.81c.8-.78.8-2.07 0-2.86zM5.41 20L4 18.59l7.72-7.72 1.47 1.35L5.41 20z\"/>\n",
              "  </svg>\n",
              "      </button>\n",
              "      \n",
              "  <style>\n",
              "    .colab-df-container {\n",
              "      display:flex;\n",
              "      flex-wrap:wrap;\n",
              "      gap: 12px;\n",
              "    }\n",
              "\n",
              "    .colab-df-convert {\n",
              "      background-color: #E8F0FE;\n",
              "      border: none;\n",
              "      border-radius: 50%;\n",
              "      cursor: pointer;\n",
              "      display: none;\n",
              "      fill: #1967D2;\n",
              "      height: 32px;\n",
              "      padding: 0 0 0 0;\n",
              "      width: 32px;\n",
              "    }\n",
              "\n",
              "    .colab-df-convert:hover {\n",
              "      background-color: #E2EBFA;\n",
              "      box-shadow: 0px 1px 2px rgba(60, 64, 67, 0.3), 0px 1px 3px 1px rgba(60, 64, 67, 0.15);\n",
              "      fill: #174EA6;\n",
              "    }\n",
              "\n",
              "    [theme=dark] .colab-df-convert {\n",
              "      background-color: #3B4455;\n",
              "      fill: #D2E3FC;\n",
              "    }\n",
              "\n",
              "    [theme=dark] .colab-df-convert:hover {\n",
              "      background-color: #434B5C;\n",
              "      box-shadow: 0px 1px 3px 1px rgba(0, 0, 0, 0.15);\n",
              "      filter: drop-shadow(0px 1px 2px rgba(0, 0, 0, 0.3));\n",
              "      fill: #FFFFFF;\n",
              "    }\n",
              "  </style>\n",
              "\n",
              "      <script>\n",
              "        const buttonEl =\n",
              "          document.querySelector('#df-7dd6adf9-fce7-46f0-b924-0413fa8c6f32 button.colab-df-convert');\n",
              "        buttonEl.style.display =\n",
              "          google.colab.kernel.accessAllowed ? 'block' : 'none';\n",
              "\n",
              "        async function convertToInteractive(key) {\n",
              "          const element = document.querySelector('#df-7dd6adf9-fce7-46f0-b924-0413fa8c6f32');\n",
              "          const dataTable =\n",
              "            await google.colab.kernel.invokeFunction('convertToInteractive',\n",
              "                                                     [key], {});\n",
              "          if (!dataTable) return;\n",
              "\n",
              "          const docLinkHtml = 'Like what you see? Visit the ' +\n",
              "            '<a target=\"_blank\" href=https://colab.research.google.com/notebooks/data_table.ipynb>data table notebook</a>'\n",
              "            + ' to learn more about interactive tables.';\n",
              "          element.innerHTML = '';\n",
              "          dataTable['output_type'] = 'display_data';\n",
              "          await google.colab.output.renderOutput(dataTable, element);\n",
              "          const docLink = document.createElement('div');\n",
              "          docLink.innerHTML = docLinkHtml;\n",
              "          element.appendChild(docLink);\n",
              "        }\n",
              "      </script>\n",
              "    </div>\n",
              "  </div>\n",
              "  "
            ],
            "text/plain": [
              "           x  ni        fi   Ni        Fi\n",
              "0      Lunes  25  0.144509   25  0.144509\n",
              "1     Martes  14  0.080925   39  0.225434\n",
              "2  Miercoles  59  0.341040   98  0.566474\n",
              "3     Jueves  37  0.213873  135  0.780347\n",
              "4    Viernes  10  0.057803  145  0.838150\n",
              "5     Sabado  28  0.161850  173  1.000000"
            ]
          },
          "metadata": {},
          "execution_count": 102
        }
      ]
    },
    {
      "cell_type": "code",
      "source": [
        "print('j) El día martes se vendieron 14 refrescos', 'El dia viernes hubó un 5.6% de las ventas', \n",
        "      'Durante la semana de lunes a jueves se vendieron 135 refrescos', 'De lunes a miercoles se hicierón el 56.6% de las ventas durante la semana', sep= '\\n')"
      ],
      "metadata": {
        "colab": {
          "base_uri": "https://localhost:8080/"
        },
        "id": "OyoxRYat9zGA",
        "outputId": "b2e39cc3-fae0-41f5-b6d8-df4e2e6a5cbb"
      },
      "execution_count": 103,
      "outputs": [
        {
          "output_type": "stream",
          "name": "stdout",
          "text": [
            "j) El día martes se vendieron 14 refrescos\n",
            "El dia viernes hubó un 5.6% de las ventas\n",
            "Durante la semana de lunes a jueves se vendieron 135 refrescos\n",
            "De lunes a miercoles se hicierón el 56.6% de las ventas durante la semana\n"
          ]
        }
      ]
    }
  ]
}