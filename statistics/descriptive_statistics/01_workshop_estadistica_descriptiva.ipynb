{
  "nbformat": 4,
  "nbformat_minor": 0,
  "metadata": {
    "colab": {
      "name": "01_workshop_estadistica_descriptiva.ipynb",
      "provenance": [],
      "authorship_tag": "ABX9TyOwghpXGrFGtECvwkcXV/zz",
      "include_colab_link": true
    },
    "kernelspec": {
      "name": "python3",
      "display_name": "Python 3"
    },
    "language_info": {
      "name": "python"
    }
  },
  "cells": [
    {
      "cell_type": "markdown",
      "metadata": {
        "id": "view-in-github",
        "colab_type": "text"
      },
      "source": [
        "<a href=\"https://colab.research.google.com/github/Kaiziferr/statistics/blob/main/statistics/descriptive_statistics/01_workshop_estadistica_descriptiva.ipynb\" target=\"_parent\"><img src=\"https://colab.research.google.com/assets/colab-badge.svg\" alt=\"Open In Colab\"/></a>"
      ]
    },
    {
      "cell_type": "code",
      "execution_count": 1,
      "metadata": {
        "id": "EwMnoD3utfsA"
      },
      "outputs": [],
      "source": [
        "import pandas as pd\n",
        "import numpy as np\n",
        "import matplotlib.pyplot as plt\n",
        "import seaborn as sns\n",
        "import warnings"
      ]
    },
    {
      "cell_type": "markdown",
      "source": [
        "Se requiere crear e interpretar la información de una tabla de frecuencias, basándose en el gráfico que representa las ventas de refrescos."
      ],
      "metadata": {
        "id": "g_3mW8t9uQv-"
      }
    },
    {
      "cell_type": "code",
      "source": [
        "sns.set(style=\"darkgrid\")"
      ],
      "metadata": {
        "id": "Uc9J4F4htiwe"
      },
      "execution_count": 2,
      "outputs": []
    },
    {
      "cell_type": "markdown",
      "source": [
        "# Venta de refrescos\n",
        "---"
      ],
      "metadata": {
        "id": "KepoJj1gWpxs"
      }
    },
    {
      "cell_type": "code",
      "source": [
        "data = pd.DataFrame({'dia':['Lunes','Martes','Miercoles','Jueves','Viernes','Sabado'], 'venta_refresco':[25, 14, 59, 37, 10, 28]})\n",
        "data"
      ],
      "metadata": {
        "colab": {
          "base_uri": "https://localhost:8080/",
          "height": 237
        },
        "id": "bjy-O0nPtknl",
        "outputId": "d382c986-5bd6-43c0-eaa4-24452f36e67b"
      },
      "execution_count": 3,
      "outputs": [
        {
          "output_type": "execute_result",
          "data": {
            "text/plain": [
              "         dia  venta_refresco\n",
              "0      Lunes              25\n",
              "1     Martes              14\n",
              "2  Miercoles              59\n",
              "3     Jueves              37\n",
              "4    Viernes              10\n",
              "5     Sabado              28"
            ],
            "text/html": [
              "\n",
              "  <div id=\"df-127d8c92-9889-4fa2-9c08-58cad6c05bdd\">\n",
              "    <div class=\"colab-df-container\">\n",
              "      <div>\n",
              "<style scoped>\n",
              "    .dataframe tbody tr th:only-of-type {\n",
              "        vertical-align: middle;\n",
              "    }\n",
              "\n",
              "    .dataframe tbody tr th {\n",
              "        vertical-align: top;\n",
              "    }\n",
              "\n",
              "    .dataframe thead th {\n",
              "        text-align: right;\n",
              "    }\n",
              "</style>\n",
              "<table border=\"1\" class=\"dataframe\">\n",
              "  <thead>\n",
              "    <tr style=\"text-align: right;\">\n",
              "      <th></th>\n",
              "      <th>dia</th>\n",
              "      <th>venta_refresco</th>\n",
              "    </tr>\n",
              "  </thead>\n",
              "  <tbody>\n",
              "    <tr>\n",
              "      <th>0</th>\n",
              "      <td>Lunes</td>\n",
              "      <td>25</td>\n",
              "    </tr>\n",
              "    <tr>\n",
              "      <th>1</th>\n",
              "      <td>Martes</td>\n",
              "      <td>14</td>\n",
              "    </tr>\n",
              "    <tr>\n",
              "      <th>2</th>\n",
              "      <td>Miercoles</td>\n",
              "      <td>59</td>\n",
              "    </tr>\n",
              "    <tr>\n",
              "      <th>3</th>\n",
              "      <td>Jueves</td>\n",
              "      <td>37</td>\n",
              "    </tr>\n",
              "    <tr>\n",
              "      <th>4</th>\n",
              "      <td>Viernes</td>\n",
              "      <td>10</td>\n",
              "    </tr>\n",
              "    <tr>\n",
              "      <th>5</th>\n",
              "      <td>Sabado</td>\n",
              "      <td>28</td>\n",
              "    </tr>\n",
              "  </tbody>\n",
              "</table>\n",
              "</div>\n",
              "      <button class=\"colab-df-convert\" onclick=\"convertToInteractive('df-127d8c92-9889-4fa2-9c08-58cad6c05bdd')\"\n",
              "              title=\"Convert this dataframe to an interactive table.\"\n",
              "              style=\"display:none;\">\n",
              "        \n",
              "  <svg xmlns=\"http://www.w3.org/2000/svg\" height=\"24px\"viewBox=\"0 0 24 24\"\n",
              "       width=\"24px\">\n",
              "    <path d=\"M0 0h24v24H0V0z\" fill=\"none\"/>\n",
              "    <path d=\"M18.56 5.44l.94 2.06.94-2.06 2.06-.94-2.06-.94-.94-2.06-.94 2.06-2.06.94zm-11 1L8.5 8.5l.94-2.06 2.06-.94-2.06-.94L8.5 2.5l-.94 2.06-2.06.94zm10 10l.94 2.06.94-2.06 2.06-.94-2.06-.94-.94-2.06-.94 2.06-2.06.94z\"/><path d=\"M17.41 7.96l-1.37-1.37c-.4-.4-.92-.59-1.43-.59-.52 0-1.04.2-1.43.59L10.3 9.45l-7.72 7.72c-.78.78-.78 2.05 0 2.83L4 21.41c.39.39.9.59 1.41.59.51 0 1.02-.2 1.41-.59l7.78-7.78 2.81-2.81c.8-.78.8-2.07 0-2.86zM5.41 20L4 18.59l7.72-7.72 1.47 1.35L5.41 20z\"/>\n",
              "  </svg>\n",
              "      </button>\n",
              "      \n",
              "  <style>\n",
              "    .colab-df-container {\n",
              "      display:flex;\n",
              "      flex-wrap:wrap;\n",
              "      gap: 12px;\n",
              "    }\n",
              "\n",
              "    .colab-df-convert {\n",
              "      background-color: #E8F0FE;\n",
              "      border: none;\n",
              "      border-radius: 50%;\n",
              "      cursor: pointer;\n",
              "      display: none;\n",
              "      fill: #1967D2;\n",
              "      height: 32px;\n",
              "      padding: 0 0 0 0;\n",
              "      width: 32px;\n",
              "    }\n",
              "\n",
              "    .colab-df-convert:hover {\n",
              "      background-color: #E2EBFA;\n",
              "      box-shadow: 0px 1px 2px rgba(60, 64, 67, 0.3), 0px 1px 3px 1px rgba(60, 64, 67, 0.15);\n",
              "      fill: #174EA6;\n",
              "    }\n",
              "\n",
              "    [theme=dark] .colab-df-convert {\n",
              "      background-color: #3B4455;\n",
              "      fill: #D2E3FC;\n",
              "    }\n",
              "\n",
              "    [theme=dark] .colab-df-convert:hover {\n",
              "      background-color: #434B5C;\n",
              "      box-shadow: 0px 1px 3px 1px rgba(0, 0, 0, 0.15);\n",
              "      filter: drop-shadow(0px 1px 2px rgba(0, 0, 0, 0.3));\n",
              "      fill: #FFFFFF;\n",
              "    }\n",
              "  </style>\n",
              "\n",
              "      <script>\n",
              "        const buttonEl =\n",
              "          document.querySelector('#df-127d8c92-9889-4fa2-9c08-58cad6c05bdd button.colab-df-convert');\n",
              "        buttonEl.style.display =\n",
              "          google.colab.kernel.accessAllowed ? 'block' : 'none';\n",
              "\n",
              "        async function convertToInteractive(key) {\n",
              "          const element = document.querySelector('#df-127d8c92-9889-4fa2-9c08-58cad6c05bdd');\n",
              "          const dataTable =\n",
              "            await google.colab.kernel.invokeFunction('convertToInteractive',\n",
              "                                                     [key], {});\n",
              "          if (!dataTable) return;\n",
              "\n",
              "          const docLinkHtml = 'Like what you see? Visit the ' +\n",
              "            '<a target=\"_blank\" href=https://colab.research.google.com/notebooks/data_table.ipynb>data table notebook</a>'\n",
              "            + ' to learn more about interactive tables.';\n",
              "          element.innerHTML = '';\n",
              "          dataTable['output_type'] = 'display_data';\n",
              "          await google.colab.output.renderOutput(dataTable, element);\n",
              "          const docLink = document.createElement('div');\n",
              "          docLink.innerHTML = docLinkHtml;\n",
              "          element.appendChild(docLink);\n",
              "        }\n",
              "      </script>\n",
              "    </div>\n",
              "  </div>\n",
              "  "
            ]
          },
          "metadata": {},
          "execution_count": 3
        }
      ]
    },
    {
      "cell_type": "code",
      "source": [
        "def plot_bar(data:list,ejeX:str,ejey:str,y_label:str,x_label:str,title:str='Target',figsize_x:int=8,figsize_y:int=8,fontsize:int=15)->None:\n",
        "  \"\"\"Grafica un diagrama de barras con multiples caracteristicas\"\"\"\n",
        "  fig, ax = plt.subplots(figsize = (figsize_x, figsize_y))\n",
        "  fig.suptitle(f'Diagrama de barras {title}', fontsize=fontsize)\n",
        "  sns.barplot(x=ejeX, y=ejey, data=data, ax=ax)\n",
        "  ax.set_ylabel(y_label, size = 12)\n",
        "  ax.set_xlabel(x_label, size=fontsize-3)\n",
        "  ax.set_xticklabels(ax.get_xticklabels(),fontsize = fontsize-3)\n",
        "  for p in ax.patches:\n",
        "    height = int(p.get_height())\n",
        "    ax.text(p.get_x()+p.get_width()/2., height + 1,height, ha=\"center\") "
      ],
      "metadata": {
        "id": "8DeuzgE_tmGW"
      },
      "execution_count": 4,
      "outputs": []
    },
    {
      "cell_type": "code",
      "source": [
        "plot_bar(data,'dia','venta_refresco','Venta refrescos','Día', 'Venta refrescos')"
      ],
      "metadata": {
        "colab": {
          "base_uri": "https://localhost:8080/",
          "height": 563
        },
        "id": "mgIEDXN0tp0d",
        "outputId": "c6b5ecea-376b-4601-863d-b5dee0c724e5"
      },
      "execution_count": 5,
      "outputs": [
        {
          "output_type": "display_data",
          "data": {
            "text/plain": [
              "<Figure size 576x576 with 1 Axes>"
            ],
            "image/png": "[encoded data removed]"
          },
          "metadata": {}
        }
      ]
    },
    {
      "cell_type": "markdown",
      "source": [
        "# Tabla de frecuencias\n",
        "---"
      ],
      "metadata": {
        "id": "g-PlEycrWlWp"
      }
    },
    {
      "cell_type": "code",
      "source": [
        "table_frecuency = pd.DataFrame(index=['1','2','3','4','5','6'])\n",
        "table_frecuency['xi'] = data.dia.values\n",
        "table_frecuency['ni'] = data.venta_refresco.values\n",
        "table_frecuency['fi'] = round(table_frecuency['ni']/data[\"venta_refresco\"].sum(), 3)\n",
        "table_frecuency['Ni'] = table_frecuency['ni'].cumsum()\n",
        "table_frecuency['Fi'] = round(table_frecuency['fi'].cumsum(), 3)\n",
        "temp = pd.Series(table_frecuency['Fi'])\n",
        "temp[-1] = 1\n",
        "table_frecuency['Fi'] = temp\n",
        "table_frecuency"
      ],
      "metadata": {
        "colab": {
          "base_uri": "https://localhost:8080/",
          "height": 237
        },
        "id": "WR2huc4wt5B2",
        "outputId": "74be9105-6c3d-423e-9ee3-3ebf570434d2"
      },
      "execution_count": 8,
      "outputs": [
        {
          "output_type": "execute_result",
          "data": {
            "text/plain": [
              "          xi  ni     fi   Ni     Fi\n",
              "1      Lunes  25  0.145   25  0.145\n",
              "2     Martes  14  0.081   39  0.226\n",
              "3  Miercoles  59  0.341   98  0.567\n",
              "4     Jueves  37  0.214  135  0.781\n",
              "5    Viernes  10  0.058  145  0.839\n",
              "6     Sabado  28  0.162  173  1.000"
            ],
            "text/html": [
              "\n",
              "  <div id=\"df-68c8a867-9b5f-44d0-be60-fdcfd303eb4e\">\n",
              "    <div class=\"colab-df-container\">\n",
              "      <div>\n",
              "<style scoped>\n",
              "    .dataframe tbody tr th:only-of-type {\n",
              "        vertical-align: middle;\n",
              "    }\n",
              "\n",
              "    .dataframe tbody tr th {\n",
              "        vertical-align: top;\n",
              "    }\n",
              "\n",
              "    .dataframe thead th {\n",
              "        text-align: right;\n",
              "    }\n",
              "</style>\n",
              "<table border=\"1\" class=\"dataframe\">\n",
              "  <thead>\n",
              "    <tr style=\"text-align: right;\">\n",
              "      <th></th>\n",
              "      <th>xi</th>\n",
              "      <th>ni</th>\n",
              "      <th>fi</th>\n",
              "      <th>Ni</th>\n",
              "      <th>Fi</th>\n",
              "    </tr>\n",
              "  </thead>\n",
              "  <tbody>\n",
              "    <tr>\n",
              "      <th>1</th>\n",
              "      <td>Lunes</td>\n",
              "      <td>25</td>\n",
              "      <td>0.145</td>\n",
              "      <td>25</td>\n",
              "      <td>0.145</td>\n",
              "    </tr>\n",
              "    <tr>\n",
              "      <th>2</th>\n",
              "      <td>Martes</td>\n",
              "      <td>14</td>\n",
              "      <td>0.081</td>\n",
              "      <td>39</td>\n",
              "      <td>0.226</td>\n",
              "    </tr>\n",
              "    <tr>\n",
              "      <th>3</th>\n",
              "      <td>Miercoles</td>\n",
              "      <td>59</td>\n",
              "      <td>0.341</td>\n",
              "      <td>98</td>\n",
              "      <td>0.567</td>\n",
              "    </tr>\n",
              "    <tr>\n",
              "      <th>4</th>\n",
              "      <td>Jueves</td>\n",
              "      <td>37</td>\n",
              "      <td>0.214</td>\n",
              "      <td>135</td>\n",
              "      <td>0.781</td>\n",
              "    </tr>\n",
              "    <tr>\n",
              "      <th>5</th>\n",
              "      <td>Viernes</td>\n",
              "      <td>10</td>\n",
              "      <td>0.058</td>\n",
              "      <td>145</td>\n",
              "      <td>0.839</td>\n",
              "    </tr>\n",
              "    <tr>\n",
              "      <th>6</th>\n",
              "      <td>Sabado</td>\n",
              "      <td>28</td>\n",
              "      <td>0.162</td>\n",
              "      <td>173</td>\n",
              "      <td>1.000</td>\n",
              "    </tr>\n",
              "  </tbody>\n",
              "</table>\n",
              "</div>\n",
              "      <button class=\"colab-df-convert\" onclick=\"convertToInteractive('df-68c8a867-9b5f-44d0-be60-fdcfd303eb4e')\"\n",
              "              title=\"Convert this dataframe to an interactive table.\"\n",
              "              style=\"display:none;\">\n",
              "        \n",
              "  <svg xmlns=\"http://www.w3.org/2000/svg\" height=\"24px\"viewBox=\"0 0 24 24\"\n",
              "       width=\"24px\">\n",
              "    <path d=\"M0 0h24v24H0V0z\" fill=\"none\"/>\n",
              "    <path d=\"M18.56 5.44l.94 2.06.94-2.06 2.06-.94-2.06-.94-.94-2.06-.94 2.06-2.06.94zm-11 1L8.5 8.5l.94-2.06 2.06-.94-2.06-.94L8.5 2.5l-.94 2.06-2.06.94zm10 10l.94 2.06.94-2.06 2.06-.94-2.06-.94-.94-2.06-.94 2.06-2.06.94z\"/><path d=\"M17.41 7.96l-1.37-1.37c-.4-.4-.92-.59-1.43-.59-.52 0-1.04.2-1.43.59L10.3 9.45l-7.72 7.72c-.78.78-.78 2.05 0 2.83L4 21.41c.39.39.9.59 1.41.59.51 0 1.02-.2 1.41-.59l7.78-7.78 2.81-2.81c.8-.78.8-2.07 0-2.86zM5.41 20L4 18.59l7.72-7.72 1.47 1.35L5.41 20z\"/>\n",
              "  </svg>\n",
              "      </button>\n",
              "      \n",
              "  <style>\n",
              "    .colab-df-container {\n",
              "      display:flex;\n",
              "      flex-wrap:wrap;\n",
              "      gap: 12px;\n",
              "    }\n",
              "\n",
              "    .colab-df-convert {\n",
              "      background-color: #E8F0FE;\n",
              "      border: none;\n",
              "      border-radius: 50%;\n",
              "      cursor: pointer;\n",
              "      display: none;\n",
              "      fill: #1967D2;\n",
              "      height: 32px;\n",
              "      padding: 0 0 0 0;\n",
              "      width: 32px;\n",
              "    }\n",
              "\n",
              "    .colab-df-convert:hover {\n",
              "      background-color: #E2EBFA;\n",
              "      box-shadow: 0px 1px 2px rgba(60, 64, 67, 0.3), 0px 1px 3px 1px rgba(60, 64, 67, 0.15);\n",
              "      fill: #174EA6;\n",
              "    }\n",
              "\n",
              "    [theme=dark] .colab-df-convert {\n",
              "      background-color: #3B4455;\n",
              "      fill: #D2E3FC;\n",
              "    }\n",
              "\n",
              "    [theme=dark] .colab-df-convert:hover {\n",
              "      background-color: #434B5C;\n",
              "      box-shadow: 0px 1px 3px 1px rgba(0, 0, 0, 0.15);\n",
              "      filter: drop-shadow(0px 1px 2px rgba(0, 0, 0, 0.3));\n",
              "      fill: #FFFFFF;\n",
              "    }\n",
              "  </style>\n",
              "\n",
              "      <script>\n",
              "        const buttonEl =\n",
              "          document.querySelector('#df-68c8a867-9b5f-44d0-be60-fdcfd303eb4e button.colab-df-convert');\n",
              "        buttonEl.style.display =\n",
              "          google.colab.kernel.accessAllowed ? 'block' : 'none';\n",
              "\n",
              "        async function convertToInteractive(key) {\n",
              "          const element = document.querySelector('#df-68c8a867-9b5f-44d0-be60-fdcfd303eb4e');\n",
              "          const dataTable =\n",
              "            await google.colab.kernel.invokeFunction('convertToInteractive',\n",
              "                                                     [key], {});\n",
              "          if (!dataTable) return;\n",
              "\n",
              "          const docLinkHtml = 'Like what you see? Visit the ' +\n",
              "            '<a target=\"_blank\" href=https://colab.research.google.com/notebooks/data_table.ipynb>data table notebook</a>'\n",
              "            + ' to learn more about interactive tables.';\n",
              "          element.innerHTML = '';\n",
              "          dataTable['output_type'] = 'display_data';\n",
              "          await google.colab.output.renderOutput(dataTable, element);\n",
              "          const docLink = document.createElement('div');\n",
              "          docLink.innerHTML = docLinkHtml;\n",
              "          element.appendChild(docLink);\n",
              "        }\n",
              "      </script>\n",
              "    </div>\n",
              "  </div>\n",
              "  "
            ]
          },
          "metadata": {},
          "execution_count": 8
        }
      ]
    },
    {
      "cell_type": "code",
      "source": [
        "print('Defina la variable en estudio, ¿De qué tipo es y cuál es su escala de medición?')\n",
        "print('Variable en estudio: Venta de refresco', 'Tipo de variable: Cuantitativa discreta', 'Escala: Razón', sep='\\n')"
      ],
      "metadata": {
        "colab": {
          "base_uri": "https://localhost:8080/"
        },
        "id": "iIav122RW6qw",
        "outputId": "f3a69416-4943-4ee4-cf65-c1938749de5d"
      },
      "execution_count": 9,
      "outputs": [
        {
          "output_type": "stream",
          "name": "stdout",
          "text": [
            "Defina la variable en estudio, ¿De qué tipo es y cuál es su escala de medición?\n",
            "Variable en estudio: Venta de refresco\n",
            "Tipo de variable: Cuantitativa discreta\n",
            "Escala: Razón\n",
            "\n"
          ]
        }
      ]
    },
    {
      "cell_type": "code",
      "source": [
        "table_frecuency[table_frecuency['ni'] == max(table_frecuency['ni'])]['xi'][0]"
      ],
      "metadata": {
        "colab": {
          "base_uri": "https://localhost:8080/",
          "height": 35
        },
        "id": "KFO8mL5YXUHL",
        "outputId": "bf07255e-c406-402c-c548-a823555ff056"
      },
      "execution_count": 17,
      "outputs": [
        {
          "output_type": "execute_result",
          "data": {
            "text/plain": [
              "'Miercoles'"
            ],
            "application/vnd.google.colaboratory.intrinsic+json": {
              "type": "string"
            }
          },
          "metadata": {},
          "execution_count": 17
        }
      ]
    },
    {
      "cell_type": "code",
      "source": [
        "print('Qué día se vende menos refrescos?')\n",
        "print(f\"El día que se vende menos refrescos es: {table_frecuency[table_frecuency['ni'] == max(table_frecuency['ni'])]['xi'][0]}\")"
      ],
      "metadata": {
        "colab": {
          "base_uri": "https://localhost:8080/"
        },
        "id": "2lHBoYIpW-eZ",
        "outputId": "6399c772-c517-4090-c6ad-1057261cb348"
      },
      "execution_count": 19,
      "outputs": [
        {
          "output_type": "stream",
          "name": "stdout",
          "text": [
            "Qué día se vende menos refrescos?\n",
            "El día que se vende menos refrescos es: Miercoles\n"
          ]
        }
      ]
    },
    {
      "cell_type": "code",
      "source": [
        "print('Qué día se vende más refrescos?')\n",
        "print(f\"El día que se vende más refrescos es: {table_frecuency[table_frecuency['ni'] == max(table_frecuency['ni'])]['xi'][0]}\")"
      ],
      "metadata": {
        "colab": {
          "base_uri": "https://localhost:8080/"
        },
        "id": "CptKIFyPX7_w",
        "outputId": "218fc485-32d8-464c-b013-9a2a8ad7b929"
      },
      "execution_count": 20,
      "outputs": [
        {
          "output_type": "stream",
          "name": "stdout",
          "text": [
            "Qué día se vende más refrescos?\n",
            "El día que se vende más refrescos es: Miercoles\n"
          ]
        }
      ]
    },
    {
      "cell_type": "code",
      "source": [
        "print('Qué día se vende menos refrescos?')\n",
        "print(f\"El día que se vende menos refrescos es: {table_frecuency[table_frecuency['ni'] == min(table_frecuency['ni'])]['xi'][0]}\")"
      ],
      "metadata": {
        "colab": {
          "base_uri": "https://localhost:8080/"
        },
        "id": "QA7VOemFYBp6",
        "outputId": "155d0ded-c9d9-4952-86b7-bdc559d8a0ac"
      },
      "execution_count": 21,
      "outputs": [
        {
          "output_type": "stream",
          "name": "stdout",
          "text": [
            "Qué día se vende menos refrescos?\n",
            "El día que se vende menos refrescos es: Viernes\n"
          ]
        }
      ]
    },
    {
      "cell_type": "code",
      "source": [
        "print('Cuántos refrescos se vendieron en toda la semana?')\n",
        "print(f'En toda la semana se vendieron {data[\"venta_refresco\"].sum()} refrescos')"
      ],
      "metadata": {
        "colab": {
          "base_uri": "https://localhost:8080/"
        },
        "id": "Gr3sXtH9YHMK",
        "outputId": "581388ea-d8d4-4cef-cd02-952203234adf"
      },
      "execution_count": 22,
      "outputs": [
        {
          "output_type": "stream",
          "name": "stdout",
          "text": [
            "Cuántos refrescos se vendieron en toda la semana?\n",
            "En toda la semana se vendieron 173 refrescos\n"
          ]
        }
      ]
    },
    {
      "cell_type": "code",
      "source": [
        "print('Cuál es el porcentaje que corresponde al día de más ventas?')\n",
        "print(f\"El día más vendido en porcentaje se vendio {table_frecuency[table_frecuency['ni'] == max(table_frecuency['ni'])]['fi'][0]} refrescos\")"
      ],
      "metadata": {
        "colab": {
          "base_uri": "https://localhost:8080/"
        },
        "id": "ece2OxWMYPP5",
        "outputId": "8a0a3391-a61e-459b-a604-3f0165b09a9a"
      },
      "execution_count": 28,
      "outputs": [
        {
          "output_type": "stream",
          "name": "stdout",
          "text": [
            "Cuál es el porcentaje que corresponde al día de más ventas?\n",
            "El día más vendido en porcentaje se vendio 0.341 refrescos\n"
          ]
        }
      ]
    },
    {
      "cell_type": "code",
      "source": [
        "table_frecuency[table_frecuency['xi'] == 'Sabado']['fi'][0]"
      ],
      "metadata": {
        "colab": {
          "base_uri": "https://localhost:8080/"
        },
        "id": "mWp6PEP2ZafQ",
        "outputId": "4015d42b-7abd-4d39-9951-c5927444751f"
      },
      "execution_count": 31,
      "outputs": [
        {
          "output_type": "execute_result",
          "data": {
            "text/plain": [
              "0.162"
            ]
          },
          "metadata": {},
          "execution_count": 31
        }
      ]
    },
    {
      "cell_type": "code",
      "source": [
        "print('Cuál es el porcentaje de ventas del día sábado?')\n",
        "print(f\"El día sabado en porcentaje se vendio {table_frecuency[table_frecuency['xi'] == 'Sabado']['fi'][0]} refrescos\")"
      ],
      "metadata": {
        "colab": {
          "base_uri": "https://localhost:8080/"
        },
        "id": "DB4ubMXmZXnj",
        "outputId": "c99aa279-08c1-4f82-8a86-cf8d08a82ad0"
      },
      "execution_count": 33,
      "outputs": [
        {
          "output_type": "stream",
          "name": "stdout",
          "text": [
            "Cuál es el porcentaje de ventas del día sábado?\n",
            "El día sabado en porcentaje se vendio 0.162 refrescos\n"
          ]
        }
      ]
    },
    {
      "cell_type": "code",
      "source": [
        "print('Cuál es el porcentaje de los días lunes y martes en conjunto?')\n",
        "print(f'Desde el día lunes a martes en porcentaje se vendio {table_frecuency.iloc[1][-1]} refrescos')"
      ],
      "metadata": {
        "colab": {
          "base_uri": "https://localhost:8080/"
        },
        "id": "vB6cw9BwZwEE",
        "outputId": "cf9acb17-3e25-441b-cb14-e4cf00f70205"
      },
      "execution_count": 44,
      "outputs": [
        {
          "output_type": "stream",
          "name": "stdout",
          "text": [
            "Cuál es el porcentaje de los días lunes y martes en conjunto?\n",
            "Desde el día lunes a martes en porcentaje se vendio 0.226 refrescos\n"
          ]
        }
      ]
    },
    {
      "cell_type": "code",
      "source": [
        "print('Qué porcentaje de ventas se presentas de lunes a Jueves?')\n",
        "print(f'Desde el día lunes a jueves en porcentaje se vendio {table_frecuency.iloc[3][-1]} refrescos\\n')"
      ],
      "metadata": {
        "colab": {
          "base_uri": "https://localhost:8080/"
        },
        "id": "_YGo3UINaWq8",
        "outputId": "9b0c3432-f850-4b65-a100-fea433a24f9e"
      },
      "execution_count": 46,
      "outputs": [
        {
          "output_type": "stream",
          "name": "stdout",
          "text": [
            "Qué porcentaje de ventas se presentas de lunes a Jueves?\n",
            "Desde el día lunes a jueves en porcentaje se vendio 0.781 refrescos\n",
            "\n"
          ]
        }
      ]
    },
    {
      "cell_type": "markdown",
      "source": [
        " Interprete: n2, f5, N4, F3"
      ],
      "metadata": {
        "id": "zY1_1MK5apEx"
      }
    },
    {
      "cell_type": "code",
      "source": [
        "print('El día martes se vendieron 14 refrescos', 'El dia viernes hubó un 5.8% de las ventas', \n",
        "      'Durante la semana de lunes a jueves se vendieron 135 refrescos', 'De lunes a miercoles se hicierón el 56.6% de las ventas durante la semana', sep= '\\n')"
      ],
      "metadata": {
        "colab": {
          "base_uri": "https://localhost:8080/"
        },
        "id": "MQHDrfUGt7TV",
        "outputId": "71e122af-05af-48cf-f877-aa78cf78260d"
      },
      "execution_count": 47,
      "outputs": [
        {
          "output_type": "stream",
          "name": "stdout",
          "text": [
            "El día martes se vendieron 14 refrescos\n",
            "El dia viernes hubó un 5.8% de las ventas\n",
            "Durante la semana de lunes a jueves se vendieron 135 refrescos\n",
            "De lunes a miercoles se hicierón el 56.6% de las ventas durante la semana\n"
          ]
        }
      ]
    }
  ]
}