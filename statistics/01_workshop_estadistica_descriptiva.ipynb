{
  "nbformat": 4,
  "nbformat_minor": 0,
  "metadata": {
    "colab": {
      "name": "01_workshop_estadistica_descriptiva.ipynb",
      "provenance": [],
      "collapsed_sections": [],
      "authorship_tag": "ABX9TyMub8znZIXvlvMSuCel0HY0",
      "include_colab_link": true
    },
    "kernelspec": {
      "name": "python3",
      "display_name": "Python 3"
    },
    "language_info": {
      "name": "python"
    }
  },
  "cells": [
    {
      "cell_type": "markdown",
      "metadata": {
        "id": "view-in-github",
        "colab_type": "text"
      },
      "source": [
        "<a href=\"https://colab.research.google.com/github/Kaiziferr/statistics/blob/main/statistics/01_workshop_estadistica_descriptiva.ipynb\" target=\"_parent\"><img src=\"https://colab.research.google.com/assets/colab-badge.svg\" alt=\"Open In Colab\"/></a>"
      ]
    },
    {
      "cell_type": "markdown",
      "source": [
        "# Tabla de frecuencia"
      ],
      "metadata": {
        "id": "oY2ovz0v5HmE"
      }
    },
    {
      "cell_type": "markdown",
      "source": [
        "## **Problema I**\n",
        "---\n",
        "Se requiere crear e interpretar la información de una tabla de frecuencias, basándose en el gráfico que representa las ventas de refrescos."
      ],
      "metadata": {
        "id": "tXgTA2SFtQaa"
      }
    },
    {
      "cell_type": "code",
      "execution_count": 1,
      "metadata": {
        "id": "w1eR7MiWnN7_"
      },
      "outputs": [],
      "source": [
        "import pandas as pd\n",
        "import math\n",
        "import matplotlib.pyplot as plt\n",
        "import seaborn as sns"
      ]
    },
    {
      "cell_type": "code",
      "source": [
        "sns.set(style=\"darkgrid\")"
      ],
      "metadata": {
        "id": "BAk9jv9D1Dye"
      },
      "execution_count": 2,
      "outputs": []
    },
    {
      "cell_type": "code",
      "source": [
        "data = pd.DataFrame({'dia':['Lunes','Martes','Miercoles','Jueves','Viernes','Sabado'],\n",
        "                     'venta_refresco':[25, 14, 59, 37, 10, 28]})\n",
        "\n",
        "fig, ax = plt.subplots(figsize = (8, 6))\n",
        "fig.suptitle('Venta refrescos', fontsize = 15)\n",
        "sns.barplot(x='dia', y='venta_refresco', data=data, ax = ax)\n",
        "ax.set_ylabel('Venta Refrescos',size = 12)\n",
        "ax.set_xlabel('Dia', size = 12)\n",
        "ax.set_xticklabels(ax.get_xticklabels(),fontsize = 12)\n",
        "\n",
        "for p in ax.patches:\n",
        "    height = int(p.get_height())\n",
        "    ax.text(p.get_x()+p.get_width()/2., height + 1,height, ha=\"center\") "
      ],
      "metadata": {
        "colab": {
          "base_uri": "https://localhost:8080/",
          "height": 440
        },
        "id": "PK9XBJi8uzNM",
        "outputId": "234685a6-dcbc-4c21-9016-bea02006e155"
      },
      "execution_count": 3,
      "outputs": [
        {
          "output_type": "display_data",
          "data": {
            "image/png": "[encoded data removed]",
            "text/plain": [
              "<Figure size 576x432 with 1 Axes>"
            ]
          },
          "metadata": {}
        }
      ]
    },
    {
      "cell_type": "markdown",
      "source": [
        "a) Defina la variable en estudio, ¿De qué tipo es y cuál es su escala de medición?<br>\n",
        "b) Qué día se vende menos refrescos?<br>\n",
        "c) Qué día se vende más refrescos?<br>\n",
        "d) Cuántos refrescos se vendieron en toda la semana?<br>\n",
        "e) Cuál es el porcentaje que corresponde al día de más ventas?<br>\n",
        "f) Cuál es el porcentaje de ventas del día sábado?<br>\n",
        "g) Cuál es el porcentaje de los días lunes y martes en conjunto?<br>\n",
        "h) Qué porcentaje de ventas se presentas de lunes a Jueves?<br>\n",
        "i) Construya la tabla de frecuencias a partir del gráfico<br>\n",
        "j) Interprete: n2, f5, N4, F3<br>"
      ],
      "metadata": {
        "id": "7sOhB4V-10y3"
      }
    },
    {
      "cell_type": "code",
      "source": [
        "total_ventas = data[\"venta_refresco\"].sum()\n",
        "ventas_dia_top = data[\"venta_refresco\"][2]/total_ventas\n",
        "ventas_dia_s = data[\"venta_refresco\"][5]/total_ventas\n",
        "ventas_dias_lm = data[\"venta_refresco\"][0:2].sum()/total_ventas\n",
        "ventas_dias_l_j = data[\"venta_refresco\"][0:4].sum()/total_ventas\n",
        "\n",
        "print('a) Variable en estudio: Venta de refresco', 'Tipo de variable: Cuantitativa discreta', 'Escala: Razón', sep='\\n')\n",
        "print('b) Miercoles')\n",
        "print('c) Viernes')\n",
        "print(f'd) En toda la semana se vendieron {total_ventas} refrescos')\n",
        "print(f'e) El día más vendido en porcentaje se vendio{ventas_dia_top} refrescos')\n",
        "print(f'f) El día sabado en porcentaje se vendio {ventas_dia_s} refrescos')\n",
        "print(f'g) Desde el día lunes a martes en porcentaje se vendio {ventas_dias_lm} refrescos')\n",
        "print(f'h) Desde el día lunes a jueves en porcentaje se vendio {ventas_dias_l_j} refrescos')"
      ],
      "metadata": {
        "colab": {
          "base_uri": "https://localhost:8080/"
        },
        "id": "Hgnjzmt3uyt6",
        "outputId": "a5f9be29-8137-4276-ead8-dafcea1f1000"
      },
      "execution_count": 4,
      "outputs": [
        {
          "output_type": "stream",
          "name": "stdout",
          "text": [
            "a) Variable en estudio: Venta de refresco\n",
            "Tipo de variable: Cuantitativa discreta\n",
            "Escala: Razón\n",
            "b) Miercoles\n",
            "c) Viernes\n",
            "d) En toda la semana se vendieron 173 refrescos\n",
            "e) El día más vendido en porcentaje se vendio0.34104046242774566 refrescos\n",
            "f) El día sabado en porcentaje se vendio 0.16184971098265896 refrescos\n",
            "g) Desde el día lunes a martes en porcentaje se vendio 0.2254335260115607 refrescos\n",
            "h) Desde el día lunes a jueves en porcentaje se vendio 0.7803468208092486 refrescos\n"
          ]
        }
      ]
    },
    {
      "cell_type": "code",
      "source": [
        "print('i)')\n",
        "table_frecuency = pd.DataFrame(index=['1','2','3','4','5','6'])\n",
        "table_frecuency['xi'] = data.dia.values\n",
        "table_frecuency['ni'] = data.venta_refresco.values\n",
        "table_frecuency['fi'] = round(table_frecuency['ni']/total_ventas, 3)\n",
        "table_frecuency['Ni'] = table_frecuency['ni'].cumsum()\n",
        "table_frecuency['Fi'] = round(table_frecuency['Ni']/total_ventas, 3)\n",
        "table_frecuency"
      ],
      "metadata": {
        "colab": {
          "base_uri": "https://localhost:8080/",
          "height": 255
        },
        "id": "TEgSpGzJ7LWi",
        "outputId": "e185b3e8-4eb1-4d3d-c9b0-e85a071973a4"
      },
      "execution_count": 5,
      "outputs": [
        {
          "output_type": "stream",
          "name": "stdout",
          "text": [
            "i)\n"
          ]
        },
        {
          "output_type": "execute_result",
          "data": {
            "text/html": [
              "\n",
              "  <div id=\"df-d0a404cc-1a76-4bb9-aff9-e6bb5d1c2a77\">\n",
              "    <div class=\"colab-df-container\">\n",
              "      <div>\n",
              "<style scoped>\n",
              "    .dataframe tbody tr th:only-of-type {\n",
              "        vertical-align: middle;\n",
              "    }\n",
              "\n",
              "    .dataframe tbody tr th {\n",
              "        vertical-align: top;\n",
              "    }\n",
              "\n",
              "    .dataframe thead th {\n",
              "        text-align: right;\n",
              "    }\n",
              "</style>\n",
              "<table border=\"1\" class=\"dataframe\">\n",
              "  <thead>\n",
              "    <tr style=\"text-align: right;\">\n",
              "      <th></th>\n",
              "      <th>xi</th>\n",
              "      <th>ni</th>\n",
              "      <th>fi</th>\n",
              "      <th>Ni</th>\n",
              "      <th>Fi</th>\n",
              "    </tr>\n",
              "  </thead>\n",
              "  <tbody>\n",
              "    <tr>\n",
              "      <th>1</th>\n",
              "      <td>Lunes</td>\n",
              "      <td>25</td>\n",
              "      <td>0.145</td>\n",
              "      <td>25</td>\n",
              "      <td>0.145</td>\n",
              "    </tr>\n",
              "    <tr>\n",
              "      <th>2</th>\n",
              "      <td>Martes</td>\n",
              "      <td>14</td>\n",
              "      <td>0.081</td>\n",
              "      <td>39</td>\n",
              "      <td>0.225</td>\n",
              "    </tr>\n",
              "    <tr>\n",
              "      <th>3</th>\n",
              "      <td>Miercoles</td>\n",
              "      <td>59</td>\n",
              "      <td>0.341</td>\n",
              "      <td>98</td>\n",
              "      <td>0.566</td>\n",
              "    </tr>\n",
              "    <tr>\n",
              "      <th>4</th>\n",
              "      <td>Jueves</td>\n",
              "      <td>37</td>\n",
              "      <td>0.214</td>\n",
              "      <td>135</td>\n",
              "      <td>0.780</td>\n",
              "    </tr>\n",
              "    <tr>\n",
              "      <th>5</th>\n",
              "      <td>Viernes</td>\n",
              "      <td>10</td>\n",
              "      <td>0.058</td>\n",
              "      <td>145</td>\n",
              "      <td>0.838</td>\n",
              "    </tr>\n",
              "    <tr>\n",
              "      <th>6</th>\n",
              "      <td>Sabado</td>\n",
              "      <td>28</td>\n",
              "      <td>0.162</td>\n",
              "      <td>173</td>\n",
              "      <td>1.000</td>\n",
              "    </tr>\n",
              "  </tbody>\n",
              "</table>\n",
              "</div>\n",
              "      <button class=\"colab-df-convert\" onclick=\"convertToInteractive('df-d0a404cc-1a76-4bb9-aff9-e6bb5d1c2a77')\"\n",
              "              title=\"Convert this dataframe to an interactive table.\"\n",
              "              style=\"display:none;\">\n",
              "        \n",
              "  <svg xmlns=\"http://www.w3.org/2000/svg\" height=\"24px\"viewBox=\"0 0 24 24\"\n",
              "       width=\"24px\">\n",
              "    <path d=\"M0 0h24v24H0V0z\" fill=\"none\"/>\n",
              "    <path d=\"M18.56 5.44l.94 2.06.94-2.06 2.06-.94-2.06-.94-.94-2.06-.94 2.06-2.06.94zm-11 1L8.5 8.5l.94-2.06 2.06-.94-2.06-.94L8.5 2.5l-.94 2.06-2.06.94zm10 10l.94 2.06.94-2.06 2.06-.94-2.06-.94-.94-2.06-.94 2.06-2.06.94z\"/><path d=\"M17.41 7.96l-1.37-1.37c-.4-.4-.92-.59-1.43-.59-.52 0-1.04.2-1.43.59L10.3 9.45l-7.72 7.72c-.78.78-.78 2.05 0 2.83L4 21.41c.39.39.9.59 1.41.59.51 0 1.02-.2 1.41-.59l7.78-7.78 2.81-2.81c.8-.78.8-2.07 0-2.86zM5.41 20L4 18.59l7.72-7.72 1.47 1.35L5.41 20z\"/>\n",
              "  </svg>\n",
              "      </button>\n",
              "      \n",
              "  <style>\n",
              "    .colab-df-container {\n",
              "      display:flex;\n",
              "      flex-wrap:wrap;\n",
              "      gap: 12px;\n",
              "    }\n",
              "\n",
              "    .colab-df-convert {\n",
              "      background-color: #E8F0FE;\n",
              "      border: none;\n",
              "      border-radius: 50%;\n",
              "      cursor: pointer;\n",
              "      display: none;\n",
              "      fill: #1967D2;\n",
              "      height: 32px;\n",
              "      padding: 0 0 0 0;\n",
              "      width: 32px;\n",
              "    }\n",
              "\n",
              "    .colab-df-convert:hover {\n",
              "      background-color: #E2EBFA;\n",
              "      box-shadow: 0px 1px 2px rgba(60, 64, 67, 0.3), 0px 1px 3px 1px rgba(60, 64, 67, 0.15);\n",
              "      fill: #174EA6;\n",
              "    }\n",
              "\n",
              "    [theme=dark] .colab-df-convert {\n",
              "      background-color: #3B4455;\n",
              "      fill: #D2E3FC;\n",
              "    }\n",
              "\n",
              "    [theme=dark] .colab-df-convert:hover {\n",
              "      background-color: #434B5C;\n",
              "      box-shadow: 0px 1px 3px 1px rgba(0, 0, 0, 0.15);\n",
              "      filter: drop-shadow(0px 1px 2px rgba(0, 0, 0, 0.3));\n",
              "      fill: #FFFFFF;\n",
              "    }\n",
              "  </style>\n",
              "\n",
              "      <script>\n",
              "        const buttonEl =\n",
              "          document.querySelector('#df-d0a404cc-1a76-4bb9-aff9-e6bb5d1c2a77 button.colab-df-convert');\n",
              "        buttonEl.style.display =\n",
              "          google.colab.kernel.accessAllowed ? 'block' : 'none';\n",
              "\n",
              "        async function convertToInteractive(key) {\n",
              "          const element = document.querySelector('#df-d0a404cc-1a76-4bb9-aff9-e6bb5d1c2a77');\n",
              "          const dataTable =\n",
              "            await google.colab.kernel.invokeFunction('convertToInteractive',\n",
              "                                                     [key], {});\n",
              "          if (!dataTable) return;\n",
              "\n",
              "          const docLinkHtml = 'Like what you see? Visit the ' +\n",
              "            '<a target=\"_blank\" href=https://colab.research.google.com/notebooks/data_table.ipynb>data table notebook</a>'\n",
              "            + ' to learn more about interactive tables.';\n",
              "          element.innerHTML = '';\n",
              "          dataTable['output_type'] = 'display_data';\n",
              "          await google.colab.output.renderOutput(dataTable, element);\n",
              "          const docLink = document.createElement('div');\n",
              "          docLink.innerHTML = docLinkHtml;\n",
              "          element.appendChild(docLink);\n",
              "        }\n",
              "      </script>\n",
              "    </div>\n",
              "  </div>\n",
              "  "
            ],
            "text/plain": [
              "          xi  ni     fi   Ni     Fi\n",
              "1      Lunes  25  0.145   25  0.145\n",
              "2     Martes  14  0.081   39  0.225\n",
              "3  Miercoles  59  0.341   98  0.566\n",
              "4     Jueves  37  0.214  135  0.780\n",
              "5    Viernes  10  0.058  145  0.838\n",
              "6     Sabado  28  0.162  173  1.000"
            ]
          },
          "metadata": {},
          "execution_count": 5
        }
      ]
    },
    {
      "cell_type": "code",
      "source": [
        "print('j) El día martes se vendieron 14 refrescos', 'El dia viernes hubó un 5.6% de las ventas', \n",
        "      'Durante la semana de lunes a jueves se vendieron 135 refrescos', 'De lunes a miercoles se hicierón el 56.6% de las ventas durante la semana', sep= '\\n')"
      ],
      "metadata": {
        "colab": {
          "base_uri": "https://localhost:8080/"
        },
        "id": "OyoxRYat9zGA",
        "outputId": "e4c31444-b0f9-42bd-99ff-f3c87c77d57a"
      },
      "execution_count": 6,
      "outputs": [
        {
          "output_type": "stream",
          "name": "stdout",
          "text": [
            "j) El día martes se vendieron 14 refrescos\n",
            "El dia viernes hubó un 5.6% de las ventas\n",
            "Durante la semana de lunes a jueves se vendieron 135 refrescos\n",
            "De lunes a miercoles se hicierón el 56.6% de las ventas durante la semana\n"
          ]
        }
      ]
    },
    {
      "cell_type": "markdown",
      "source": [
        "## **Problema II**\n",
        "---\n",
        "Suponga que un instituto técnico enfrenta problemas financieros y\n",
        "plantea un aumento en el costo de las matrículas. Es claro que ante\n",
        "un aumento del valor de la matrícula, los estudiantes que no tengan\n",
        "capacidad de pago pueden retirarse del instituto, lo que representa\n",
        "una perdida económica para este. Por esta razón es necesario que el\n",
        "instituto conozca el nivel de ingreso de los estudiantes para decidir\n",
        "sobre el aumento que no cause una deserción estudiantil.\n",
        "Con el fin de conocer el nivel de ingreso de los estudiantes, el instituto\n",
        "planteó una encuesta donde 126 estudiantes suministraron el valor de\n",
        "sus ingresos mensuales.\n",
        "\n"
      ],
      "metadata": {
        "id": "d7zSMqT65C1q"
      }
    },
    {
      "cell_type": "code",
      "source": [
        "data = [572.30,   748.10,   769.00,   839.00,   878.10,   955.50,   963.40,   965.70,   983.80,\n",
        "985.30,   1002.80,  1005.70,  1013.20,  1017.80,  1019.40,  1030.00,  1036.80,  1056.60,\n",
        "1061.20,  1067.20,  1075.70,  1081.80,  1100.80,  1102.00,  1120.70,  1127.10,  1135.40, \n",
        "1170.20,  1179.60,  1195.10,  1208.20,  1221.70,  1228.60,  1234.00,  1247.90,  1249.80,\n",
        "1272.00,  1274.70,  1299.80,  1304.00,  1312.90,  1340.80,  1350.30,  1352.90,  1374.80,\n",
        "1406.10,  1409.30,  1412.60,  1418.40,  1426.90,  1427.60,  1433.30,  1441.10,  1443.80,\n",
        "1459.50,  1460.10,  1477.60,  1484.90,  1491.70,  1500.20,  1500.60,  1500.60,  1506.40,\n",
        "1531.60,  1540.20,  1544.40,  1552.80,  1552.90,  1557.80,  1563.70,  1564.20,  1569.40,\n",
        "1581.30,  1593.40,  1594.80,  1595.20,  1605.20,  1620.60,  1626.80,  1626.80,  1648.20,\n",
        "1670.70,  1687.40,  1694.30,  1711.80,  1721.40,  1731.90,  1738.30,  1738.80,  1746.90,\n",
        "1777.90,  1817.00,  1846.70,  1851.70,  1857.50,  1891.80,  1898.10,  1901.40,  1930.80,\n",
        "1940.30,  1954.10,  1957.30,  1974.00,  1986.30,  2002.70,  2053.70,  2065.50,  2065.90,\n",
        "2107.70,  2114.00,  2120.40,  2136.80,  2212.50,  2265.80,  2273.70,  2280.20,  2297.00,\n",
        "2330.60,  2535.60,  2643.10,  2723.70,  2725.20,  2956.40,  3197.40,  3234.70,  3467.80]"
      ],
      "metadata": {
        "id": "9WknA_7lc8cX"
      },
      "execution_count": 7,
      "outputs": []
    },
    {
      "cell_type": "code",
      "source": [
        "def intervalos_clase(data_size):\n",
        "  m1 = 1+math.log(data_size, 2)\n",
        "\n",
        "  m2 = math.log(data_size)/math.log(2)\n",
        "  m3 = math.sqrt(data_size)\n",
        "  m = int(math.ceil(min([m1, m2, m3])))\n",
        "  return m, m1, m2, m3 "
      ],
      "metadata": {
        "id": "Mw-5LlKxFjiZ"
      },
      "execution_count": 8,
      "outputs": []
    },
    {
      "cell_type": "code",
      "source": [
        "m, m1, m2, m3 = intervalos_clase(len(data))\n",
        "data = pd.Series(data)\n",
        "rango = data.max() - data.min()\n",
        "amplitud =  round(rango / m, 1)\n",
        "print(f\"Número de intervalos: {m}\", f\"Amplitud: {amplitud}\", sep=\"\\n\")"
      ],
      "metadata": {
        "colab": {
          "base_uri": "https://localhost:8080/"
        },
        "id": "pg6KMfq7oMtq",
        "outputId": "d74fe1b8-f527-4476-c2bf-ba23b361e6ab"
      },
      "execution_count": 9,
      "outputs": [
        {
          "output_type": "stream",
          "name": "stdout",
          "text": [
            "Número de intervalos: 7\n",
            "Amplitud: 413.6\n"
          ]
        }
      ]
    },
    {
      "cell_type": "code",
      "source": [
        "table_frecuency = pd.DataFrame()\n",
        "xi = [round(min(data)+amplitud*i,1) for i in range(m+1) if i <= m ]\n",
        "table_frecuency['xi'] = [(xi[i],xi[i+1]) for i in range(m)]\n",
        "table_frecuency['ni'] = [data[data.between(table_frecuency['xi'][i][0], table_frecuency['xi'][i][1] )].count() for i in range(m)]\n",
        "table_frecuency['fi'] = round(table_frecuency['ni']/len(data), 3)\n",
        "table_frecuency['Ni'] = table_frecuency['ni'].cumsum()\n",
        "table_frecuency['Fi'] = round(table_frecuency['fi'].cumsum(), 3)\n",
        "table_frecuency"
      ],
      "metadata": {
        "colab": {
          "base_uri": "https://localhost:8080/",
          "height": 269
        },
        "id": "CPR0JIN_sbgL",
        "outputId": "21cf0d25-dbe1-44b0-a9e8-6d96b8a5553f"
      },
      "execution_count": 10,
      "outputs": [
        {
          "output_type": "execute_result",
          "data": {
            "text/html": [
              "\n",
              "  <div id=\"df-a88a360e-414d-4c83-ace5-33db59d5654a\">\n",
              "    <div class=\"colab-df-container\">\n",
              "      <div>\n",
              "<style scoped>\n",
              "    .dataframe tbody tr th:only-of-type {\n",
              "        vertical-align: middle;\n",
              "    }\n",
              "\n",
              "    .dataframe tbody tr th {\n",
              "        vertical-align: top;\n",
              "    }\n",
              "\n",
              "    .dataframe thead th {\n",
              "        text-align: right;\n",
              "    }\n",
              "</style>\n",
              "<table border=\"1\" class=\"dataframe\">\n",
              "  <thead>\n",
              "    <tr style=\"text-align: right;\">\n",
              "      <th></th>\n",
              "      <th>xi</th>\n",
              "      <th>ni</th>\n",
              "      <th>fi</th>\n",
              "      <th>Ni</th>\n",
              "      <th>Fi</th>\n",
              "    </tr>\n",
              "  </thead>\n",
              "  <tbody>\n",
              "    <tr>\n",
              "      <th>0</th>\n",
              "      <td>(572.3, 985.9)</td>\n",
              "      <td>10</td>\n",
              "      <td>0.079</td>\n",
              "      <td>10</td>\n",
              "      <td>0.079</td>\n",
              "    </tr>\n",
              "    <tr>\n",
              "      <th>1</th>\n",
              "      <td>(985.9, 1399.5)</td>\n",
              "      <td>35</td>\n",
              "      <td>0.278</td>\n",
              "      <td>45</td>\n",
              "      <td>0.357</td>\n",
              "    </tr>\n",
              "    <tr>\n",
              "      <th>2</th>\n",
              "      <td>(1399.5, 1813.1)</td>\n",
              "      <td>46</td>\n",
              "      <td>0.365</td>\n",
              "      <td>91</td>\n",
              "      <td>0.722</td>\n",
              "    </tr>\n",
              "    <tr>\n",
              "      <th>3</th>\n",
              "      <td>(1813.1, 2226.7)</td>\n",
              "      <td>22</td>\n",
              "      <td>0.175</td>\n",
              "      <td>113</td>\n",
              "      <td>0.897</td>\n",
              "    </tr>\n",
              "    <tr>\n",
              "      <th>4</th>\n",
              "      <td>(2226.7, 2640.3)</td>\n",
              "      <td>6</td>\n",
              "      <td>0.048</td>\n",
              "      <td>119</td>\n",
              "      <td>0.945</td>\n",
              "    </tr>\n",
              "    <tr>\n",
              "      <th>5</th>\n",
              "      <td>(2640.3, 3053.9)</td>\n",
              "      <td>4</td>\n",
              "      <td>0.032</td>\n",
              "      <td>123</td>\n",
              "      <td>0.977</td>\n",
              "    </tr>\n",
              "    <tr>\n",
              "      <th>6</th>\n",
              "      <td>(3053.9, 3467.5)</td>\n",
              "      <td>2</td>\n",
              "      <td>0.016</td>\n",
              "      <td>125</td>\n",
              "      <td>0.993</td>\n",
              "    </tr>\n",
              "  </tbody>\n",
              "</table>\n",
              "</div>\n",
              "      <button class=\"colab-df-convert\" onclick=\"convertToInteractive('df-a88a360e-414d-4c83-ace5-33db59d5654a')\"\n",
              "              title=\"Convert this dataframe to an interactive table.\"\n",
              "              style=\"display:none;\">\n",
              "        \n",
              "  <svg xmlns=\"http://www.w3.org/2000/svg\" height=\"24px\"viewBox=\"0 0 24 24\"\n",
              "       width=\"24px\">\n",
              "    <path d=\"M0 0h24v24H0V0z\" fill=\"none\"/>\n",
              "    <path d=\"M18.56 5.44l.94 2.06.94-2.06 2.06-.94-2.06-.94-.94-2.06-.94 2.06-2.06.94zm-11 1L8.5 8.5l.94-2.06 2.06-.94-2.06-.94L8.5 2.5l-.94 2.06-2.06.94zm10 10l.94 2.06.94-2.06 2.06-.94-2.06-.94-.94-2.06-.94 2.06-2.06.94z\"/><path d=\"M17.41 7.96l-1.37-1.37c-.4-.4-.92-.59-1.43-.59-.52 0-1.04.2-1.43.59L10.3 9.45l-7.72 7.72c-.78.78-.78 2.05 0 2.83L4 21.41c.39.39.9.59 1.41.59.51 0 1.02-.2 1.41-.59l7.78-7.78 2.81-2.81c.8-.78.8-2.07 0-2.86zM5.41 20L4 18.59l7.72-7.72 1.47 1.35L5.41 20z\"/>\n",
              "  </svg>\n",
              "      </button>\n",
              "      \n",
              "  <style>\n",
              "    .colab-df-container {\n",
              "      display:flex;\n",
              "      flex-wrap:wrap;\n",
              "      gap: 12px;\n",
              "    }\n",
              "\n",
              "    .colab-df-convert {\n",
              "      background-color: #E8F0FE;\n",
              "      border: none;\n",
              "      border-radius: 50%;\n",
              "      cursor: pointer;\n",
              "      display: none;\n",
              "      fill: #1967D2;\n",
              "      height: 32px;\n",
              "      padding: 0 0 0 0;\n",
              "      width: 32px;\n",
              "    }\n",
              "\n",
              "    .colab-df-convert:hover {\n",
              "      background-color: #E2EBFA;\n",
              "      box-shadow: 0px 1px 2px rgba(60, 64, 67, 0.3), 0px 1px 3px 1px rgba(60, 64, 67, 0.15);\n",
              "      fill: #174EA6;\n",
              "    }\n",
              "\n",
              "    [theme=dark] .colab-df-convert {\n",
              "      background-color: #3B4455;\n",
              "      fill: #D2E3FC;\n",
              "    }\n",
              "\n",
              "    [theme=dark] .colab-df-convert:hover {\n",
              "      background-color: #434B5C;\n",
              "      box-shadow: 0px 1px 3px 1px rgba(0, 0, 0, 0.15);\n",
              "      filter: drop-shadow(0px 1px 2px rgba(0, 0, 0, 0.3));\n",
              "      fill: #FFFFFF;\n",
              "    }\n",
              "  </style>\n",
              "\n",
              "      <script>\n",
              "        const buttonEl =\n",
              "          document.querySelector('#df-a88a360e-414d-4c83-ace5-33db59d5654a button.colab-df-convert');\n",
              "        buttonEl.style.display =\n",
              "          google.colab.kernel.accessAllowed ? 'block' : 'none';\n",
              "\n",
              "        async function convertToInteractive(key) {\n",
              "          const element = document.querySelector('#df-a88a360e-414d-4c83-ace5-33db59d5654a');\n",
              "          const dataTable =\n",
              "            await google.colab.kernel.invokeFunction('convertToInteractive',\n",
              "                                                     [key], {});\n",
              "          if (!dataTable) return;\n",
              "\n",
              "          const docLinkHtml = 'Like what you see? Visit the ' +\n",
              "            '<a target=\"_blank\" href=https://colab.research.google.com/notebooks/data_table.ipynb>data table notebook</a>'\n",
              "            + ' to learn more about interactive tables.';\n",
              "          element.innerHTML = '';\n",
              "          dataTable['output_type'] = 'display_data';\n",
              "          await google.colab.output.renderOutput(dataTable, element);\n",
              "          const docLink = document.createElement('div');\n",
              "          docLink.innerHTML = docLinkHtml;\n",
              "          element.appendChild(docLink);\n",
              "        }\n",
              "      </script>\n",
              "    </div>\n",
              "  </div>\n",
              "  "
            ],
            "text/plain": [
              "                 xi  ni     fi   Ni     Fi\n",
              "0    (572.3, 985.9)  10  0.079   10  0.079\n",
              "1   (985.9, 1399.5)  35  0.278   45  0.357\n",
              "2  (1399.5, 1813.1)  46  0.365   91  0.722\n",
              "3  (1813.1, 2226.7)  22  0.175  113  0.897\n",
              "4  (2226.7, 2640.3)   6  0.048  119  0.945\n",
              "5  (2640.3, 3053.9)   4  0.032  123  0.977\n",
              "6  (3053.9, 3467.5)   2  0.016  125  0.993"
            ]
          },
          "metadata": {},
          "execution_count": 10
        }
      ]
    },
    {
      "cell_type": "markdown",
      "source": [
        "¿Cómo se interpreta f3?\n",
        "- El 17.5% % de los estudiantes tiene un ingreso mensual entre $ 1'813.100, y 2'226.700\n",
        "\n",
        "¿Cómo se interpreta N4?\n",
        "- 119 estudiantes tienen un ingreso mensual e inferior a 2640.300"
      ],
      "metadata": {
        "id": "nZZQ1AXx84E8"
      }
    },
    {
      "cell_type": "markdown",
      "source": [
        "El instituto conoce que con el aumento los estudiantes con ingresos\n",
        "superiores a $2’000.000 no tendrán dificultad para pagar el costo de\n",
        "la nueva matrícula, entonces sería bueno determinar, a partir de los\n",
        "resultados de la muestra, cuantos de estos estudiantes pueden ayudar\n",
        "a los directivos del instituto a prever los efectos del aumento."
      ],
      "metadata": {
        "id": "YoHOk8ZO_vzK"
      }
    },
    {
      "cell_type": "markdown",
      "source": [
        "La función empírica de distribución acumulativa describe de forma general, para cualquier $x$, el porcentaje de datos que son menores o iguales que $x$. Se denota por $F(x)$ y se plantea como: \n",
        "\n",
        "$F(x) = F(L_i) + \\frac{f_i}{c}(x-L_{i-1})$\n"
      ],
      "metadata": {
        "id": "9hFgsMAeHpbf"
      }
    },
    {
      "cell_type": "code",
      "source": [
        "fig, ax = plt.subplots(figsize = (8, 6))\n",
        "fig.suptitle('Frecuencia Acumulada de Ingresos', fontsize = 15)\n",
        "ax.plot(table_frecuency['Fi'], marker='o', color='blue', mfc='r', mec='r')\n",
        "ax.set_ylabel('Fi',size = 12)\n",
        "ax.set_xlabel('Ingresos', size = 12)\n",
        "ax.set_xticklabels(['']+[table_frecuency['xi'][i][0] for i in range(m)],fontsize = 12, rotation=90)\n",
        "plt.show()"
      ],
      "metadata": {
        "colab": {
          "base_uri": "https://localhost:8080/",
          "height": 469
        },
        "id": "ELOBjyee4xAD",
        "outputId": "4e966edd-110e-4519-b011-afaf9056fd10"
      },
      "execution_count": 139,
      "outputs": [
        {
          "output_type": "display_data",
          "data": {
            "image/png": "[encoded data removed]",
            "text/plain": [
              "<Figure size 576x432 with 1 Axes>"
            ]
          },
          "metadata": {}
        }
      ]
    }
  ]
}